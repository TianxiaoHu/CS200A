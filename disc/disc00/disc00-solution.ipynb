{
 "cells": [
  {
   "cell_type": "markdown",
   "metadata": {
    "nbgrader": {
     "grade": false,
     "grade_id": "cell-72b8b977664e17a3",
     "locked": true,
     "schema_version": 2,
     "solution": false
    }
   },
   "source": [
    "# Discussion 0\n",
    "\n",
    "This is the first (or 0th) discussion of Data 100. It covers basic Python, calculus, and probability concepts. "
   ]
  },
  {
   "cell_type": "markdown",
   "metadata": {
    "nbgrader": {
     "grade": false,
     "grade_id": "cell-e5b05d5a4bbf53ca",
     "locked": true,
     "schema_version": 2,
     "solution": false
    }
   },
   "source": [
    "## Question 1\n",
    "\n",
    "For this question, write your answer on paper.\n",
    "\n",
    "### Part A\n",
    "\n",
    "Find the value of $x$ that minimizes the function $f(x) = x^2 + 4x + 4$.\n"
   ]
  },
  {
   "cell_type": "markdown",
   "metadata": {
    "nbgrader": {
     "grade": true,
     "grade_id": "cell-d126d5df48b2218e",
     "locked": false,
     "points": 0,
     "schema_version": 2,
     "solution": true
    }
   },
   "source": [
    "We first set the derivative equal to 0 and solve for $x$.\n",
    "\n",
    "$$\\frac{d}{dx} f(x) = 2x + 4$$\n",
    "\n",
    "$$2x + 4 = 0$$\n",
    "\n",
    "$$x = -2$$\n",
    "\n",
    "We make sure the second derivative is positive (shows that the curve is convex) to verify that this is indeed a minimum:\n",
    "\n",
    "$$\\frac{d^2}{dx^2} f(x) = 2$$ \n",
    "\n",
    "Since the second derivative is positive, we know that $x = -2$ is a minimum.\n"
   ]
  },
  {
   "cell_type": "markdown",
   "metadata": {},
   "source": [
    "### Part B\n",
    "\n",
    "Calculate the partial derivative of the following expression with respect to $x$.\n",
    "\n",
    "$$f(x, y) = xy + \\sin(x^2y) + \\ln(x^3y)$$\n",
    "\n",
    "**Note**: The partial derivative of a function with respect to a variable `x` involves taking the derivative of the function with respect to ``x`` while holding all other variables constant.\n"
   ]
  },
  {
   "cell_type": "markdown",
   "metadata": {
    "nbgrader": {
     "grade": true,
     "grade_id": "cell-32ccafc40f19f143",
     "locked": false,
     "points": 0,
     "schema_version": 2,
     "solution": true
    }
   },
   "source": [
    "$$f(x, y) = xy + \\sin(x^2y) + 3\\ln(x) + \\ln(y)$$\n",
    "\n",
    "$$\\frac{\\partial}{\\partial x} f(x, y) = y + 2xy\\cos(x^2y) + \\frac{3}{x}$$\n"
   ]
  },
  {
   "cell_type": "markdown",
   "metadata": {},
   "source": [
    "### Part C\n",
    "\n",
    "Now, calculate the partial derivative of the experssion with respect to $y$."
   ]
  },
  {
   "cell_type": "markdown",
   "metadata": {
    "nbgrader": {
     "grade": true,
     "grade_id": "cell-d28d0c3606c88e50",
     "locked": false,
     "points": 0,
     "schema_version": 2,
     "solution": true
    }
   },
   "source": [
    "$$f(x, y) = xy + \\sin(x^2y) + 3\\ln(x) + \\ln(y)$$\n",
    "\n",
    "$$\\frac{\\partial}{\\partial y} f(x, y) = x + x^2\\cos(x^2y) + \\frac{1}{y}$$\n"
   ]
  },
  {
   "cell_type": "markdown",
   "metadata": {},
   "source": [
    "## Question 2\n",
    "\n",
    "For this question, write your answer on paper.\n",
    "\n",
    "**Are you smarter than a doctor? ONLY 46% OF DOCTORS GOT THIS QUESTION RIGHT.**\n",
    "\n",
    "100 out of 10,000 women at age forty who participate in routine screening have breast cancer. 80 of those 100 women with breast cancer test positive. 950 out of 9,900 women without breast cancer also test positive. If 10,000 women in this age group undergo a routine screening, about what fraction of these women with positive tests will actually have breast cancer?"
   ]
  },
  {
   "cell_type": "markdown",
   "metadata": {
    "nbgrader": {
     "grade": true,
     "grade_id": "cell-55b0f98a0de33933",
     "locked": false,
     "points": 0,
     "schema_version": 2,
     "solution": true
    }
   },
   "source": [
    "Always begin by figuring out what you want to know. In this case, we want to know what fraction (or percentage) of the women with positive tests actually have breast cancer.\n",
    "\n",
    "First, let’s figure out how many women have positive tests. That’s the denominator of our fraction.\n",
    "\n",
    "The story above says that 950 of the 9,900 that do not have breast cancer will test positive. So that’s 950 women with a positive test result right there.\n",
    "\n",
    "The story also says that 80 out of the 100 women who do have breast cancer will get a positive test result. So that’s another 80 women, and 950 + 80 = 1,030 women with a positive test result.\n",
    "\n",
    "Good. We've got half our fraction. Now, how do we find the numerator? How many of those 1,030 women with a positive test result actually have breast cancer?\n",
    "\n",
    "Well, the story says that 80 of the 100 women with breast cancer will get a positive test result, so 80 is our numerator.\n",
    "\n",
    "The fraction of women with positive test results who actually have breast cancer is 80/1,030, which is a probability of .078, which is 7.8%.\n",
    "\n",
    "So if one of these 40-year-old women tested positive, and the doctor knew the above statistics, then the doctor should tell the woman she has only a 7.8% chance of having breast cancer, even though she had a positive mammography. That’s much less stressful for the woman than if the doctor had told her she had a 70%-80% chance of having breast cancer like most doctors from 1976 apparently would!\n"
   ]
  },
  {
   "cell_type": "markdown",
   "metadata": {
    "nbgrader": {
     "grade": false,
     "grade_id": "cell-32ba5ce5b5f93e35",
     "locked": true,
     "schema_version": 2,
     "solution": false
    }
   },
   "source": [
    "## Question 3\n",
    "\n",
    "Suppose we have the following list `lst` and array `arr`."
   ]
  },
  {
   "cell_type": "code",
   "execution_count": null,
   "metadata": {},
   "outputs": [],
   "source": [
    "import numpy as np\n",
    "arr = np.arange(5)\n",
    "lst = list(range(5))"
   ]
  },
  {
   "cell_type": "code",
   "execution_count": null,
   "metadata": {},
   "outputs": [],
   "source": [
    "arr"
   ]
  },
  {
   "cell_type": "code",
   "execution_count": null,
   "metadata": {},
   "outputs": [],
   "source": [
    "lst"
   ]
  },
  {
   "cell_type": "markdown",
   "metadata": {},
   "source": [
    "What will be the output of the following lines of Python/Numpy code? Try to predict the output before running the cell."
   ]
  },
  {
   "cell_type": "code",
   "execution_count": null,
   "metadata": {},
   "outputs": [],
   "source": [
    "arr + 5"
   ]
  },
  {
   "cell_type": "code",
   "execution_count": null,
   "metadata": {},
   "outputs": [],
   "source": [
    "lst + 5"
   ]
  },
  {
   "cell_type": "code",
   "execution_count": null,
   "metadata": {},
   "outputs": [],
   "source": [
    "arr * 2"
   ]
  },
  {
   "cell_type": "code",
   "execution_count": null,
   "metadata": {},
   "outputs": [],
   "source": [
    "lst * 2"
   ]
  },
  {
   "cell_type": "markdown",
   "metadata": {
    "nbgrader": {
     "grade": false,
     "grade_id": "cell-13e40a1399707439",
     "locked": true,
     "schema_version": 2,
     "solution": false
    }
   },
   "source": [
    "## Question 4\n",
    "\n",
    "***Note:*** The line `raise NotImplementedError()` indicates that the implementation still needs to be added. This is an exception derived from `RuntimeError`. Please comment out that line when you have implemented the function.\n",
    "\n",
    "\n",
    "### Part A\n",
    "\n",
    "Write a function that returns a list of numbers such that $ x_i=i^2 $ for $1\\leq i \\leq n$. Don't worry about the case where $n \\leq 0$."
   ]
  },
  {
   "cell_type": "code",
   "execution_count": null,
   "metadata": {
    "nbgrader": {
     "grade": false,
     "grade_id": "cell-9388c587d0e639ff",
     "locked": false,
     "schema_version": 2,
     "solution": true
    }
   },
   "outputs": [],
   "source": [
    "def squares(n):\n",
    "    \"\"\"Compute the squares of numbers from 1 to n such that the ith element of the returned list equals i^2.\"\"\"\n",
    "    ### BEGIN SOLUTION\n",
    "    if n < 1:\n",
    "        raise ValueError(\"n must be greater than or equal to 1\")\n",
    "    return [i ** 2 for i in range(1, n + 1)]\n",
    "    ### END SOLUTION"
   ]
  },
  {
   "cell_type": "markdown",
   "metadata": {
    "nbgrader": {
     "grade": false,
     "grade_id": "cell-b8e3b9b11b0f764c",
     "locked": true,
     "schema_version": 2,
     "solution": false
    }
   },
   "source": [
    "Your function should print `[1, 4, 9, 16, 25, 36, 49, 64, 81, 100]` for $n=10$.  \n",
    "Check that it does:"
   ]
  },
  {
   "cell_type": "code",
   "execution_count": null,
   "metadata": {},
   "outputs": [],
   "source": [
    "squares(10)"
   ]
  },
  {
   "cell_type": "markdown",
   "metadata": {
    "nbgrader": {
     "grade": false,
     "grade_id": "cell-5beb02bc07017f6f",
     "locked": true,
     "schema_version": 2,
     "solution": false
    }
   },
   "source": [
    "Check that squares returns the correct output for several inputs."
   ]
  },
  {
   "cell_type": "code",
   "execution_count": null,
   "metadata": {
    "nbgrader": {
     "grade": true,
     "grade_id": "squares-tests",
     "locked": true,
     "points": 0,
     "schema_version": 2,
     "solution": false
    }
   },
   "outputs": [],
   "source": [
    "assert squares(1) == [1]\n",
    "assert squares(2) == [1, 4]\n",
    "assert squares(10) == [1, 4, 9, 16, 25, 36, 49, 64, 81, 100]\n",
    "assert squares(11) == [1, 4, 9, 16, 25, 36, 49, 64, 81, 100, 121]"
   ]
  },
  {
   "cell_type": "markdown",
   "metadata": {
    "nbgrader": {
     "grade": false,
     "grade_id": "cell-6d8df81ad0bd073a",
     "locked": true,
     "schema_version": 2,
     "solution": false
    }
   },
   "source": [
    "### Part B\n",
    "\n",
    "Evaluate the following summation (you may use code):\n",
    "\n",
    "$$\\sum_{i=1}^{100} i^3 + 3 i^2$$"
   ]
  },
  {
   "cell_type": "code",
   "execution_count": null,
   "metadata": {
    "nbgrader": {
     "grade": false,
     "grade_id": "cell-e0447d4ce1ef9176",
     "locked": false,
     "schema_version": 2,
     "solution": true
    }
   },
   "outputs": [],
   "source": [
    "### BEGIN SOLUTION\n",
    "q2b_sum = sum([i ** 3 + 3 * i ** 2 for i in range(1, 101)])\n",
    "### END SOLUTION\n",
    "q2b_sum = ..."
   ]
  },
  {
   "cell_type": "markdown",
   "metadata": {
    "nbgrader": {
     "grade": false,
     "grade_id": "cell-b962e4bc590df951",
     "locked": true,
     "schema_version": 2,
     "solution": false
    }
   },
   "source": [
    "Check that your sum is correct."
   ]
  },
  {
   "cell_type": "code",
   "execution_count": null,
   "metadata": {
    "nbgrader": {
     "grade": false,
     "grade_id": "cell-38ebc2cbfb9b130c",
     "locked": true,
     "schema_version": 2,
     "solution": false
    }
   },
   "outputs": [],
   "source": [
    "assert q2b_sum == 26517550"
   ]
  },
  {
   "cell_type": "markdown",
   "metadata": {
    "nbgrader": {
     "grade": false,
     "grade_id": "cell-be7cebac927b3f1a",
     "locked": true,
     "schema_version": 2,
     "solution": false
    }
   },
   "source": [
    "### Part C\n",
    "\n",
    "Write a function `map_func` that will implement mapping and filtering on a list of values `list_vals`. This function will also take in a parameter `mapper`, which takes an input `x` and maps that value to a new value of the same type. The last parameter `filter_func` takes an input `y` and returns a boolean value based on if `y` satifies a certain condtion. In short, `map_func` should return a list of values from `n` that satisfy the condition established by `filter_func`.\n",
    "\n",
    "**Note**: If you want to see examples of map_func used, look at the tests below."
   ]
  },
  {
   "cell_type": "code",
   "execution_count": null,
   "metadata": {
    "nbgrader": {
     "grade": false,
     "grade_id": "cell-c2f4ccfbf9d99081",
     "locked": false,
     "schema_version": 2,
     "solution": true
    }
   },
   "outputs": [],
   "source": [
    "def map_func(list_vals, mapper, filter_func):\n",
    "    \"\"\"Maps and filters the input list n based on the condition established by the input param filter_func. Return a list \n",
    "    containing elements of n that filter_func returns true on.\"\"\"\n",
    "    ### BEGIN SOLUTION\n",
    "    return [mapper(i) for i in list_vals if filter_func(i)]\n",
    "    ### END SOLUTION"
   ]
  },
  {
   "cell_type": "markdown",
   "metadata": {
    "nbgrader": {
     "grade": false,
     "grade_id": "cell-6a32941d0d794e00",
     "locked": true,
     "schema_version": 2,
     "solution": false
    }
   },
   "source": [
    "Check that `map_func` returns the correct output for several inputs."
   ]
  },
  {
   "cell_type": "code",
   "execution_count": null,
   "metadata": {
    "nbgrader": {
     "grade": false,
     "grade_id": "cell-b8fe98d2427e17ea",
     "locked": true,
     "schema_version": 2,
     "solution": false
    }
   },
   "outputs": [],
   "source": [
    "assert map_func([1, 2, 3], lambda x: x*2, lambda x: x > 1) == [4, 6]\n",
    "assert map_func([], lambda x: x*1000, lambda x: x > -10) == []\n",
    "assert map_func([\"piglet\", \"gavin\", \"jim\", \"andy\"], lambda x: x[:0:-1], lambda x: len(x) < 6) == [\"niva\", \"mi\", \"ydn\"]"
   ]
  },
  {
   "cell_type": "markdown",
   "metadata": {
    "nbgrader": {
     "grade": false,
     "grade_id": "cell-262690d3399a01a6",
     "locked": true,
     "schema_version": 2,
     "solution": false
    }
   },
   "source": [
    "## Question 5\n",
    "\n",
    "### Part A\n",
    "\n",
    "Write a function which takes in a string and returns `True` if the string is a palindrome. (A string is a palindrome if it is the same forwards and backwards.)"
   ]
  },
  {
   "cell_type": "code",
   "execution_count": null,
   "metadata": {
    "nbgrader": {
     "grade": false,
     "grade_id": "cell-b1fa3ce3a6566fbc",
     "locked": false,
     "schema_version": 2,
     "solution": true
    }
   },
   "outputs": [],
   "source": [
    "def is_palindrome(word):\n",
    "    \"\"\"Return True if word is a palindrome.\"\"\"\n",
    "    ### BEGIN SOLUTION\n",
    "    if len(word) <= 1:\n",
    "        return True\n",
    "    return word[0] == word[-1] and is_palindrome(word[1:-1])\n",
    "    ### END SOLUTION"
   ]
  },
  {
   "cell_type": "markdown",
   "metadata": {
    "nbgrader": {
     "grade": false,
     "grade_id": "cell-8511ab6086312dfb",
     "locked": true,
     "schema_version": 2,
     "solution": false
    }
   },
   "source": [
    "Your function should return true for \"racecar\"."
   ]
  },
  {
   "cell_type": "code",
   "execution_count": null,
   "metadata": {},
   "outputs": [],
   "source": [
    "is_palindrome(\"racecar\")"
   ]
  },
  {
   "cell_type": "markdown",
   "metadata": {
    "nbgrader": {
     "grade": false,
     "grade_id": "cell-a8e600015df76fb8",
     "locked": true,
     "schema_version": 2,
     "solution": false
    }
   },
   "source": [
    "Check that the function works for several inputs."
   ]
  },
  {
   "cell_type": "code",
   "execution_count": null,
   "metadata": {
    "nbgrader": {
     "grade": true,
     "grade_id": "test-is-palindrome",
     "locked": true,
     "points": 0,
     "schema_version": 2,
     "solution": false
    }
   },
   "outputs": [],
   "source": [
    "assert is_palindrome(\"aviddiva\") == True\n",
    "assert is_palindrome(\"clearlynotapalindrome\") == False\n",
    "assert is_palindrome(\"kayak\") == True\n",
    "assert is_palindrome(\"ab\") == False\n",
    "assert is_palindrome(\"abb\") == False\n",
    "assert is_palindrome(\"a\") == True"
   ]
  },
  {
   "cell_type": "markdown",
   "metadata": {
    "nbgrader": {
     "grade": false,
     "grade_id": "cell-5fa8405d55ebbb2f",
     "locked": true,
     "schema_version": 2,
     "solution": false
    }
   },
   "source": [
    "### Part B\n",
    "\n",
    "Write a function that flattens a nested Python list."
   ]
  },
  {
   "cell_type": "code",
   "execution_count": null,
   "metadata": {
    "nbgrader": {
     "grade": false,
     "grade_id": "cell-0335b7d85baac809",
     "locked": false,
     "schema_version": 2,
     "solution": true
    }
   },
   "outputs": [],
   "source": [
    "def flatten(lst):\n",
    "    \"\"\"Flattens the input list lst so that there are no nested lists.\"\"\"\n",
    "    ### BEGIN SOLUTION\n",
    "    if len(lst) == 0:\n",
    "        return lst\n",
    "    if type(lst[0]) == list:\n",
    "        return flatten(lst[0]) + flatten(lst[1:])\n",
    "    return lst[:1] + flatten(lst[1:])\n",
    "    ### END SOLUTION"
   ]
  },
  {
   "cell_type": "markdown",
   "metadata": {
    "nbgrader": {
     "grade": false,
     "grade_id": "cell-142965116e9218f3",
     "locked": true,
     "schema_version": 2,
     "solution": false
    }
   },
   "source": [
    "Check that the function works for several inputs."
   ]
  },
  {
   "cell_type": "code",
   "execution_count": null,
   "metadata": {
    "nbgrader": {
     "grade": false,
     "grade_id": "cell-d632d0da21836b98",
     "locked": true,
     "schema_version": 2,
     "solution": false
    }
   },
   "outputs": [],
   "source": [
    "assert flatten([1, 2, 3]) == [1, 2, 3]\n",
    "assert flatten([1, 2, [3, 4]]) == [1, 2, 3, 4]\n",
    "assert flatten([1, 2, [3, [4]], 5]) == [1, 2, 3, 4, 5]\n",
    "assert flatten([1, 2, [3, [4]], [5, [[6]]]]) == [1, 2, 3, 4, 5, 6]\n",
    "assert flatten([1, 2, [3, [[4]]], [5, [[6]]], [[[7]]]]) == [1, 2, 3, 4, 5, 6, 7]"
   ]
  },
  {
   "cell_type": "markdown",
   "metadata": {
    "nbgrader": {
     "grade": false,
     "grade_id": "cell-8759283527dcb7f7",
     "locked": true,
     "schema_version": 2,
     "solution": false
    }
   },
   "source": [
    "Although there is no built-in `flatten` function for Python lists, numpy arrays have a `flatten` method that can be used to flatten an array. For example, to flatten a numpy array `arr` we would call `arr.flatten()`.\n"
   ]
  }
 ],
 "metadata": {
  "celltoolbar": "Create Assignment",
  "kernelspec": {
   "display_name": "Python 3",
   "language": "python",
   "name": "python3"
  },
  "language_info": {
   "codemirror_mode": {
    "name": "ipython",
    "version": 3
   },
   "file_extension": ".py",
   "mimetype": "text/x-python",
   "name": "python",
   "nbconvert_exporter": "python",
   "pygments_lexer": "ipython3"
  },
  "toc": {
   "colors": {
    "hover_highlight": "#DAA520",
    "running_highlight": "#FF0000",
    "selected_highlight": "#FFD700"
   },
   "moveMenuLeft": true,
   "nav_menu": {
    "height": "156px",
    "width": "252px"
   },
   "navigate_menu": true,
   "number_sections": true,
   "sideBar": true,
   "threshold": 4,
   "toc_cell": true,
   "toc_section_display": "block",
   "toc_window_display": true
  }
 },
 "nbformat": 4,
 "nbformat_minor": 2
}
