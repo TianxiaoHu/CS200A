{
 "cells": [
  {
   "cell_type": "markdown",
   "metadata": {},
   "source": [
    "Before you turn in the homework, make sure everything runs as expected. To do so, select **Kernel**$\\rightarrow$**Restart & Run All** in the toolbar above.  Remember to submit both on **DataHub** and **Gradescope**.\n",
    "\n",
    "Please fill in your name and include a list of your collaborators below."
   ]
  },
  {
   "cell_type": "code",
   "execution_count": null,
   "metadata": {},
   "outputs": [],
   "source": [
    "NAME = \"Tianxiao Hu\"\n",
    "COLLABORATORS = \"\""
   ]
  },
  {
   "cell_type": "markdown",
   "metadata": {},
   "source": [
    "---"
   ]
  },
  {
   "cell_type": "markdown",
   "metadata": {
    "deletable": false,
    "editable": false,
    "nbgrader": {
     "cell_type": "markdown",
     "checksum": "b7834a0737ac323274a21e920635e2cd",
     "grade": false,
     "grade_id": "cell-776bdcdaa31aa0dd",
     "locked": true,
     "schema_version": 2,
     "solution": false
    }
   },
   "source": [
    "# Project 2: NYC Taxi Rides\n",
    "# Part 3: NYC Accidents Data\n",
    "\n",
    "In the real world, data isn't always nicely bundled in one file; data can be sourced from many places with many formats. Now we will use NYC accident data to try to improve our set of features.\n",
    "\n",
    "In this part of the project, you'll do some EDA over the combined data set. We'll do a lot of the coding work for you, but there will be a few coding subtasks for you to complete on your own, as well as many results to interpret."
   ]
  },
  {
   "cell_type": "markdown",
   "metadata": {
    "deletable": false,
    "editable": false,
    "nbgrader": {
     "cell_type": "markdown",
     "checksum": "6d8ffb06a0892f1620c4bd3b8f6a7400",
     "grade": false,
     "grade_id": "cell-b13ab150ad8bdb0b",
     "locked": true,
     "schema_version": 2,
     "solution": false
    }
   },
   "source": [
    "### Note\n",
    "If your kernel dies unexpectedly, make sure you have shutdown all other notebooks. Each notebook uses valuable memory which we will need for this part of the project."
   ]
  },
  {
   "cell_type": "markdown",
   "metadata": {
    "deletable": false,
    "editable": false,
    "nbgrader": {
     "cell_type": "markdown",
     "checksum": "05437286b2def4a205758bee6498ff4f",
     "grade": false,
     "grade_id": "cell-007c385238a61963",
     "locked": true,
     "schema_version": 2,
     "solution": false
    }
   },
   "source": [
    "# Imports\n",
    "\n",
    "Let us start by loading the Python libraries and custom tools we will use in this part.  "
   ]
  },
  {
   "cell_type": "code",
   "execution_count": null,
   "metadata": {
    "deletable": false,
    "editable": false,
    "nbgrader": {
     "cell_type": "code",
     "checksum": "5289c963148ead2314a0078ffa11ecd8",
     "grade": false,
     "grade_id": "cell-91e2a5cbad6e67c3",
     "locked": true,
     "schema_version": 2,
     "solution": false
    }
   },
   "outputs": [],
   "source": [
    "import pandas as pd\n",
    "import numpy as np\n",
    "import matplotlib.pyplot as plt\n",
    "import seaborn as sns\n",
    "import zipfile\n",
    "import os\n",
    "from pathlib import Path\n",
    "\n",
    "sns.set(style=\"whitegrid\", palette=\"muted\")\n",
    "\n",
    "plt.rcParams['figure.figsize'] = (12, 9)\n",
    "plt.rcParams['font.size'] = 12\n",
    "\n",
    "%matplotlib inline"
   ]
  },
  {
   "cell_type": "markdown",
   "metadata": {
    "deletable": false,
    "editable": false,
    "nbgrader": {
     "cell_type": "markdown",
     "checksum": "ed06f98aba134a400619d94995257686",
     "grade": false,
     "grade_id": "cell-f60f7c0da1f9d7d6",
     "locked": true,
     "schema_version": 2,
     "solution": false
    }
   },
   "source": [
    "## Downloading the Data"
   ]
  },
  {
   "cell_type": "markdown",
   "metadata": {
    "deletable": false,
    "editable": false,
    "nbgrader": {
     "cell_type": "markdown",
     "checksum": "54a598c411689a2ab6ddbbbb4216b5dd",
     "grade": false,
     "grade_id": "cell-d46c5a978dfbebb1",
     "locked": true,
     "schema_version": 2,
     "solution": false
    }
   },
   "source": [
    "We will use the `fetch_and_cache` utility to download the dataset."
   ]
  },
  {
   "cell_type": "code",
   "execution_count": null,
   "metadata": {
    "deletable": false,
    "editable": false,
    "nbgrader": {
     "cell_type": "code",
     "checksum": "108e6f908f3e48153c2cd6247a3ae208",
     "grade": false,
     "grade_id": "cell-d62a092428a894db",
     "locked": true,
     "schema_version": 2,
     "solution": false
    }
   },
   "outputs": [],
   "source": [
    "# Download and cache urls and get the file objects.\n",
    "from utils import fetch_and_cache\n",
    "data_url = 'https://github.com/DS-100/fa18/raw/gh-pages/assets/datasets/collisions.zip'\n",
    "file_name = 'collisions.zip'\n",
    "dest_path = fetch_and_cache(data_url=data_url, file=file_name)\n",
    "\n",
    "print(f'Located at {dest_path}')"
   ]
  },
  {
   "cell_type": "markdown",
   "metadata": {
    "deletable": false,
    "editable": false,
    "nbgrader": {
     "cell_type": "markdown",
     "checksum": "5ec44a9fdb246ababc658cfcd202b743",
     "grade": false,
     "grade_id": "cell-d8cc3d3fdd94c4b2",
     "locked": true,
     "schema_version": 2,
     "solution": false
    }
   },
   "source": [
    "We will store the taxi data locally before loading it."
   ]
  },
  {
   "cell_type": "code",
   "execution_count": null,
   "metadata": {
    "deletable": false,
    "editable": false,
    "nbgrader": {
     "cell_type": "code",
     "checksum": "1607af39e2bf0920fab0d7e49096e576",
     "grade": false,
     "grade_id": "cell-e4ae743921f5e51f",
     "locked": true,
     "schema_version": 2,
     "solution": false
    }
   },
   "outputs": [],
   "source": [
    "collisions_zip = zipfile.ZipFile(dest_path, 'r')\n",
    "\n",
    "#Extract zip files \n",
    "collisions_dir = Path('data/collisions')\n",
    "collisions_zip.extractall(collisions_dir)"
   ]
  },
  {
   "cell_type": "markdown",
   "metadata": {
    "deletable": false,
    "editable": false,
    "nbgrader": {
     "cell_type": "markdown",
     "checksum": "75e7b7db6cb5eccd3d8348fdd462b259",
     "grade": false,
     "grade_id": "cell-46f5a16d85f1b371",
     "locked": true,
     "schema_version": 2,
     "solution": false
    }
   },
   "source": [
    "## Loading and Formatting Data \n",
    "\n",
    "The following code loads the collisions data into a Pandas DataFrame."
   ]
  },
  {
   "cell_type": "code",
   "execution_count": null,
   "metadata": {
    "deletable": false,
    "editable": false,
    "nbgrader": {
     "cell_type": "code",
     "checksum": "91c46d759616ca386a8f400fb4ca79ed",
     "grade": false,
     "grade_id": "cell-2e49f7dd2695a0e9",
     "locked": true,
     "schema_version": 2,
     "solution": false
    }
   },
   "outputs": [],
   "source": [
    "# Run this cell to load the collisions data. \n",
    "skiprows = None\n",
    "collisions = pd.read_csv(collisions_dir/'collisions_2016.csv', index_col='UNIQUE KEY', \n",
    "                         parse_dates={'DATETIME':[\"DATE\",\"TIME\"]}, skiprows=skiprows)\n",
    "collisions['TIME'] = pd.to_datetime(collisions['DATETIME']).dt.hour\n",
    "collisions['DATE'] = pd.to_datetime(collisions['DATETIME']).dt.date\n",
    "collisions = collisions.dropna(subset=['LATITUDE', 'LONGITUDE'])\n",
    "collisions = collisions[collisions['LATITUDE'] <= 40.85]\n",
    "collisions = collisions[collisions['LATITUDE'] >= 40.63]\n",
    "collisions = collisions[collisions['LONGITUDE'] <= -73.65]\n",
    "collisions = collisions[collisions['LONGITUDE'] >= -74.03]\n",
    "collisions.info()"
   ]
  },
  {
   "cell_type": "markdown",
   "metadata": {
    "deletable": false,
    "editable": false,
    "nbgrader": {
     "cell_type": "markdown",
     "checksum": "d3d750e477ae6813418bb8c58141486d",
     "grade": false,
     "grade_id": "cell-37d0427272f4c6c3",
     "locked": true,
     "schema_version": 2,
     "solution": false
    }
   },
   "source": [
    "## 1: EDA of Accidents\n",
    "\n",
    "Let's start by plotting the latitude and longitude where accidents occur. This may give us some insight on taxi ride durations. We sample N times (given) from the collisions dataset and create a 2D KDE plot of the longitude and latitude. We make sure to set the x and y limits according to the boundaries of New York, given below.\n",
    "\n",
    "Here is a [map of Manhattan](https://www.google.com/maps/place/Manhattan,+New+York,+NY/@40.7590402,-74.0394431,12z/data=!3m1!4b1!4m5!3m4!1s0x89c2588f046ee661:0xa0b3281fcecc08c!8m2!3d40.7830603!4d-73.9712488) for your convenience."
   ]
  },
  {
   "cell_type": "code",
   "execution_count": null,
   "metadata": {
    "deletable": false,
    "editable": false,
    "nbgrader": {
     "cell_type": "code",
     "checksum": "501426c36aecd75b0738bb7f7386840b",
     "grade": false,
     "grade_id": "accidents-distribution",
     "locked": true,
     "schema_version": 2,
     "solution": false
    }
   },
   "outputs": [],
   "source": [
    "# Plot lat/lon of accidents, will take a few seconds\n",
    "N = 20000\n",
    "city_long_border = (-74.03, -73.75)\n",
    "city_lat_border = (40.63, 40.85)\n",
    "\n",
    "sample = collisions.sample(N)\n",
    "plt.figure(figsize=(6,8))\n",
    "sns.kdeplot(sample[\"LONGITUDE\"], sample[\"LATITUDE\"], shade=True)\n",
    "plt.xlim(city_long_border)\n",
    "plt.ylim(city_lat_border)\n",
    "plt.xlabel(\"Longitude\")\n",
    "plt.ylabel(\"Latitude\")\n",
    "plt.title(\"Accidents Distribution\")\n",
    "plt.show();"
   ]
  },
  {
   "cell_type": "markdown",
   "metadata": {
    "deletable": false,
    "editable": false,
    "nbgrader": {
     "cell_type": "markdown",
     "checksum": "17e50cefa98fb9b354a94b2ec67c652b",
     "grade": false,
     "grade_id": "q1a",
     "locked": true,
     "schema_version": 2,
     "solution": false
    }
   },
   "source": [
    "### Question 1a\n",
    "What can you say about the location density of NYC collisions based on the plot above?\n",
    "\n",
    "**Hint: Here is a [page](https://www.google.com/maps/place/Manhattan,+New+York,+NY/@40.7590402,-74.0394431,12z/data=!3m1!4b1!4m5!3m4!1s0x89c2588f046ee661:0xa0b3281fcecc08c!8m2!3d40.7830603!4d-73.9712488) that may be useful, and [another page](https://www.6sqft.com/what-nycs-population-looks-like-day-vs-night/) that may be useful.**"
   ]
  },
  {
   "cell_type": "code",
   "execution_count": null,
   "metadata": {
    "deletable": false,
    "nbgrader": {
     "cell_type": "code",
     "checksum": "13e6303d8ad7389596c452e5342393e8",
     "grade": true,
     "grade_id": "q1a-answer",
     "locked": false,
     "points": 2,
     "schema_version": 2,
     "solution": true
    }
   },
   "outputs": [],
   "source": [
    "q1a_answer = r\"\"\"\n",
    "There are a lot of accidents in Manhattan. The daytime population and night population in Manhattan Island \n",
    "is quite differenet. Thus, there are a lot of traffic on Manhattan, leading to large accident rate.\n",
    "\"\"\"\n",
    "\n",
    "# YOUR CODE HERE\n",
    "# raise NotImplementedError()\n",
    "\n",
    "print(q1a_answer)"
   ]
  },
  {
   "cell_type": "markdown",
   "metadata": {
    "deletable": false,
    "editable": false,
    "nbgrader": {
     "cell_type": "markdown",
     "checksum": "4e2d083e67f84388eb95e187bc4bd0fc",
     "grade": false,
     "grade_id": "severity",
     "locked": true,
     "schema_version": 2,
     "solution": false
    }
   },
   "source": [
    "We see that an entry in accidents contains information on number of people injured/killed. Instead of using each of these columns separately, let's combine them into one column called `'SEVERITY'`. Let's also make columns `FATALITY` and `INJURY`, each aggregating the fatalities and injuries respectively."
   ]
  },
  {
   "cell_type": "code",
   "execution_count": null,
   "metadata": {
    "deletable": false,
    "editable": false,
    "nbgrader": {
     "cell_type": "code",
     "checksum": "7fb8bdd18c80dcfb4d38a4c5f8fbd051",
     "grade": false,
     "grade_id": "severity-code",
     "locked": true,
     "schema_version": 2,
     "solution": false
    }
   },
   "outputs": [],
   "source": [
    "collisions['SEVERITY'] = collisions.filter(regex=r'NUMBER OF *').sum(axis=1)\n",
    "collisions['FATALITY'] = collisions.filter(regex=r'KILLED').sum(axis=1)\n",
    "collisions['INJURY'] = collisions.filter(regex=r'INJURED').sum(axis=1)"
   ]
  },
  {
   "cell_type": "markdown",
   "metadata": {
    "deletable": false,
    "editable": false,
    "nbgrader": {
     "cell_type": "markdown",
     "checksum": "f2a73a0d99aaf5a3739134b324b498b8",
     "grade": false,
     "grade_id": "count-v-mean",
     "locked": true,
     "schema_version": 2,
     "solution": false
    }
   },
   "source": [
    "Now let's group by time and compare two aggregations: count vs mean. Below we plot the number of collisions and the mean severity of collisions by the hour, i.e. the `TIME` column. We visualize them side by side and set the start of our day to be 6 a.m.\n",
    "\n",
    "Let's also take a look at the mean number of casualties per hour and the mean number of injuries per hour, plotted below."
   ]
  },
  {
   "cell_type": "code",
   "execution_count": null,
   "metadata": {
    "deletable": false,
    "editable": false,
    "nbgrader": {
     "cell_type": "code",
     "checksum": "a00e15fd1f50ad584221feb7fe6fb256",
     "grade": false,
     "grade_id": "count-v-mean-code",
     "locked": true,
     "schema_version": 2,
     "solution": false
    }
   },
   "outputs": [],
   "source": [
    "fig, axes = plt.subplots(2, 2, figsize=(16,16))\n",
    "order = np.roll(np.arange(24), -6)\n",
    "ax1 = axes[0,0]\n",
    "ax2 = axes[0,1]\n",
    "ax3 = axes[1,0]\n",
    "ax4 = axes[1,1]\n",
    "\n",
    "collisions_count = collisions.groupby('TIME').count()\n",
    "collisions_count = collisions_count.reset_index()\n",
    "sns.barplot(x='TIME', y='SEVERITY', data=collisions_count, order=order, ax=ax1)\n",
    "ax1.set_title(\"Accidents per Hour\")\n",
    "ax1.set_xlabel(\"HOUR\")\n",
    "ax1.set_ylabel('COUNT')\n",
    "\n",
    "\n",
    "collisions_mean = collisions.groupby('TIME').mean()\n",
    "collisions_mean = collisions_mean.reset_index()\n",
    "sns.barplot(x='TIME', y='SEVERITY', data=collisions_mean, order=order, ax=ax2)\n",
    "ax2.set_title(\"Severity of Accidents per Hour\")\n",
    "ax2.set_xlabel(\"HOUR\")\n",
    "ax2.set_ylabel('MEAN SEVERITY')\n",
    "\n",
    "fatality_count = collisions.groupby('TIME').mean()\n",
    "fatality_count = fatality_count.reset_index()\n",
    "sns.barplot(x='TIME', y='FATALITY', data=fatality_count, order=order, ax=ax3)\n",
    "ax3.set_title(\"Fatality per Hour\")\n",
    "ax3.set_xlabel(\"HOUR\")\n",
    "ax3.set_ylabel('MEAN KILLED')\n",
    "\n",
    "injury_count = collisions.groupby('TIME').mean()\n",
    "injury_count = injury_count.reset_index()\n",
    "sns.barplot(x='TIME', y='INJURY', data=injury_count, order=order, ax=ax4)\n",
    "ax4.set_title(\"Injury per Hour\")\n",
    "ax4.set_xlabel(\"HOUR\")\n",
    "ax4.set_ylabel('MEAN INJURED')\n",
    "\n",
    "plt.show();"
   ]
  },
  {
   "cell_type": "markdown",
   "metadata": {
    "deletable": false,
    "editable": false,
    "nbgrader": {
     "cell_type": "markdown",
     "checksum": "0c5bcbaf2a5696dc2358f76076ab26a5",
     "grade": false,
     "grade_id": "q1b",
     "locked": true,
     "schema_version": 2,
     "solution": false
    }
   },
   "source": [
    "### Question 1b\n",
    "Based on the visualizations above, what can you say about each? Make a comparison between the accidents per hour vs the mean severity per hour. What about the number of fatalities per hour vs the number of injuries per hour? Why do we chose to have our hours start at 6 as opposed to 0?"
   ]
  },
  {
   "cell_type": "code",
   "execution_count": null,
   "metadata": {
    "deletable": false,
    "nbgrader": {
     "cell_type": "code",
     "checksum": "86662d2dcf5b777f34eb0c22d75cbb49",
     "grade": true,
     "grade_id": "q1b-answer",
     "locked": false,
     "points": 4,
     "schema_version": 2,
     "solution": true
    }
   },
   "outputs": [],
   "source": [
    "q1b_answer = r\"\"\"\n",
    "For each graph:\n",
    "1. There are more accidents during daytime. Most of accidents happen in rush hours.\n",
    "2. The severity of accidents roughly increases from 9 a.m. to 4 a.m. The accident will be worse if happens in midnight.\n",
    "3. # of mean killed people during 4 a.m. is several times of other hours. Which is very apparent from the visualization.\n",
    "4. # of mean injured people roughly increases from 9 a.m. to 4 a.m. and matches the severity of accidents curve.\n",
    "\n",
    "The more accidents per hour, the less mean severity per hour. e.g. Accidents usually happen in the morning, but \n",
    "mean severity of accidents in the morning is rather low compared to other time periods. Respectively, accidents \n",
    "happen less in midnight while the mean severity of accidents in midnight is relatively high.\n",
    "\n",
    "The fatalities per hour have an \"outlier\" in 4 a.m. That may be caused by high speed during midnight. Fatalities \n",
    "not usually happen except high speed and severe crash. However, amount of injuries often matches the severity of \n",
    "accidents. That's to say, if accidents are worse, then it's likely to increase the number of injuries.\n",
    "\n",
    "6 corresponds to the morning, which makes the visualization more intuitive.\n",
    "\"\"\"\n",
    "\n",
    "# YOUR CODE HERE\n",
    "# raise NotImplementedError()\n",
    "\n",
    "print(q1b_answer)"
   ]
  },
  {
   "cell_type": "markdown",
   "metadata": {
    "deletable": false,
    "editable": false,
    "nbgrader": {
     "cell_type": "markdown",
     "checksum": "834b719c979996a77b21e389e32786d3",
     "grade": false,
     "grade_id": "loc-sev",
     "locked": true,
     "schema_version": 2,
     "solution": false
    }
   },
   "source": [
    "Let's also check the relationship between location and severity. We provide code to visualize a heat map of collisions, where the x and y coordinate are the location of the collision and the heat color is the severity of the collision. Again, we sample N points to speed up visualization. "
   ]
  },
  {
   "cell_type": "code",
   "execution_count": null,
   "metadata": {
    "deletable": false,
    "editable": false,
    "nbgrader": {
     "cell_type": "code",
     "checksum": "b865d49d183f1702a98f38251a9a2048",
     "grade": false,
     "grade_id": "cell-54e5c2da999d9103",
     "locked": true,
     "schema_version": 2,
     "solution": false
    }
   },
   "outputs": [],
   "source": [
    "N = 10000\n",
    "sample = collisions.sample(N)\n",
    "\n",
    "# Round / bin the latitude and longitudes\n",
    "sample['lat_bin'] = np.round(sample['LATITUDE'], 3)\n",
    "sample['lng_bin'] = np.round(sample['LONGITUDE'], 3)\n",
    "\n",
    "# Average severity for regions\n",
    "gby_cols = ['lat_bin', 'lng_bin']\n",
    "\n",
    "coord_stats = (sample.groupby(gby_cols)\n",
    "               .agg({'SEVERITY': 'mean'})\n",
    "               .reset_index())\n",
    "\n",
    "# Visualize the average severity per region\n",
    "city_long_border = (-74.03, -73.75)\n",
    "city_lat_border = (40.63, 40.85)\n",
    "fig, ax = plt.subplots(ncols=1, nrows=1, figsize=(14, 10))\n",
    "\n",
    "scatter_trips = ax.scatter(sample['LONGITUDE'].values,\n",
    "                           sample['LATITUDE'].values,\n",
    "                           color='grey', s=1, alpha=0.5)\n",
    "\n",
    "scatter_cmap = ax.scatter(coord_stats['lng_bin'].values,\n",
    "                          coord_stats['lat_bin'].values,\n",
    "                          c=coord_stats['SEVERITY'].values,\n",
    "                          cmap='viridis', s=10, alpha=0.9)\n",
    "\n",
    "cbar = fig.colorbar(scatter_cmap)\n",
    "cbar.set_label(\"Manhattan average severity\")\n",
    "ax.set_xlim(city_long_border)\n",
    "ax.set_ylim(city_lat_border)\n",
    "ax.set_xlabel('Longitude')\n",
    "ax.set_ylabel('Latitude')\n",
    "plt.title('Heatmap of Manhattan average severity')\n",
    "plt.axis('off');"
   ]
  },
  {
   "cell_type": "markdown",
   "metadata": {
    "deletable": false,
    "editable": false,
    "nbgrader": {
     "cell_type": "markdown",
     "checksum": "d8e3647f5334a2c311c18075cadaeede",
     "grade": false,
     "grade_id": "q1c",
     "locked": true,
     "schema_version": 2,
     "solution": false
    }
   },
   "source": [
    "### Question 1c\n",
    "Do you think the location of the accident has a significant impact on the severity based on the visualization above? Additionally, identify something that could be improved in the plot above and describe how we could improve it."
   ]
  },
  {
   "cell_type": "code",
   "execution_count": null,
   "metadata": {
    "deletable": false,
    "nbgrader": {
     "cell_type": "code",
     "checksum": "bb7e8c1dc1d11cc86f42168769db5c39",
     "grade": true,
     "grade_id": "q1c-answer",
     "locked": false,
     "points": 2,
     "schema_version": 2,
     "solution": true
    }
   },
   "outputs": [],
   "source": [
    "q1c_answer = r\"\"\"\n",
    "From the visualization graph we can't say the location of accident affects the severity.\n",
    "There are too much plots that corresponds to not severe accidents and caused overplotting. It's hard to tell\n",
    "from the graph above where are severe accidents. We can change the colormap to improve the visualization.\n",
    "\"\"\"\n",
    "\n",
    "# YOUR CODE HERE\n",
    "# raise NotImplementedError()\n",
    "\n",
    "print(q1c_answer)"
   ]
  },
  {
   "cell_type": "markdown",
   "metadata": {
    "deletable": false,
    "editable": false,
    "nbgrader": {
     "cell_type": "markdown",
     "checksum": "3438c9a7494cce2a4417acdaa1ef6da7",
     "grade": false,
     "grade_id": "q1d",
     "locked": true,
     "schema_version": 2,
     "solution": false
    }
   },
   "source": [
    "### Question 1d\n",
    "Create a plot to visualize one or more features of the `collisions` table. "
   ]
  },
  {
   "cell_type": "code",
   "execution_count": null,
   "metadata": {
    "deletable": false,
    "nbgrader": {
     "cell_type": "code",
     "checksum": "efb19c71c3990d14597ef3759305e137",
     "grade": true,
     "grade_id": "q1d-answer",
     "locked": false,
     "points": 3,
     "schema_version": 2,
     "solution": true
    }
   },
   "outputs": [],
   "source": [
    "# YOUR CODE HERE\n",
    "collisions.groupby(\"VEHICLE TYPE CODE 1\")[\"NUMBER OF PERSONS INJURED\"].sum().plot(kind=\"barh\", title=\"Number of Injured vs Vehicle Type 1\")\n",
    "# raise NotImplementedError()"
   ]
  },
  {
   "cell_type": "markdown",
   "metadata": {
    "deletable": false,
    "editable": false,
    "nbgrader": {
     "cell_type": "markdown",
     "checksum": "3b26e20367b57244c4e6548fe77b3195",
     "grade": false,
     "grade_id": "q1e",
     "locked": true,
     "schema_version": 2,
     "solution": false
    }
   },
   "source": [
    "### Question 1e\n",
    "Answer the following questions regarding your plot in 1d.\n",
    "1. What feature you're visualization\n",
    "2. Why you chose this feature\n",
    "3. Why you chose this visualization method"
   ]
  },
  {
   "cell_type": "code",
   "execution_count": null,
   "metadata": {
    "deletable": false,
    "nbgrader": {
     "cell_type": "code",
     "checksum": "c3470de02e6fbe7707b3cd037691ac55",
     "grade": true,
     "grade_id": "q1e-answer",
     "locked": false,
     "points": 3,
     "schema_version": 2,
     "solution": true
    }
   },
   "outputs": [],
   "source": [
    "q1e_answer = r\"\"\"\n",
    "1. I visualized the number of injured and vehicle type 1.\n",
    "2. I choose the feature mainly to see whether specific type of vehicle will cause more injury.\n",
    "3. The first variable is category and the second is continuous. So I choose barplot to visualize them.\n",
    "\"\"\"\n",
    "# YOUR CODE HERE\n",
    "# raise NotImplementedError()\n",
    "print(q1e_answer)"
   ]
  },
  {
   "cell_type": "markdown",
   "metadata": {
    "deletable": false,
    "editable": false,
    "nbgrader": {
     "cell_type": "markdown",
     "checksum": "aae9c0071fd844d65ffc6f253d5c7577",
     "grade": false,
     "grade_id": "cell-1cdd9558a2dba6f2",
     "locked": true,
     "schema_version": 2,
     "solution": false
    }
   },
   "source": [
    "## 2: Combining External Datasets\n",
    "It seems like accident timing and location may influence the duration of a taxi ride. Let's start to join our NYC Taxi data with our collisions data. "
   ]
  },
  {
   "cell_type": "markdown",
   "metadata": {
    "deletable": false,
    "editable": false,
    "nbgrader": {
     "cell_type": "markdown",
     "checksum": "2c4b727b3dedcb7657bff466f7e65fb3",
     "grade": false,
     "grade_id": "cell-232d2ec2d8185573",
     "locked": true,
     "schema_version": 2,
     "solution": false
    }
   },
   "source": [
    "Let's assume that an accident will influence traffic in the surrounding area for around 1 hour. Below, we create two columns, `START` and `END`:\n",
    "- `START`: contains the recorded time of the accident\n",
    "- `END`: 1 hours after `START`\n",
    "\n",
    "**Note:** We chose 1 hour somewhat arbitrarily, feel free to experiment with other time intervals outside this notebook."
   ]
  },
  {
   "cell_type": "code",
   "execution_count": null,
   "metadata": {
    "deletable": false,
    "editable": false,
    "nbgrader": {
     "cell_type": "code",
     "checksum": "67be7164207e877ed21ae81ad228a3f0",
     "grade": false,
     "grade_id": "cell-25daf5470e7c4dc5",
     "locked": true,
     "schema_version": 2,
     "solution": false
    }
   },
   "outputs": [],
   "source": [
    "collisions['START'] = collisions['DATETIME']\n",
    "collisions['END'] = collisions['START'] + pd.Timedelta(hours=1)"
   ]
  },
  {
   "cell_type": "markdown",
   "metadata": {
    "deletable": false,
    "editable": false,
    "nbgrader": {
     "cell_type": "markdown",
     "checksum": "26672d4840a81d09956ab50518749492",
     "grade": false,
     "grade_id": "q2a",
     "locked": true,
     "schema_version": 2,
     "solution": false
    }
   },
   "source": [
    "### Question 2a\n",
    "Drop all of the columns besides the following: `DATETIME`, `TIME`, `START`, `END`, `DATE`, `LATITUDE`, `LONGITUDE`, `SEVERITY`. Feel free to experiment with other subsets outside of this notebook."
   ]
  },
  {
   "cell_type": "code",
   "execution_count": null,
   "metadata": {
    "deletable": false,
    "nbgrader": {
     "cell_type": "code",
     "checksum": "5f3c6dcf11ad31202bfab4ce481fb160",
     "grade": false,
     "grade_id": "q2a-answer",
     "locked": false,
     "schema_version": 2,
     "solution": true
    }
   },
   "outputs": [],
   "source": [
    "collisions_subset = collisions[[\"DATETIME\", \"TIME\", \"START\", \"END\", \"DATE\", \"LATITUDE\", \"LONGITUDE\", \"SEVERITY\"]]\n",
    "# YOUR CODE HERE\n",
    "# raise NotImplementedError()\n",
    "collisions_subset.head(5)"
   ]
  },
  {
   "cell_type": "code",
   "execution_count": null,
   "metadata": {
    "deletable": false,
    "editable": false,
    "nbgrader": {
     "cell_type": "code",
     "checksum": "475595ff09d2c118cacb99c59c50821f",
     "grade": true,
     "grade_id": "q2a-test",
     "locked": true,
     "points": 2,
     "schema_version": 2,
     "solution": false
    }
   },
   "outputs": [],
   "source": [
    "assert collisions_subset.shape == (116691, 8)"
   ]
  },
  {
   "cell_type": "markdown",
   "metadata": {
    "deletable": false,
    "editable": false,
    "nbgrader": {
     "cell_type": "markdown",
     "checksum": "ff6b5f987da9b617c5b0037da869c9b8",
     "grade": false,
     "grade_id": "q2b",
     "locked": true,
     "schema_version": 2,
     "solution": false
    }
   },
   "source": [
    "### Question 2b\n",
    "Now, let's merge our `collisions_subset` table with `train_df`. Start by merging with only the date. We will filter by a time window in a later question.\n",
    "\n",
    "We should be performing a left join, where our `train_df` is the left table. This is because we want to preserve all of the taxi rides in our end result. It happens that an inner join will also work, since both tables contain data on each date.\n",
    "\n",
    "Note that the resulting `merged` table will have multiple rows for every taxi ride row in the original `train_df` table. For example, `merged` will have 483 rows with `index` equal to 16709, because there were 483 accidents that occurred on the same date as ride #16709.\n",
    "\n",
    "Because of memory limitation, we will select the third week of 2016 to analyze. Feel free to change to it week 1 or 2 to see if the observation is general. "
   ]
  },
  {
   "cell_type": "code",
   "execution_count": null,
   "metadata": {
    "deletable": false,
    "editable": false,
    "nbgrader": {
     "cell_type": "code",
     "checksum": "a3ede6bc7129848a3bd0ae75557d3f92",
     "grade": false,
     "grade_id": "cell-5bdab8aad23c168e",
     "locked": true,
     "schema_version": 2,
     "solution": false
    }
   },
   "outputs": [],
   "source": [
    "data_file = Path(\"./\", \"cleaned_data.hdf\")\n",
    "train_df = pd.read_hdf(data_file, \"train\")\n",
    "train_df = train_df.reset_index() \n",
    "train_df = train_df[['index', 'tpep_pickup_datetime', 'pickup_longitude', 'pickup_latitude', 'duration']]\n",
    "train_df['date'] = train_df['tpep_pickup_datetime'].dt.date"
   ]
  },
  {
   "cell_type": "code",
   "execution_count": null,
   "metadata": {
    "deletable": false,
    "editable": false,
    "nbgrader": {
     "cell_type": "code",
     "checksum": "bc1d670af84d8b82ef7324df52303c0c",
     "grade": false,
     "grade_id": "cell-ce7aa5ef320d7e33",
     "locked": true,
     "schema_version": 2,
     "solution": false
    }
   },
   "outputs": [],
   "source": [
    "collisions_subset = collisions_subset[collisions_subset['DATETIME'].dt.weekofyear == 3]\n",
    "train_df = train_df[train_df['tpep_pickup_datetime'].dt.weekofyear == 3]"
   ]
  },
  {
   "cell_type": "code",
   "execution_count": null,
   "metadata": {},
   "outputs": [],
   "source": [
    "collisions_subset.head()"
   ]
  },
  {
   "cell_type": "code",
   "execution_count": null,
   "metadata": {},
   "outputs": [],
   "source": [
    "train_df.head()"
   ]
  },
  {
   "cell_type": "code",
   "execution_count": null,
   "metadata": {
    "deletable": false,
    "nbgrader": {
     "cell_type": "code",
     "checksum": "b2e1393e6fdf939246d639195c7aff04",
     "grade": false,
     "grade_id": "q2b-answer",
     "locked": false,
     "schema_version": 2,
     "solution": true
    }
   },
   "outputs": [],
   "source": [
    "# merge the dataframe here\n",
    "merged = pd.merge(train_df, collisions_subset, how=\"left\", left_on=\"date\", right_on=\"DATE\")\n",
    "\n",
    "# YOUR CODE HERE\n",
    "# raise NotImplementedError()\n",
    "\n",
    "merged.head()"
   ]
  },
  {
   "cell_type": "code",
   "execution_count": null,
   "metadata": {
    "deletable": false,
    "editable": false,
    "nbgrader": {
     "cell_type": "code",
     "checksum": "456a1d3a110d957c9388ec3ee47a161d",
     "grade": true,
     "grade_id": "q2b-test",
     "locked": true,
     "points": 2,
     "schema_version": 2,
     "solution": false
    }
   },
   "outputs": [],
   "source": [
    "assert merged.shape == (1528162, 14)"
   ]
  },
  {
   "cell_type": "markdown",
   "metadata": {
    "deletable": false,
    "editable": false,
    "nbgrader": {
     "cell_type": "markdown",
     "checksum": "8bcb7303503e2011339d41cf4b9b7f02",
     "grade": false,
     "grade_id": "q2c",
     "locked": true,
     "schema_version": 2,
     "solution": false
    }
   },
   "source": [
    "### Question 2c\n",
    "Now that our tables are merged, let's use temporal and spatial proximity to condition on the duration of the average length of a taxi ride. Let's operate under the following assumptions.\n",
    "\n",
    "Accidents only influence the duration of a taxi ride if the following are satisfied:\n",
    "\n",
    "1) The haversine distance between the the pickup location of the taxi ride and location of the recorded accident is within 5 (km). This is roughly 3.1 miles.\n",
    "\n",
    "2) The start time of a taxi ride is within a 1 hour interval between the start and end of an accident.\n",
    "\n",
    "Complete the code below to create an `'accident_close'` column in the `merged` table that indicates if an accident was close or not according to the assumptions above."
   ]
  },
  {
   "cell_type": "code",
   "execution_count": null,
   "metadata": {
    "deletable": false,
    "editable": false,
    "nbgrader": {
     "cell_type": "code",
     "checksum": "1c895f05699682807676e5366f6f1262",
     "grade": false,
     "grade_id": "cell-1336a7d2dbea4eb3",
     "locked": true,
     "schema_version": 2,
     "solution": false
    }
   },
   "outputs": [],
   "source": [
    "def haversine(lat1, lng1, lat2, lng2):\n",
    "    \"\"\"\n",
    "    Compute haversine distance\n",
    "    \"\"\"\n",
    "    lat1, lng1, lat2, lng2 = map(np.radians, (lat1, lng1, lat2, lng2))\n",
    "    average_earth_radius = 6371\n",
    "    lat = lat2 - lat1\n",
    "    lng = lng2 - lng1\n",
    "    d = np.sin(lat * 0.5) ** 2 + np.cos(lat1) * np.cos(lat2) * np.sin(lng * 0.5) ** 2\n",
    "    h = 2 * average_earth_radius * np.arcsin(np.sqrt(d))\n",
    "    return h\n",
    "\n",
    "def manhattan_distance(lat1, lng1, lat2, lng2):\n",
    "    \"\"\"\n",
    "    Compute Manhattan distance\n",
    "    \"\"\"\n",
    "    a = haversine(lat1, lng1, lat1, lng2)\n",
    "    b = haversine(lat1, lng1, lat2, lng1)\n",
    "    return a + b"
   ]
  },
  {
   "cell_type": "code",
   "execution_count": null,
   "metadata": {},
   "outputs": [],
   "source": [
    "merged.head()"
   ]
  },
  {
   "cell_type": "code",
   "execution_count": null,
   "metadata": {
    "deletable": false,
    "nbgrader": {
     "cell_type": "code",
     "checksum": "c70a4dc2dcd6de828ebe919827173e2f",
     "grade": false,
     "grade_id": "q2c-answer",
     "locked": false,
     "schema_version": 2,
     "solution": true
    }
   },
   "outputs": [],
   "source": [
    "start_to_accident = haversine(merged['pickup_latitude'].values,\n",
    "                              merged['pickup_longitude'].values,\n",
    "                              merged['LATITUDE'].values,\n",
    "                              merged['LONGITUDE'].values)\n",
    "merged['start_to_accident'] = start_to_accident\n",
    "\n",
    "# initialze accident_close column to all 0 first\n",
    "merged['accident_close'] = 0\n",
    "\n",
    "# Boolean pd.Series to select the indices for which accident_close should equal 1:\n",
    "# (1) record's start_to_accident <= 5 \n",
    "# (2) pick up time is between start and end\n",
    "is_accident_close = np.logical_and(merged[\"start_to_accident\"] <= 5, np.logical_and(merged[\"tpep_pickup_datetime\"] > merged[\"START\"], merged[\"tpep_pickup_datetime\"] > merged[\"END\"]))\n",
    "\n",
    "# YOUR CODE HERE\n",
    "# raise NotImplementedError()\n",
    "\n",
    "merged.loc[is_accident_close, 'accident_close'] = 1\n"
   ]
  },
  {
   "cell_type": "code",
   "execution_count": null,
   "metadata": {
    "deletable": false,
    "editable": false,
    "nbgrader": {
     "cell_type": "code",
     "checksum": "3eb098dc7de1379cace18cd0703d4ae7",
     "grade": true,
     "grade_id": "q2c-test",
     "locked": true,
     "points": 2,
     "schema_version": 2,
     "solution": false
    }
   },
   "outputs": [],
   "source": [
    "assert merged['accident_close'].sum() > 16000"
   ]
  },
  {
   "cell_type": "markdown",
   "metadata": {
    "deletable": false,
    "editable": false,
    "nbgrader": {
     "cell_type": "markdown",
     "checksum": "70a50c6481f25203506b91353d36e64f",
     "grade": false,
     "grade_id": "agg",
     "locked": true,
     "schema_version": 2,
     "solution": false
    }
   },
   "source": [
    "The last step is to aggregate the total number of proximal accidents. We want to count the total number of accidents that were close spatially and temporally and condition on that data. \n",
    "\n",
    "The code below create a new data frame called `train_accidents`, which is a copy of `train_df`, but with a new column that counts the number of accidents that were close (spatially and temporally) to the pickup location/time. "
   ]
  },
  {
   "cell_type": "code",
   "execution_count": null,
   "metadata": {
    "deletable": false,
    "editable": false,
    "nbgrader": {
     "cell_type": "code",
     "checksum": "d21a9cbf663efcd03c2c2bb616ebc7df",
     "grade": false,
     "grade_id": "agg-code",
     "locked": true,
     "schema_version": 2,
     "solution": false
    }
   },
   "outputs": [],
   "source": [
    "train_df = train_df.set_index('index')\n",
    "num_accidents = merged.groupby(['index'])['accident_close'].sum().to_frame()\n",
    "train_accidents = train_df.copy()\n",
    "train_accidents['num_accidents'] = num_accidents"
   ]
  },
  {
   "cell_type": "markdown",
   "metadata": {
    "deletable": false,
    "editable": false,
    "nbgrader": {
     "cell_type": "markdown",
     "checksum": "053729040dcacf54fb19b5f0a47fbb54",
     "grade": false,
     "grade_id": "cell-fe1c1a3e9328e661",
     "locked": true,
     "schema_version": 2,
     "solution": false
    }
   },
   "source": [
    "Next, for each value of `num_accidents`, we plot the average `duration` of rides with that number of accidents."
   ]
  },
  {
   "cell_type": "code",
   "execution_count": null,
   "metadata": {
    "deletable": false,
    "editable": false,
    "nbgrader": {
     "cell_type": "code",
     "checksum": "2beb7924e846eda7c2ef7751206e93c7",
     "grade": false,
     "grade_id": "agg-plot",
     "locked": true,
     "schema_version": 2,
     "solution": false
    }
   },
   "outputs": [],
   "source": [
    "plt.figure(figsize=(10,8))\n",
    "train_accidents.groupby('num_accidents')['duration'].mean().plot(xticks=np.arange(0, 20, 2))\n",
    "plt.title(\"Accidents Determined by Spatial and Temporal Locality\")\n",
    "plt.xlabel(\"Number of Accidents\")\n",
    "plt.ylabel(\"Average Duration\")\n",
    "plt.show();"
   ]
  },
  {
   "cell_type": "markdown",
   "metadata": {
    "deletable": false,
    "editable": false,
    "nbgrader": {
     "cell_type": "markdown",
     "checksum": "147c1c0cdf0ecff14e3686130ad89927",
     "grade": false,
     "grade_id": "spatial-v-temporal",
     "locked": true,
     "schema_version": 2,
     "solution": false
    }
   },
   "source": [
    "It seems that using both spatial and temporal proximity doesn't give us much insight on if collisions increase taxi ride durations. Let's try conditioning on spatial proximity and temporal proximity separately and see if there are more interesting results there."
   ]
  },
  {
   "cell_type": "code",
   "execution_count": null,
   "metadata": {
    "deletable": false,
    "editable": false,
    "nbgrader": {
     "cell_type": "code",
     "checksum": "4d48098107eff69752ae28ab222d264c",
     "grade": false,
     "grade_id": "temporal",
     "locked": true,
     "schema_version": 2,
     "solution": false
    }
   },
   "outputs": [],
   "source": [
    "# Temporal locality\n",
    "\n",
    "# Condition on time\n",
    "index = (((merged['tpep_pickup_datetime'] >= merged['START']) & \\\n",
    "         (merged['tpep_pickup_datetime'] <= merged['END'])))\n",
    "\n",
    "# Count accidents\n",
    "merged['accident_close'] = 0\n",
    "merged.loc[index, 'accident_close'] = 1\n",
    "num_accidents = merged.groupby(['index'])['accident_close'].sum().to_frame()\n",
    "train_accidents_temporal = train_df.copy()\n",
    "train_accidents_temporal['num_accidents'] = num_accidents\n",
    "\n",
    "# Plot\n",
    "plt.figure(figsize=(10,8))\n",
    "train_accidents_temporal.groupby('num_accidents')['duration'].mean().plot()\n",
    "plt.title(\"Accidents Determined by Temporal Locality\")\n",
    "plt.xlabel(\"Number of Accidents\")\n",
    "plt.ylabel(\"Average Duration\")\n",
    "plt.show();"
   ]
  },
  {
   "cell_type": "code",
   "execution_count": null,
   "metadata": {
    "deletable": false,
    "editable": false,
    "nbgrader": {
     "cell_type": "code",
     "checksum": "fab14d8d9f281f2cc5ea8927aeba7ee8",
     "grade": false,
     "grade_id": "spatial",
     "locked": true,
     "schema_version": 2,
     "solution": false
    }
   },
   "outputs": [],
   "source": [
    "# Spatial locality\n",
    "\n",
    "# Condition on space\n",
    "index = (merged['start_to_accident'] <= 5)\n",
    "\n",
    "# Count accidents\n",
    "merged['accident_close'] = 0\n",
    "merged.loc[index, 'accident_close'] = 1\n",
    "num_accidents = merged.groupby(['index'])['accident_close'].sum().to_frame()\n",
    "train_accidents_spatial = train_df.copy()\n",
    "train_accidents_spatial['num_accidents'] = num_accidents\n",
    "\n",
    "# Plot\n",
    "plt.figure(figsize=(10,8))\n",
    "train_accidents_spatial.groupby('num_accidents')['duration'].mean().plot()\n",
    "plt.title(\"Accidents Determined by Spatial Locality\")\n",
    "plt.xlabel(\"Number of Accidents\")\n",
    "plt.ylabel(\"Average Duration\")\n",
    "plt.show();"
   ]
  },
  {
   "cell_type": "markdown",
   "metadata": {
    "deletable": false,
    "editable": false,
    "nbgrader": {
     "cell_type": "markdown",
     "checksum": "7a9679c73591f214072154f79fc080e7",
     "grade": false,
     "grade_id": "q2d",
     "locked": true,
     "schema_version": 2,
     "solution": false
    }
   },
   "source": [
    "### Question 2d\n",
    "By conditioning on temporal and spatial proximity separately, we reveal different trends in average ride duration as a function of number of accidents nearby.\n",
    "\n",
    "What can you say about the temporal and spatial proximity of accidents to taxi rides and the effect on ride duration? Think of a new hypothesis regarding accidents and taxi ride durations and explain how you would test it.\n",
    "\n",
    "Additionally, comment on some of the assumptions being made when we condition on temporal and spatial proximity separately. What are the implications of only considering one and not the other? "
   ]
  },
  {
   "cell_type": "code",
   "execution_count": null,
   "metadata": {
    "deletable": false,
    "nbgrader": {
     "cell_type": "code",
     "checksum": "256c1b59a9e52905948582a0f84dfe22",
     "grade": true,
     "grade_id": "q2d-answer",
     "locked": false,
     "points": 2,
     "schema_version": 2,
     "solution": true
    }
   },
   "outputs": [],
   "source": [
    "q2d_answer = r\"\"\"\n",
    "If there are more accidents happened near the pickup time during a day, the duration is likely to be longer. \n",
    "It will take particularly longer than usual when the number of accidents in temporal locality is about 45.\n",
    "Towards spatial locality, The duration will be relatively longer than usual if the number of accidents is \n",
    "under 20. When the number of accidents get larger the effects seem to be not very strong.\n",
    "\"\"\"\n",
    "\n",
    "# YOUR CODE HERE\n",
    "# raise NotImplementedError()\n",
    "\n",
    "print(q2d_answer)"
   ]
  },
  {
   "cell_type": "markdown",
   "metadata": {
    "deletable": false,
    "editable": false,
    "nbgrader": {
     "cell_type": "markdown",
     "checksum": "d94283f034d6b1e11682a83c90605fce",
     "grade": false,
     "grade_id": "cell-8b405043ae59b8c4",
     "locked": true,
     "schema_version": 2,
     "solution": false
    }
   },
   "source": [
    "## Part 3 Exports\n",
    "We are not requiring you to export anything from this notebook, but you may find it useful to do so. There is a space below for you to export anything you wish."
   ]
  },
  {
   "cell_type": "code",
   "execution_count": null,
   "metadata": {
    "deletable": false,
    "editable": false,
    "nbgrader": {
     "cell_type": "code",
     "checksum": "9f892e84678d2035b92728503e25c726",
     "grade": false,
     "grade_id": "cell-1a5a1af539bcaf99",
     "locked": true,
     "schema_version": 2,
     "solution": false
    }
   },
   "outputs": [],
   "source": [
    "Path(\"data/part3\").mkdir(parents=True, exist_ok=True)\n",
    "data_file = Path(\"data/part3\", \"data_part3.hdf\") # Path of hdf file\n",
    "..."
   ]
  },
  {
   "cell_type": "markdown",
   "metadata": {
    "deletable": false,
    "editable": false,
    "nbgrader": {
     "cell_type": "markdown",
     "checksum": "a6ceebf535ca08d15a70ef72e87e03ff",
     "grade": false,
     "grade_id": "cell-22e065725dd55909",
     "locked": true,
     "schema_version": 2,
     "solution": false
    }
   },
   "source": [
    "## Part 3 Conclusions\n",
    "\n",
    "We merged the NYC Accidents dataset with our NYC Taxi dataset, conditioning on temporal and spatial locality. We explored potential features by visualizing the relationship between number of accidents and the average duration of a ride. "
   ]
  },
  {
   "cell_type": "markdown",
   "metadata": {
    "deletable": false,
    "editable": false,
    "nbgrader": {
     "cell_type": "markdown",
     "checksum": "0cd1d26d7b42896c4c472569e6e0fa9b",
     "grade": false,
     "grade_id": "cell-323bc5e1fcd2aa4f",
     "locked": true,
     "schema_version": 2,
     "solution": false
    }
   },
   "source": [
    "**Please proceed to part 4 where we will be engineering more features and building our models using a processing pipeline.**"
   ]
  },
  {
   "cell_type": "markdown",
   "metadata": {},
   "source": [
    "## Submission\n",
    "\n",
    "You're almost done!\n",
    "\n",
    "Before submitting this assignment, ensure that you have:\n",
    "\n",
    "1. Restarted the Kernel (in the menubar, select Kernel$\\rightarrow$Restart & Run All)\n",
    "2. Validated the notebook by clicking the \"Validate\" button.\n",
    "\n",
    "Then,\n",
    "\n",
    "1. **Submit** the assignment via the Assignments tab in **Datahub** \n",
    "1. **Upload and tag** the manually reviewed portions of the assignment on **Gradescope**"
   ]
  }
 ],
 "metadata": {
  "kernelspec": {
   "display_name": "Python 3",
   "language": "python",
   "name": "python3"
  },
  "language_info": {
   "codemirror_mode": {
    "name": "ipython",
    "version": 3
   },
   "file_extension": ".py",
   "mimetype": "text/x-python",
   "name": "python",
   "nbconvert_exporter": "python",
   "pygments_lexer": "ipython3"
  }
 },
 "nbformat": 4,
 "nbformat_minor": 2
}
