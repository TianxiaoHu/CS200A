{
 "cells": [
  {
   "cell_type": "markdown",
   "metadata": {},
   "source": [
    "Before you turn in the homework, make sure everything runs as expected. To do so, select **Kernel**$\\rightarrow$**Restart & Run All** in the toolbar above.  Remember to submit both on **DataHub** and **Gradescope**.\n",
    "\n",
    "Please fill in your name and include a list of your collaborators below."
   ]
  },
  {
   "cell_type": "code",
   "execution_count": null,
   "metadata": {},
   "outputs": [],
   "source": [
    "NAME = \"Tianxiao Hu\"\n",
    "COLLABORATORS = \"\""
   ]
  },
  {
   "cell_type": "markdown",
   "metadata": {},
   "source": [
    "---"
   ]
  },
  {
   "cell_type": "markdown",
   "metadata": {
    "deletable": false,
    "editable": false,
    "nbgrader": {
     "cell_type": "markdown",
     "checksum": "b85520bc902cdb10dea08cdc01c298fd",
     "grade": false,
     "grade_id": "cell-43112367e8f97d15",
     "locked": true,
     "schema_version": 2,
     "solution": false
    },
    "toc": true
   },
   "source": [
    "<h1>Table of Contents<span class=\"tocSkip\"></span></h1>\n",
    "<div class=\"toc\"><ul class=\"toc-item\"><li><span><a href=\"#Hypothesis-Testing:-Does-The-Hot-Hand-Effect-Exist?\" data-toc-modified-id=\"Hypothesis-Testing:-Does-The-Hot-Hand-Effect-Exist?-1\">Hypothesis Testing: Does The Hot Hand Effect Exist?</a></span><ul class=\"toc-item\"><li><span><a href=\"#The-Data\" data-toc-modified-id=\"The-Data-1.1\">The Data</a></span><ul class=\"toc-item\"><li><ul class=\"toc-item\"><li><span><a href=\"#Problem-1-[5pts]\" data-toc-modified-id=\"Problem-1-[5pts]-1.1.0.1\">Problem 1 [5pts]</a></span></li><li><span><a href=\"#Problem-2-[5pts]\" data-toc-modified-id=\"Problem-2-[5pts]-1.1.0.2\">Problem 2 [5pts]</a></span></li></ul></li></ul></li><li><span><a href=\"#The-Hypothesis\" data-toc-modified-id=\"The-Hypothesis-1.2\">The Hypothesis</a></span></li><li><span><a href=\"#Understanding-the-Data\" data-toc-modified-id=\"Understanding-the-Data-1.3\">Understanding the Data</a></span><ul class=\"toc-item\"><li><ul class=\"toc-item\"><li><span><a href=\"#Problem-3-[1pt]\" data-toc-modified-id=\"Problem-3-[1pt]-1.3.0.1\">Problem 3 [1pt]</a></span></li><li><span><a href=\"#Problem-4-[2pts]\" data-toc-modified-id=\"Problem-4-[2pts]-1.3.0.2\">Problem 4 [2pts]</a></span></li><li><span><a href=\"#Problem-5-[2pts]\" data-toc-modified-id=\"Problem-5-[2pts]-1.3.0.3\">Problem 5 [2pts]</a></span></li><li><span><a href=\"#Problem-6-[10pts]\" data-toc-modified-id=\"Problem-6-[10pts]-1.3.0.4\">Problem 6 [10pts]</a></span></li><li><span><a href=\"#Problem-7-[5pts]\" data-toc-modified-id=\"Problem-7-[5pts]-1.3.0.5\">Problem 7 [5pts]</a></span></li></ul></li></ul></li><li><span><a href=\"#Defining-a-Test-Statistic\" data-toc-modified-id=\"Defining-a-Test-Statistic-1.4\">Defining a Test Statistic</a></span><ul class=\"toc-item\"><li><ul class=\"toc-item\"><li><span><a href=\"#Problem-8-[10pts]\" data-toc-modified-id=\"Problem-8-[10pts]-1.4.0.1\">Problem 8 [10pts]</a></span></li><li><span><a href=\"#Problem-9-[10pts]\" data-toc-modified-id=\"Problem-9-[10pts]-1.4.0.2\">Problem 9 [10pts]</a></span></li></ul></li></ul></li><li><span><a href=\"#A-Different-Statistic\" data-toc-modified-id=\"A-Different-Statistic-1.5\">A Different Statistic</a></span><ul class=\"toc-item\"><li><ul class=\"toc-item\"><li><span><a href=\"#Problem-10-[10pts]\" data-toc-modified-id=\"Problem-10-[10pts]-1.5.0.1\">Problem 10 [10pts]</a></span></li></ul></li><li><span><a href=\"#Worked-examples\" data-toc-modified-id=\"Worked-examples-1.5.1\">Worked examples</a></span><ul class=\"toc-item\"><li><span><a href=\"#Example-1\" data-toc-modified-id=\"Example-1-1.5.1.1\">Example 1</a></span></li><li><span><a href=\"#Example-2\" data-toc-modified-id=\"Example-2-1.5.1.2\">Example 2</a></span></li><li><span><a href=\"#Check-your-understanding\" data-toc-modified-id=\"Check-your-understanding-1.5.1.3\">Check your understanding</a></span></li></ul></li><li><span><a href=\"#Computing-the-Expectated-Value-of-$T_{1,-make}$\" data-toc-modified-id=\"Computing-the-Expectated-Value-of-$T_{1,-make}$-1.5.2\">Computing the Expectated Value of $T_{1, make}$</a></span><ul class=\"toc-item\"><li><span><a href=\"#Thought-Exercise\" data-toc-modified-id=\"Thought-Exercise-1.5.2.1\">Thought Exercise</a></span></li><li><span><a href=\"#Problem-11-[5pts]\" data-toc-modified-id=\"Problem-11-[5pts]-1.5.2.2\">Problem 11 [5pts]</a></span></li><li><span><a href=\"#Problem-12-[5pts]\" data-toc-modified-id=\"Problem-12-[5pts]-1.5.2.3\">Problem 12 [5pts]</a></span></li></ul></li></ul></li><li><span><a href=\"#The-&quot;Tversky-Statistic&quot;-for-Hot-Hand-Detection\" data-toc-modified-id=\"The-&quot;Tversky-Statistic&quot;-for-Hot-Hand-Detection-1.6\">The \"Tversky Statistic\" for Hot Hand Detection</a></span><ul class=\"toc-item\"><li><ul class=\"toc-item\"><li><span><a href=\"#Problem-13-[5pts]\" data-toc-modified-id=\"Problem-13-[5pts]-1.6.0.1\">Problem 13 [5pts]</a></span></li><li><span><a href=\"#Problem--14-[5pts]\" data-toc-modified-id=\"Problem--14-[5pts]-1.6.0.2\">Problem  14 [5pts]</a></span></li></ul></li><li><span><a href=\"#Statistically-Testing-the-Null-Hypothesis\" data-toc-modified-id=\"Statistically-Testing-the-Null-Hypothesis-1.6.1\">Statistically Testing the Null Hypothesis</a></span><ul class=\"toc-item\"><li><span><a href=\"#Problem-15-[10pts]\" data-toc-modified-id=\"Problem-15-[10pts]-1.6.1.1\">Problem 15 [10pts]</a></span></li><li><span><a href=\"#Problem-16-[Graded-in-the-Synthesis-Portion]\" data-toc-modified-id=\"Problem-16-[Graded-in-the-Synthesis-Portion]-1.6.1.2\">Problem 16 [Graded in the Synthesis Portion]</a></span></li></ul></li></ul></li><li><span><a href=\"#Synthesis\" data-toc-modified-id=\"Synthesis-1.7\">Synthesis</a></span><ul class=\"toc-item\"><li><ul class=\"toc-item\"><li><span><a href=\"#Data-Generation-Model-[8pts]\" data-toc-modified-id=\"Data-Generation-Model-[8pts]-1.7.0.1\">Data Generation Model [8pts]</a></span></li><li><span><a href=\"#Null-Hypothesis-[5pts]\" data-toc-modified-id=\"Null-Hypothesis-[5pts]-1.7.0.2\">Null Hypothesis [5pts]</a></span></li><li><span><a href=\"#Test-Statistic-[2pts]\" data-toc-modified-id=\"Test-Statistic-[2pts]-1.7.0.3\">Test Statistic [2pts]</a></span></li><li><span><a href=\"#Results-[20pts]\" data-toc-modified-id=\"Results-[20pts]-1.7.0.4\">Results [20pts]</a></span></li></ul></li></ul></li><li><span><a href=\"#Further-Reading\" data-toc-modified-id=\"Further-Reading-1.8\">Further Reading</a></span></li></ul></li></ul></div>"
   ]
  },
  {
   "cell_type": "code",
   "execution_count": null,
   "metadata": {
    "deletable": false,
    "editable": false,
    "nbgrader": {
     "cell_type": "code",
     "checksum": "2f189bf69a723fed137907a7afb6eb92",
     "grade": false,
     "grade_id": "cell-11f832e52b131385",
     "locked": true,
     "schema_version": 2,
     "solution": false
    }
   },
   "outputs": [],
   "source": [
    "from pathlib import Path\n",
    "import json\n",
    "import pandas as pd\n",
    "import re\n",
    "import numpy as np\n",
    "import itertools\n",
    "import matplotlib.pyplot as plt\n",
    "import seaborn as sns"
   ]
  },
  {
   "cell_type": "markdown",
   "metadata": {
    "deletable": false,
    "editable": false,
    "nbgrader": {
     "cell_type": "markdown",
     "checksum": "329ed4081ddff3b83a040782c87dd85b",
     "grade": false,
     "grade_id": "cell-a255980fde0700c3",
     "locked": true,
     "schema_version": 2,
     "solution": false
    }
   },
   "source": [
    "# Hypothesis Testing: Does The Hot Hand Effect Exist?\n",
    "\n",
    "**Due Date: Tuesday, November 20, 2018 at 11:59pm**\n",
    "\n",
    "This homework concerns the game of basketball. If you're unfamiliar with basketball, the first minute of [this youtube video](https://www.youtube.com/watch?v=wYjp2zoqQrs) does a pretty good job of giving you the basic idea.\n",
    "\n",
    "In basketball, the \"hot hands effect\" is a supposed phenomenon in which a person who makes several successful baskets in a row experiences a greater probability of scoring in further attempts.  For example, a player who has \"made\" three sucessful baskets in a row is considered to have a higher probability of making a 4th basket than if they had just missed a shot. In this assignment, we'll use 0 to represent a missed basket and 1 to represent a made basket. Restating the hot hands effect in these terms, under the hot hands theory, a player whose last three shots were `'111'` (three consecutive makes) has a higher chance of making a fourth basket than if their last three shots were `'110'`.  The failed third shot \"resets\" their hot hands.\n",
    "\n",
    "The notion of a hot hand is often considered to be a cognitive fallacy, a tendency for our brains to ascribe more meaning to a random sequence of shots than it rightly should.  People have taken many different approaches to this topic.  This homework shows how one can use statistical testing tools to test the existence of the hot hands effect in basketball.\n",
    "\n",
    "## The Data\n",
    "\n",
    "Shot records for the Golden State Warriors (our local NBA basketball team) from the 2016-2017 season are given to you in the `data_dir` path.  The files are stored in `json` format and are named '{match_date}0{team}.json'.  `match_date` is the date of the game and `team` is either 'GSW' or the abbreviation for the opposing team.  The structure of the data is simple: each file holds shot records for a single game in key/value pairs.  The keys are player names and the values are ordered arrays of shot attempts.  A `1` represents a \"make\" (successful attempt) and a `0` is a \"miss\" (failed attempt).  Although this will perhaps overly simplify the analysis, for this assignment, we will not differentiate between 2-point attempts (2FGA), 3-point attempts (3FGA), and free-throws (FT)."
   ]
  },
  {
   "cell_type": "markdown",
   "metadata": {
    "deletable": false,
    "editable": false,
    "nbgrader": {
     "cell_type": "markdown",
     "checksum": "d25bf99a5c66f39de6341a1760b16cb1",
     "grade": false,
     "grade_id": "cell-aeb6ba959d7ee4cf",
     "locked": true,
     "schema_version": 2,
     "solution": false
    }
   },
   "source": [
    "#### Problem 1 \\[5pts\\]\n",
    "\n",
    "Write a function `game_json_to_game_df` that takes a json file and builds a dataframe where each row of the table represents the information about shots for each player. Your table should have three columns `player`, `shots`, and `game`, described below:\n",
    "\n",
    "* `player`: strings, player name\n",
    "* `shots`: strings, the sequence of attempted shots concatenated into a single string e.g. '110101'.\n",
    "* `game`: strings, the name of the json file (without the .json extension)\n",
    "\n",
    "Run the cell below to see an example of the expected output. The index should just be the numbers 0 through N - 1 (i.e. you don't need to do anything special to generate the index)."
   ]
  },
  {
   "cell_type": "code",
   "execution_count": null,
   "metadata": {
    "deletable": false,
    "editable": false,
    "nbgrader": {
     "cell_type": "code",
     "checksum": "fdf5912e775bbd522a36d4210cc27061",
     "grade": false,
     "grade_id": "cell-3631985320b8bb12",
     "locked": true,
     "schema_version": 2,
     "solution": false
    }
   },
   "outputs": [],
   "source": [
    "pd.read_csv('single_file_shot_data_example.csv')"
   ]
  },
  {
   "cell_type": "markdown",
   "metadata": {
    "deletable": false,
    "editable": false,
    "nbgrader": {
     "cell_type": "markdown",
     "checksum": "3468abc0bc670a5bfee7a46d3a70567e",
     "grade": false,
     "grade_id": "cell-d9d0b86526737cbb",
     "locked": true,
     "schema_version": 2,
     "solution": false
    }
   },
   "source": [
    "**Hints:** \n",
    "\n",
    "1. You can load a json file as a dictionary with:\n",
    "```\n",
    "with open(json_filename) as f:\n",
    "        data = json.load(f)\n",
    "```\n",
    "1. The `json_filename` given to you is a [`Path object`](https://docs.python.org/3/library/pathlib.html), which has a handy method called `stem` that you might find useful."
   ]
  },
  {
   "cell_type": "code",
   "execution_count": null,
   "metadata": {
    "deletable": false,
    "nbgrader": {
     "cell_type": "code",
     "checksum": "b896f944fb89651d24fbb66b73c30ac2",
     "grade": false,
     "grade_id": "cell-1092f815657848dd",
     "locked": false,
     "schema_version": 2,
     "solution": true
    }
   },
   "outputs": [],
   "source": [
    "def game_json_to_game_df(json_filename):\n",
    "# YOUR CODE HERE\n",
    "# raise NotImplementedError()\n",
    "    with open(json_filename) as f:\n",
    "        data = json.load(f)\n",
    "    name = []\n",
    "    encode_str = []\n",
    "    game = []\n",
    "    for i in data:\n",
    "        name.append(i)\n",
    "        encode_str.append(\"\".join([str(t) for t in data[i]]))\n",
    "        game.append(json_filename.parts[-1].replace(\".json\", \"\"))\n",
    "    df = pd.DataFrame()\n",
    "    df[\"player\"] = name\n",
    "    df[\"shots\"] = encode_str\n",
    "    df[\"game\"] = game\n",
    "    return df"
   ]
  },
  {
   "cell_type": "code",
   "execution_count": null,
   "metadata": {
    "deletable": false,
    "editable": false,
    "nbgrader": {
     "cell_type": "code",
     "checksum": "e90663e46ad7b624d5fa8f06f7fc5492",
     "grade": true,
     "grade_id": "cell-9dca42b5fe2e5e81",
     "locked": true,
     "points": 5,
     "schema_version": 2,
     "solution": false
    }
   },
   "outputs": [],
   "source": [
    "datafile_path = Path('data/2017/201610250GSW.json')\n",
    "student_output_201610250GSW = game_json_to_game_df(datafile_path)\n",
    "assert student_output_201610250GSW.shape == (23, 3), \\\n",
    "'The dimensions of your data frame are incorrect'\n",
    "assert 'player' in student_output_201610250GSW.columns.values, \\\n",
    "'You seem to be missing the player column'\n",
    "assert 'shots' in student_output_201610250GSW.columns.values, \\\n",
    "'You seem to be missing the shots column'\n",
    "assert 'game' in student_output_201610250GSW.columns.values, \\\n",
    "'You seem to be missing the game column'\n",
    "expected_output_201610250GSW = pd.read_csv('single_file_shot_data_example.csv')\n",
    "assert(student_output_201610250GSW.equals(expected_output_201610250GSW))"
   ]
  },
  {
   "cell_type": "markdown",
   "metadata": {
    "deletable": false,
    "editable": false,
    "nbgrader": {
     "cell_type": "markdown",
     "checksum": "04f064757aad557c37cf2eb778480083",
     "grade": false,
     "grade_id": "cell-af11d9be27d6b761",
     "locked": true,
     "schema_version": 2,
     "solution": false
    }
   },
   "source": [
    "#### Problem 2 \\[5pts\\]\n",
    "\n",
    "Read in all 99 `json` files and combine them into a single data frame called `unindexed_shot_data`. This dataframe should have the exact same structure as in the previous part, where the index is just the numbers 0 through N - 1, where N is the total number of rows in ALL files. The following cell shows the first 25 rows of the result you should generate.\n",
    "\n",
    "**Hints:** \n",
    "\n",
    "1. The `ignore_index` property of the `append` method of the `DataFrame` class might be useful.\n",
    "2. The `glob` method of the `Path` class might be useful."
   ]
  },
  {
   "cell_type": "code",
   "execution_count": null,
   "metadata": {
    "deletable": false,
    "editable": false,
    "nbgrader": {
     "cell_type": "code",
     "checksum": "9d1db629bf0e8e32bbde9c12bcddd6be",
     "grade": false,
     "grade_id": "cell-743fd471fe13a3b0",
     "locked": true,
     "schema_version": 2,
     "solution": false
    }
   },
   "outputs": [],
   "source": [
    "pd.read_csv('every_file_shot_data_first_25_rows.csv')"
   ]
  },
  {
   "cell_type": "code",
   "execution_count": null,
   "metadata": {
    "deletable": false,
    "nbgrader": {
     "cell_type": "code",
     "checksum": "f6c74fab27766a7872af60dfb153aff8",
     "grade": false,
     "grade_id": "cell-66ad45ac1aed11fd",
     "locked": false,
     "schema_version": 2,
     "solution": true
    }
   },
   "outputs": [],
   "source": [
    "data_dir = Path('data/2017')\n",
    "df = []\n",
    "for file in data_dir.glob(\"*\"):\n",
    "    df.append(game_json_to_game_df(file))\n",
    "unindexed_shot_data = pd.concat(df)\n",
    "\n",
    "# YOUR CODE HERE\n",
    "# raise NotImplementedError()"
   ]
  },
  {
   "cell_type": "code",
   "execution_count": null,
   "metadata": {
    "deletable": false,
    "editable": false,
    "nbgrader": {
     "cell_type": "code",
     "checksum": "9b97d374c23a4b02f4b19c9d881bbba9",
     "grade": true,
     "grade_id": "cell-af4b53215a7b8662",
     "locked": true,
     "points": 2,
     "schema_version": 2,
     "solution": false
    }
   },
   "outputs": [],
   "source": [
    "assert unindexed_shot_data.shape == (2144, 3), \\\n",
    "'The dimensions of shot_data are off'\n",
    "assert 'shots' in unindexed_shot_data.columns.values, \\\n",
    "'You seem to be missing the shots column'\n",
    "assert '201610250GSW' in unindexed_shot_data['game'].values, \\\n",
    "'201610280NOP is missing from the game column of the data frame'\n",
    "assert 'K. Thompson' in unindexed_shot_data['player'].values, \\\n",
    "'K. Thompson is missing from the player column of the data frame'\n",
    "assert len(unindexed_shot_data['shots'].values.sum()) == 22051, \\\n",
    "'The total number of attempts seems off'"
   ]
  },
  {
   "cell_type": "markdown",
   "metadata": {
    "deletable": false,
    "editable": false,
    "nbgrader": {
     "cell_type": "markdown",
     "checksum": "eedb4cc7ea04b411c02b5720b8e6b6ac",
     "grade": false,
     "grade_id": "cell-554701d245a1c549",
     "locked": true,
     "schema_version": 2,
     "solution": false
    }
   },
   "source": [
    "Run the line of code below. It converts your integer-indexed data frame into a multi-indexed one, where the first index is `game`, and the second index is `player`."
   ]
  },
  {
   "cell_type": "code",
   "execution_count": null,
   "metadata": {
    "deletable": false,
    "editable": false,
    "nbgrader": {
     "cell_type": "code",
     "checksum": "9cacb30a4ca56d095d252a69a53573e4",
     "grade": false,
     "grade_id": "cell-3ccd0ae077c0319b",
     "locked": true,
     "schema_version": 2,
     "solution": false
    }
   },
   "outputs": [],
   "source": [
    "shot_data = unindexed_shot_data.set_index(['game', 'player'])\n",
    "shot_data.head(5)"
   ]
  },
  {
   "cell_type": "code",
   "execution_count": null,
   "metadata": {
    "deletable": false,
    "editable": false,
    "nbgrader": {
     "cell_type": "code",
     "checksum": "d4961d5db277cfb0135fec307fcfa50e",
     "grade": true,
     "grade_id": "cell-c58744387bb74eed",
     "locked": true,
     "points": 3,
     "schema_version": 2,
     "solution": false
    }
   },
   "outputs": [],
   "source": [
    "assert shot_data.shape == (2144, 1), \\\n",
    "'The dimensions of shot_data are off'\n",
    "assert 'shots' in shot_data.columns.values, \\\n",
    "'You seem to be missing the shots column'\n",
    "assert '201610250GSW' in shot_data.index.get_level_values(0), \\\n",
    "'201610250GSW is missing from the index'\n",
    "assert 'K. Thompson' in shot_data.index.get_level_values(1), \\\n",
    "'K. Thompson is missing from the index'\n",
    "assert len(shot_data['shots'].values.sum()) == 22051, \\\n",
    "'The total number of attempts seems off'"
   ]
  },
  {
   "cell_type": "markdown",
   "metadata": {
    "deletable": false,
    "editable": false,
    "nbgrader": {
     "cell_type": "markdown",
     "checksum": "4819124c27b38df458e08141f98acf05",
     "grade": false,
     "grade_id": "cell-3dd46b9e024d0bff",
     "locked": true,
     "schema_version": 2,
     "solution": false
    }
   },
   "source": [
    "## The Hypothesis\n",
    "\n",
    "Our __null hypothesis__ is that there is no hot hands effect, meaning that the probability of making shots do not change when a player makes several baskets in a row.  In this null world, every permutation of a given shot sequence is equally likely.  For example `'00111'` is just as likely as `'10101'`, `'10011'`, and `'01101'`.  In a universe where hot hands exists, the first sequence would be more likely than the other three.\n",
    "\n",
    "Often in modeling the world, we begin by specifying a simplified model just to see if the question makes sense.  We've hidden some other strong assumptions (perhaps erroneously) about the shots in our model.  Here are some things we are not controlling for:\n",
    "\n",
    "* Opposing defenders affect the difficulty of a shot\n",
    "* Distance affects the difficulty of a shot\n",
    "* Shot types vary in difficulty (3-pointers, 2-points, free-throws)\n",
    "* Team mate behavior may create more favorable scoring conditions\n",
    "\n",
    "## Understanding the Data\n",
    "\n",
    "Recall that as good data scientists, we should strive to understand our data before we analyze it (data provenance).  Let's take a look at [Klay Thompson's shooting performance from Dec. 5, 2016 versus the Indiana Pacers](https://www.basketball-reference.com/play-index/shooting.fcgi?player_id=thompkl01&year_id=2017&opp_id=IND&game_location=H).  Klay scored 60 points in 29 minutes of playing time. For those of you unfamiliar with basketball, this is a crazy number of points to score while only being in a game for 30 minutes. In the [entire history of professional basketball](https://www.basketball-reference.com/play-index/pgl_finder.cgi?request=1&match=game&is_playoffs=N&age_min=0&age_max=99&pos_is_g=Y&pos_is_gf=Y&pos_is_f=Y&pos_is_fg=Y&pos_is_fc=Y&pos_is_c=Y&pos_is_cf=Y&c1stat=mp&c1comp=lt&c1val=30&order_by=pts), nobody has come close (note these records are spotty before 1983). \n",
    "\n",
    "During this game, Klay took a total of 44 shots, landing 10/11 1 point free-throws, 13/19 2 point shots, and 8/14 3 point shots. [At least one news story](https://www.usatoday.com/story/sports/nba/warriors/2016/12/06/klay-thompson-60-points-outburst-by-the-numbers-warriors-pacers/95030316/) specifically called him out as having a 'hot hand' during this game.\n",
    "\n",
    "We'll start by looking at this game to make sure we understanding the structure of the data.\n",
    "\n",
    "#### Problem 3 \\[1pt\\]\n",
    "\n",
    "We first summarize Klay's sequence of shot results.  Calculate his number of `attempts`, number of `makes` (number of successes, denoted as 1), and `accuracy` for this one game. The cell below stores Klay's shots in the game described above into the klay_example variable. Your answer should go in the cell below that."
   ]
  },
  {
   "cell_type": "code",
   "execution_count": null,
   "metadata": {
    "deletable": false,
    "editable": false,
    "nbgrader": {
     "cell_type": "code",
     "checksum": "13543cdeaa0ce786b55cc36f4d1e05e3",
     "grade": false,
     "grade_id": "cell-5681d70861fcac89",
     "locked": true,
     "schema_version": 2,
     "solution": false
    }
   },
   "outputs": [],
   "source": [
    "klay_example = shot_data.loc[('201612050GSW', 'K. Thompson'), 'shots']\n",
    "klay_example"
   ]
  },
  {
   "cell_type": "code",
   "execution_count": null,
   "metadata": {
    "deletable": false,
    "nbgrader": {
     "cell_type": "code",
     "checksum": "9e13b5baaddffe207857ba0a75a25787",
     "grade": false,
     "grade_id": "cell-03a06efd0e3c2464",
     "locked": false,
     "schema_version": 2,
     "solution": true
    }
   },
   "outputs": [],
   "source": [
    "attempts_ex = len(klay_example)\n",
    "makes_ex = sum([int(t) for t in klay_example])\n",
    "accuracy_ex = makes_ex / attempts_ex\n",
    "\n",
    "# YOUR CODE HERE\n",
    "# raise NotImplementedError()\n",
    "\n",
    "print(f\"\"\"\n",
    "attempts:  {attempts_ex}\n",
    "makes:     {makes_ex}\n",
    "accuracy:  {round(accuracy_ex, 2)}\n",
    "\"\"\")"
   ]
  },
  {
   "cell_type": "code",
   "execution_count": null,
   "metadata": {
    "deletable": false,
    "editable": false,
    "nbgrader": {
     "cell_type": "code",
     "checksum": "13ab722af467fb035aadc569f1b6125e",
     "grade": true,
     "grade_id": "cell-25798f7ccd60ff29",
     "locked": true,
     "points": 1,
     "schema_version": 2,
     "solution": false
    }
   },
   "outputs": [],
   "source": [
    "assert attempts_ex == 44\n",
    "assert makes_ex == 31\n",
    "assert round(accuracy_ex, 2) == 0.7"
   ]
  },
  {
   "cell_type": "markdown",
   "metadata": {
    "deletable": false,
    "editable": false,
    "nbgrader": {
     "cell_type": "markdown",
     "checksum": "ca341392b1ac8595ec137ac9463f0354",
     "grade": false,
     "grade_id": "cell-39c6eda4483a9ff9",
     "locked": true,
     "schema_version": 2,
     "solution": false
    }
   },
   "source": [
    "We might be interested in the number of runs of various lengths that Thompson makes over the course of the game.  A run of length k is defined as k consecutive successes in a row.  We will include overlapping runs in our counts.  For example, the shot record `'1111'` contains three runs of length 2: <span style=\"background-color:yellow\"><b>11</b></span>11, 1<span style=\"background-color:yellow\"><b>11</b></span>1, 11<span style=\"background-color:yellow\"><b>11</b></span>).\n",
    "\n",
    "#### Problem 4 \\[2pts\\]\n",
    "\n",
    "How many runs of length 2 did Thompson make in the Dec. 5, 2016 game?  To answer this question, we used a regular expression, but you're free to answer this however you'd like (with code, of course).  In our regular expression we make use of [positive lookbehinds](https://docs.python.org/2/library/re.html) `(?<=...)`."
   ]
  },
  {
   "cell_type": "code",
   "execution_count": null,
   "metadata": {
    "deletable": false,
    "nbgrader": {
     "cell_type": "code",
     "checksum": "c9bbedfafb609378002ff03f115a25c0",
     "grade": false,
     "grade_id": "cell-c1e5fdbfc065bb7f",
     "locked": false,
     "schema_version": 2,
     "solution": true
    }
   },
   "outputs": [],
   "source": [
    "run_length_2 = sum([1 if klay_example[i:i+2] == \"11\" else 0 for i in range(len(klay_example) - 1)])\n",
    "\n",
    "# YOUR CODE HERE\n",
    "# raise NotImplementedError()\n",
    "\n",
    "print(f\"\"\"\n",
    "Klay Thompson made {run_length_2} runs of length 2 in the game against the Indiana Pacers.\n",
    "\"\"\")"
   ]
  },
  {
   "cell_type": "code",
   "execution_count": null,
   "metadata": {
    "deletable": false,
    "editable": false,
    "nbgrader": {
     "cell_type": "code",
     "checksum": "48fa237c084f5a30d68d204e05488231",
     "grade": true,
     "grade_id": "cell-703f4950b29e6738",
     "locked": true,
     "points": 2,
     "schema_version": 2,
     "solution": false
    }
   },
   "outputs": [],
   "source": [
    "assert run_length_2 == 19"
   ]
  },
  {
   "cell_type": "markdown",
   "metadata": {
    "deletable": false,
    "editable": false,
    "nbgrader": {
     "cell_type": "markdown",
     "checksum": "826731fffec5eba6b6e00231b190391d",
     "grade": false,
     "grade_id": "cell-63252f6c80f57212",
     "locked": true,
     "schema_version": 2,
     "solution": false
    }
   },
   "source": [
    "#### Problem 5 \\[2pts\\]\n",
    "\n",
    "How many runs of length 3?"
   ]
  },
  {
   "cell_type": "code",
   "execution_count": null,
   "metadata": {
    "deletable": false,
    "nbgrader": {
     "cell_type": "code",
     "checksum": "199bc730e56a2e43aca26e6d429d7be8",
     "grade": false,
     "grade_id": "cell-744dc7c0528626d2",
     "locked": false,
     "schema_version": 2,
     "solution": true
    }
   },
   "outputs": [],
   "source": [
    "run_length_3 = sum([1 if klay_example[i:i+3] == \"111\" else 0 for i in range(len(klay_example) - 2)])\n",
    "\n",
    "# YOUR CODE HERE\n",
    "# raise NotImplementedError()\n",
    "\n",
    "print(f\"\"\"\n",
    "Klay Thompson made {run_length_3} runs of length 3 in the game against the Indiana Pacers.\n",
    "\"\"\")"
   ]
  },
  {
   "cell_type": "code",
   "execution_count": null,
   "metadata": {
    "deletable": false,
    "editable": false,
    "nbgrader": {
     "cell_type": "code",
     "checksum": "4dbcfe5c2879916daa5a58184214a51e",
     "grade": true,
     "grade_id": "cell-e52ee68ba7036ac3",
     "locked": true,
     "points": 2,
     "schema_version": 2,
     "solution": false
    }
   },
   "outputs": [],
   "source": [
    "# Empty, soulless cells like these contain hidden tests\n",
    "# Do not delete"
   ]
  },
  {
   "cell_type": "markdown",
   "metadata": {
    "deletable": false,
    "editable": false,
    "nbgrader": {
     "cell_type": "markdown",
     "checksum": "9038db61583c1c4726124d24f76992ac",
     "grade": false,
     "grade_id": "cell-cedd8e9acaef5cd9",
     "locked": true,
     "schema_version": 2,
     "solution": false
    }
   },
   "source": [
    "#### Problem 6 \\[10pts\\]\n",
    "\n",
    "Let's generalize the work we did above by writing a function `count_runs`. `count_runs` takes two arguments:\n",
    "\n",
    "* `shot_sequences`: a pandas series of strings, each representing a sequence of shots for a player in a game\n",
    "* `run_length`: integer, the run length to count\n",
    "\n",
    "`count_runs` should return a pandas series, where the ith element is the number of occurrences of `run_length` in the ith sequence in `shot_sequences`.\n",
    "\n",
    "Some example input/outputs for `count_runs` are given below:\n",
    "\n",
    "* `count_runs(pd.Series(['111', '000', '011', '000']), 2)` should return `pd.Series([2, 0, 1, 0])`\n",
    "* `count_runs(pd.Series(['1100110011']), 2)` should return `pd.Series([3])`\n",
    "\n",
    "For convenience, `count_runs` should also work if `shot_sequences` is a single string representing a single game, e.g.\n",
    "\n",
    "`count_runs((1100110011), 2)` should return `pd.Series([3])`"
   ]
  },
  {
   "cell_type": "code",
   "execution_count": null,
   "metadata": {
    "deletable": false,
    "nbgrader": {
     "cell_type": "code",
     "checksum": "ce2c8ddd7d76a93f1cff46326322023a",
     "grade": false,
     "grade_id": "cell-341b0840616bfa7e",
     "locked": false,
     "schema_version": 2,
     "solution": true
    }
   },
   "outputs": [],
   "source": [
    "def count_runs(shot_sequences, run_length):\n",
    "    \"\"\"\n",
    "    Counts consecutive occurences of an event\n",
    "    \n",
    "    shot_sequences: a pandas series of strings, each representing a sequence of shots for a player in a game\n",
    "    run_length: integer, the run length to count\n",
    "    \n",
    "    return: pd.Series of the number of times a run of length run_length occurred in each shot_sequence\n",
    "    \"\"\"\n",
    "    \n",
    "    # YOUR CODE HERE\n",
    "#     raise NotImplementedError()\n",
    "    res = []\n",
    "    if type(shot_sequences) is str:\n",
    "        res.append(sum([1 if shot_sequences[i: i + run_length] == \"1\" * run_length else 0 for i in range(len(shot_sequences) - run_length + 1)]))\n",
    "    else:\n",
    "        for shot in shot_sequences.values:\n",
    "            res.append(sum([1 if shot[i: i + run_length] == \"1\" * run_length else 0 for i in range(len(shot) - run_length + 1)]))\n",
    "    return pd.Series(res)"
   ]
  },
  {
   "cell_type": "code",
   "execution_count": null,
   "metadata": {
    "deletable": false,
    "editable": false,
    "nbgrader": {
     "cell_type": "code",
     "checksum": "2c0f21d1009e7402b21dbc1ecc2b7675",
     "grade": true,
     "grade_id": "cell-31c253798dda640e",
     "locked": true,
     "points": 3,
     "schema_version": 2,
     "solution": false
    }
   },
   "outputs": [],
   "source": [
    "assert count_runs(pd.Series(['111', '000', '011', '000']), 2).equals(pd.Series([2, 0, 1, 0])), \\\n",
    "'There should be 2, 0, 1, and 0 runs of length 2, respectively.'\n",
    "assert count_runs(pd.Series(['1100110011']), 2).equals(pd.Series([3])), \\\n",
    "'There should be 1 run of length 3'\n",
    "assert count_runs('000', 1).equals(pd.Series(0)), \\\n",
    "'There should be 0 runs of 1, and your code must support string inputs (hint: if the input a string, convert it into a pandas series)'"
   ]
  },
  {
   "cell_type": "code",
   "execution_count": null,
   "metadata": {
    "deletable": false,
    "editable": false,
    "nbgrader": {
     "cell_type": "code",
     "checksum": "955d2a8ce254695301aa78e76c99fdec",
     "grade": true,
     "grade_id": "cell-1c59fea247495e0d",
     "locked": true,
     "points": 7,
     "schema_version": 2,
     "solution": false
    }
   },
   "outputs": [],
   "source": [
    "# *Leers*"
   ]
  },
  {
   "cell_type": "markdown",
   "metadata": {
    "deletable": false,
    "editable": false,
    "nbgrader": {
     "cell_type": "markdown",
     "checksum": "fb915015126a25820d4c9b32ea764d81",
     "grade": false,
     "grade_id": "cell-b867e7bea1259968",
     "locked": true,
     "schema_version": 2,
     "solution": false
    }
   },
   "source": [
    "#### Problem 7 \\[5pts\\]\n",
    "\n",
    "Use `count_runs` to transform the data as follows: for each player, count the number of times they have made a run of length $k$ where $k = 1, 2, 3, ..., 10$.  The column names should be `str(k)` and the index be the player names.  A sample of the output is given below for three players in the data.  The count should be across all games played by the player across the entire dataset."
   ]
  },
  {
   "cell_type": "code",
   "execution_count": null,
   "metadata": {
    "deletable": false,
    "editable": false,
    "nbgrader": {
     "cell_type": "code",
     "checksum": "8c6d5b495e4322e8e7850315cb02bc98",
     "grade": false,
     "grade_id": "cell-e14729dc5f29bc1b",
     "locked": true,
     "schema_version": 2,
     "solution": false
    }
   },
   "outputs": [],
   "source": [
    "pd.read_csv('count_runs_example.csv', index_col='player')"
   ]
  },
  {
   "cell_type": "code",
   "execution_count": null,
   "metadata": {
    "deletable": false,
    "nbgrader": {
     "cell_type": "code",
     "checksum": "3252b3e50c2a63917707ea3833d3fe25",
     "grade": false,
     "grade_id": "cell-ff6554d3f2d42f15",
     "locked": false,
     "schema_version": 2,
     "solution": true
    }
   },
   "outputs": [],
   "source": [
    "run_counts = pd.DataFrame(index=shot_data.index.levels[1], columns=[str(x) for x in range(1, 11)])\n",
    "\n",
    "for player in shot_data.index.levels[1]:\n",
    "    df = []\n",
    "    for i in range(1, 11):\n",
    "        # print(sum(count_runs(shot_data.xs(player, level=1), i)))\n",
    "        df.append(sum(count_runs(shot_data.xs(player, level=1)[\"shots\"], i)))\n",
    "    run_counts.loc[player] = df\n",
    "\n",
    "\n",
    "# YOUR CODE HERE\n",
    "# raise NotImplementedError()"
   ]
  },
  {
   "cell_type": "code",
   "execution_count": null,
   "metadata": {
    "deletable": false,
    "editable": false,
    "nbgrader": {
     "cell_type": "code",
     "checksum": "fee790442056484898f5bea58ee79d0c",
     "grade": true,
     "grade_id": "cell-ff89d7194d2d07ab",
     "locked": true,
     "points": 5,
     "schema_version": 2,
     "solution": false
    }
   },
   "outputs": [],
   "source": [
    "assert pd.api.types.is_string_dtype(run_counts.index), \\\n",
    "'Index should consist of strings.'\n",
    "assert pd.api.types.is_string_dtype(run_counts.columns), \\\n",
    "'Column names should be strings.'\n",
    "assert run_counts.loc['A. Abrines', '1'] == 8, \\\n",
    "'A. Abrines should have 8 single makes.'\n",
    "assert run_counts.loc['K. Thompson'].sum() == 1929, \\\n",
    "\"The sum of K Thompson's values seems off.\""
   ]
  },
  {
   "cell_type": "markdown",
   "metadata": {
    "deletable": false,
    "editable": false,
    "nbgrader": {
     "cell_type": "markdown",
     "checksum": "7bc08df9327f1b9dd9a075ca1c8c67c2",
     "grade": false,
     "grade_id": "cell-eb09e3082795f0c3",
     "locked": true,
     "schema_version": 2,
     "solution": false
    }
   },
   "source": [
    "So far, we've just been exploring the data. The `run_counts` table you built above does not provide us any sort of information about the validity of the hot hands hypothesis. \n",
    "\n",
    "`run_counts` does seem to indicate that very long streaks are pretty rare. We'll use this as a starting point for our analysis in the next section."
   ]
  },
  {
   "cell_type": "markdown",
   "metadata": {
    "deletable": false,
    "editable": false,
    "nbgrader": {
     "cell_type": "markdown",
     "checksum": "97cc1f6c0b36b856298d2d7b43172cee",
     "grade": false,
     "grade_id": "cell-9207d613c5ff654e",
     "locked": true,
     "schema_version": 2,
     "solution": false
    }
   },
   "source": [
    "## Defining a Test Statistic\n",
    "\n",
    "People who refer to \"hot hands\" often treat it as Justice Potter Stewart treats obscenity: [\"I know it when I see it.\"](https://en.wikipedia.org/wiki/I_know_it_when_I_see_it)  As data scientists, this isn't good enough for us.  Instead, we should think about how to quantify the question in an empirically verifiable way.\n",
    "\n",
    "Unfortunately, it's not immediately clear how we might test the null hypothesis.  In other hypothesis test settings like website A/B testing and drug efficacy, we have obvious choices for important and measurable outcomes to demonstrate increases in revenue or positive health impacts, respectively.\n",
    "\n",
    "However, the hot hands is not as well-defined, so we're going to try a few things that seem to have the flavor of measuring \"streakiness\".\n",
    "\n",
    "#### Problem 8 \\[10pts\\]\n",
    "\n",
    "Our first attempt at a test statistic will be the length of the longest streak. We saw in the previous section that long runs were rare, so perhaps we can use the occurrence of long runs as evidence either for or against the hot hands hypothesis.\n",
    "\n",
    "Write a function `find_longest_run` that computes this test statistics. Specifically, `find_longest_run` should takes a `pd.Series` of shot sequences and returns a `pd.Series` of the lengths of the longest make sequences (consecutive 1s) in each sequence.  As with `run_counts`, for convenience, make the function work for a python string input as well.\n",
    "\n",
    "For example:\n",
    "* `find_longest_run(pd.Series(['111', '000', '011', '000']))` should return `pd.Series([3, 0, 2, 0])`\n",
    "* `find_longest_run(pd.Series(['1100110011']))` should return `pd.Series([2])`\n",
    "* `find_longest_run('1100110011')` should return `pd.Series([2])`"
   ]
  },
  {
   "cell_type": "code",
   "execution_count": null,
   "metadata": {
    "deletable": false,
    "nbgrader": {
     "cell_type": "code",
     "checksum": "090abcdd780b8a9fbd7bf3384ee59199",
     "grade": false,
     "grade_id": "cell-9d1647cb985986a5",
     "locked": false,
     "schema_version": 2,
     "solution": true
    }
   },
   "outputs": [],
   "source": [
    "def find_longest_run(shot_sequences):\n",
    "    \"\"\"\n",
    "    Finds longest run in a pd.Series of shot_sequences\n",
    "    \n",
    "    shot_sequences: pd.Series (string) shot data for a set of games or a single python string\n",
    "       to be coerced into a pd.Series\n",
    "    \n",
    "    return: as pd.Series of the lengths of longest sequences of 1s in each game\n",
    "    \"\"\"\n",
    "    # YOUR CODE HERE\n",
    "#     raise NotImplementedError()\n",
    "    def find_longest(string):\n",
    "        ans = 0\n",
    "        cur = 0\n",
    "        for char in string:\n",
    "            if char == \"1\":\n",
    "                cur += 1\n",
    "            else:\n",
    "                ans = max(ans, cur)\n",
    "                cur = 0\n",
    "        ans = max(ans, cur)\n",
    "        return ans\n",
    "    \n",
    "    longest_run = []\n",
    "    for shot in shot_sequences:\n",
    "        longest_run.append(find_longest(shot))\n",
    "    return pd.Series(longest_run)"
   ]
  },
  {
   "cell_type": "code",
   "execution_count": null,
   "metadata": {
    "deletable": false,
    "editable": false,
    "nbgrader": {
     "cell_type": "code",
     "checksum": "b2e3bb52b1da526613a904ccb27e90aa",
     "grade": true,
     "grade_id": "cell-5ffd01bcab624bd5",
     "locked": true,
     "points": 3,
     "schema_version": 2,
     "solution": false
    }
   },
   "outputs": [],
   "source": [
    "assert isinstance(find_longest_run(klay_example), pd.Series), \\\n",
    "'The output should be a pd.Series'\n",
    "assert find_longest_run(pd.Series(['111', '000', '011', '000'])).equals(pd.Series([3, 0, 2, 0])), \\\n",
    "'The longest runs should be of length 3, 0, 2, and 0, respectively.'\n",
    "assert find_longest_run(pd.Series(['1100110011'])).equals(pd.Series([2])), \\\n",
    "'The longest run should be of length 2.'"
   ]
  },
  {
   "cell_type": "code",
   "execution_count": null,
   "metadata": {
    "deletable": false,
    "editable": false,
    "nbgrader": {
     "cell_type": "code",
     "checksum": "65feaad0124c08d971f1318b8afae6f4",
     "grade": true,
     "grade_id": "cell-16c7aa3361bc7402",
     "locked": true,
     "points": 7,
     "schema_version": 2,
     "solution": false
    }
   },
   "outputs": [],
   "source": [
    "# Nothing to see here.  Move along"
   ]
  },
  {
   "cell_type": "markdown",
   "metadata": {
    "deletable": false,
    "editable": false,
    "nbgrader": {
     "cell_type": "markdown",
     "checksum": "77e1e848f4835c2ad0845e17def2725f",
     "grade": false,
     "grade_id": "cell-b2eb1a5c041ee70a",
     "locked": true,
     "schema_version": 2,
     "solution": false
    }
   },
   "source": [
    "#### Problem 9 \\[10pts\\]\n",
    "\n",
    "If you look at the test inputs above, you'll see that the extreme game featuring Klay Thompson scoring 60 points in 29 minutes has a longest run length of 6.\n",
    "\n",
    "Let's try to understand whether this value for our test statistic is indicative of Klay having a hot hand during this game. To do this, we need to know how 6 stacks up as a streak compared to a player similar to Klay but who definitely does not have a hot hand effect.\n",
    "\n",
    "How do we find data on such a player?  Well, **under the null hypothesis, Klay *himself* is such a player**, and the shot record we observe is really a sequence of independent shots.  This suggests a bootstrap procedure to estimate the sampling distribution of longest runs.  Write a function called `bootstrap_longest_run` that simulates the sampling distribution of the `longest_run` test statistic under the null hypothesis given the shot record of a single game. For example, `bootstrap_longest_run(klay_example, 100)` should return a pandas series of longest runs for 100 simulated games, where the simulated games are bootstrapped from the Klay example. "
   ]
  },
  {
   "cell_type": "code",
   "execution_count": null,
   "metadata": {
    "deletable": false,
    "nbgrader": {
     "cell_type": "code",
     "checksum": "990fe004e5baf234e54ec676d29c55e0",
     "grade": false,
     "grade_id": "cell-95d81e10c8c11ecb",
     "locked": false,
     "schema_version": 2,
     "solution": true
    }
   },
   "outputs": [],
   "source": [
    "def bootstrap_longest_run(game, num_iter=1):\n",
    "    \"\"\"\n",
    "    game: string, shot sequence data for a single game\n",
    "    num_iter: number of statistics to generate\n",
    "    \n",
    "    returns: num_iter statistics drawn from the bootstrapped sampling distribution\n",
    "    \"\"\"\n",
    "    data = []\n",
    "    for i in range(num_iter):\n",
    "        sample = \"\"\n",
    "        for i in range(len(klay_example)):\n",
    "            sample += str(np.random.choice([0, 1], p=[1 - accuracy_ex, accuracy_ex]))\n",
    "        data.append(sample)\n",
    "    return find_longest_run(pd.Series(data))\n",
    "    # YOUR CODE HERE\n",
    "#     raise NotImplementedError()\n",
    "    "
   ]
  },
  {
   "cell_type": "code",
   "execution_count": null,
   "metadata": {
    "deletable": false,
    "editable": false,
    "nbgrader": {
     "cell_type": "code",
     "checksum": "7892ca781ca2b1b1fd11f5aed81147cd",
     "grade": true,
     "grade_id": "cell-fe7211e06056d21a",
     "locked": true,
     "points": 10,
     "schema_version": 2,
     "solution": false
    }
   },
   "outputs": [],
   "source": [
    "longest_run_simulations = bootstrap_longest_run(klay_example, 100)\n",
    "assert isinstance(longest_run_simulations, pd.Series)\n",
    "assert len(longest_run_simulations) == 100\n",
    "assert longest_run_simulations.max() < 30\n",
    "assert longest_run_simulations.max() >= 0"
   ]
  },
  {
   "cell_type": "markdown",
   "metadata": {
    "deletable": false,
    "editable": false,
    "nbgrader": {
     "cell_type": "markdown",
     "checksum": "c465069d24acaebdd450ee789ee3e382",
     "grade": false,
     "grade_id": "cell-45ac1cd64d28ef9c",
     "locked": true,
     "schema_version": 2,
     "solution": false
    }
   },
   "source": [
    "Use `bootstrap_longest_run` and the longest run statistic to answer the following question: Is Klay's performance against the Indiana Pacers indicative of hot hands?  Support your answer with:\n",
    "\n",
    "1. A plot of the observed statistic against its (bootstrapped) sampling distribution.  In this plot, each possible value of longest streak length should get its own bin, centered at its value.  Restrict the x-axis to the interval \\[0, 20\\].\n",
    "1. A p-value compared to significance level 0.05\n",
    "1. A sentence describing how the p-value should be interpreted."
   ]
  },
  {
   "cell_type": "code",
   "execution_count": null,
   "metadata": {
    "deletable": false,
    "nbgrader": {
     "cell_type": "code",
     "checksum": "21806391e6f34002ef8b9b8002596034",
     "grade": true,
     "grade_id": "cell-1fd2e3f1c912cf39",
     "locked": false,
     "points": 0,
     "schema_version": 2,
     "solution": true
    }
   },
   "outputs": [],
   "source": [
    "plt.hist(longest_run_simulations, bins=20)\n",
    "plt.xlim(0, 20)\n",
    "plt.xlabel(\"longest streak length\")\n",
    "plt.ylabel(\"distribution\")\n",
    "plt.title(\"observed statistic against bootstrapped sampling distribution\")\n",
    "plt.show()"
   ]
  },
  {
   "cell_type": "code",
   "execution_count": null,
   "metadata": {},
   "outputs": [],
   "source": [
    "p = np.count_nonzero(longest_run_simulations.values >= 6) / len(longest_run_simulations.values)\n",
    "p"
   ]
  },
  {
   "cell_type": "markdown",
   "metadata": {
    "deletable": false,
    "nbgrader": {
     "cell_type": "markdown",
     "checksum": "4047e6a9233f53df1d33cf2e91b592b4",
     "grade": true,
     "grade_id": "cell-21b49c602992d416",
     "locked": false,
     "points": 10,
     "schema_version": 2,
     "solution": true
    }
   },
   "source": [
    "Our calculation indicates that $p = 0.92$ and $p > 0.05$, which means we can't reject the null hypothesis. In other words, we can't assume there is \"hot-hands\" effect."
   ]
  },
  {
   "cell_type": "markdown",
   "metadata": {
    "deletable": false,
    "editable": false,
    "nbgrader": {
     "cell_type": "markdown",
     "checksum": "26635b2fe7379b197fb0bd44bd219111",
     "grade": false,
     "grade_id": "cell-61975352676b2cf5",
     "locked": true,
     "schema_version": 2,
     "solution": false
    }
   },
   "source": [
    "## A Different Statistic\n",
    "\n",
    "Arguably, the longest run isn't a particularly good test-statistic for capturing what people mean when they say \"hot hands\". \n",
    "\n",
    "Let's try a test-statistics that captures the essence of \"hot-hands\" a bit more.  We're now going to explore a well-known approach proposed by [Amos Tversky](https://en.wikipedia.org/wiki/Amos_Tversky) and his collaborators.  The hot hand of Tversky is similar to the notion of being \"on fire\" in the old arcade game [NBA Jam](https://www.youtube.com/watch?v=ipzstdPtxNw).  In that game, if you make 3 shots in a row with a player, your player would be on fire (with flame sprites!).  While on fire (until a miss), the player has an inflated probability of making shots.\n",
    "\n",
    "The statistic to capture this affect, called $T_{k, make}$, is easy to compute:\n",
    "\\begin{align*}\n",
    "  T_{k, make}\n",
    "  & = \\hat{\\mathbb{P}}(\\text{Make next shot}\\ \\vert\\ \\text{Made last $k$ shots})\\\\\n",
    "  & = \\frac{\\#\\{\\text{Streaks of $k+1$ makes in a row}\\}}{\\#\\{\\text{Streaks of $k$ makes in a row preceeding an attempt}\\}}\n",
    "\\end{align*}\n",
    "If $T_{k, make}$ is especially high, then we might say that our player is experiencing a hot hand.\n",
    "\n",
    "A similar statistic can try to capture a cold hand reversal:\n",
    "\\begin{align*}\n",
    "  T_{k, miss}\n",
    "  & = \\hat{\\mathbb{P}}(\\text{Make next shot}\\ \\vert\\ \\text{Missed last $k$ shots})\\\\\n",
    "  & = \\frac{\\#\\{\\text{Streaks of $k$ misses followed by make}\\}}{\\#\\{\\text{Streaks of $k$ misses in a row preceeding an attempt}\\}}\n",
    "\\end{align*}\n",
    "Note: If the value of $T_{k, miss}$ is especially high, this doesn't mean the player is expected to miss a bunch of shots in a  row, instead we'd say that they tend to see reversals in their streaks.\n",
    "\n",
    "#### Problem 10 \\[10pts\\]\n",
    "\n",
    "Start by writing a utility function `count_conditionally`, which takes a `pd.Series` of shot sequence strings, a **conditioning set**, and an **event**, and returns a series of the count of the the number of times that the event follows the conditioning set in each shot sequence string.\n",
    "\n",
    "**Example Behavior 1:** \n",
    "\n",
    "If we call `count_conditionally(['111111', '01111100111'], '111', '0')`, we are counting the number of times that the event `0` follows `111` in each string. In this case, the function would return `pd.Series([0, 1])`.\n",
    "\n",
    "**Example Behavior 2:** \n",
    "\n",
    "If we call  `count_conditionally(['111111', '01111100111'], '111', '1')`, we are counting the number of times that the event `1` follows `111` in each string. In this case, the function would return `pd.Series([3, 2])`. Note that events can overlap, e.g. `111111` has 3 occurrences of the event `1` that follow the condition `111`: <span style=\"background-color:yellow\"><b>111</b></span><span style=\"background-color:#32CD32\"><b>1</b></span>11, 1<span style=\"background-color:yellow\"><b>111</b></span><span style=\"background-color:#32CD32\"><b>1</b></span>1, 11<span style=\"background-color:yellow\"><b>111</b></span><span style=\"background-color:#32CD32\"><b>1</b></span>.\n",
    "\n",
    "As with `count_runs` and `find_longest_run`, for convenience, your `count_conditionally` function should handle a string input corresponding to a single shot sequence as well.\n",
    "\n",
    "**Hint**: You should be able to recycle ideas from `count_runs`."
   ]
  },
  {
   "cell_type": "code",
   "execution_count": null,
   "metadata": {
    "deletable": false,
    "nbgrader": {
     "cell_type": "code",
     "checksum": "c90bec82d4d1f4a02f06baafd411561c",
     "grade": false,
     "grade_id": "cell-750ae25730518016",
     "locked": false,
     "schema_version": 2,
     "solution": true
    }
   },
   "outputs": [],
   "source": [
    "def count_conditionally(shot_sequences, conditioning_set, event='1'):\n",
    "    \"\"\"\n",
    "    shot_sequences: pd.Series (string) of shot strings for a set of games or a single string\n",
    "       to be coerced into a pd.Series\n",
    "    conditioning_set: string or regex pattern representing the conditioning set\n",
    "    event: string or regex pattern representing the event of interest\n",
    "    \n",
    "    return: pd.Series of the number of times event occured after the\n",
    "       conditioning set in each game\n",
    "    \"\"\"\n",
    "    \n",
    "    # YOUR CODE HERE\n",
    "#     raise NotImplementedError()\n",
    "    substr = conditioning_set + event\n",
    "    if type(shot_sequences) is str:\n",
    "        shot_sequences = [shot_sequences]\n",
    "    count = []\n",
    "    for shot in shot_sequences:\n",
    "        ans = 0\n",
    "        for i in range(len(shot) - len(substr) + 1):\n",
    "            if shot[i: i+len(substr)] == substr:\n",
    "                ans += 1\n",
    "        count.append(ans)\n",
    "    return pd.Series(count)"
   ]
  },
  {
   "cell_type": "code",
   "execution_count": null,
   "metadata": {
    "deletable": false,
    "editable": false,
    "nbgrader": {
     "cell_type": "code",
     "checksum": "ab0868d53033d7d52c60161c96f9149b",
     "grade": true,
     "grade_id": "cell-92073dda98dd97e1",
     "locked": true,
     "points": 1,
     "schema_version": 2,
     "solution": false
    }
   },
   "outputs": [],
   "source": [
    "assert isinstance(count_conditionally(pd.Series(klay_example), '11'), pd.Series), \\\n",
    "'count_conditionally should return a pd.Series'"
   ]
  },
  {
   "cell_type": "code",
   "execution_count": null,
   "metadata": {
    "deletable": false,
    "editable": false,
    "nbgrader": {
     "cell_type": "code",
     "checksum": "7c8d6fec1a7a9ff97c564185c968fa29",
     "grade": true,
     "grade_id": "cell-39c251b4cf88cda2",
     "locked": true,
     "points": 3,
     "schema_version": 2,
     "solution": false
    }
   },
   "outputs": [],
   "source": [
    "# Bah, test it yourself"
   ]
  },
  {
   "cell_type": "code",
   "execution_count": null,
   "metadata": {
    "deletable": false,
    "editable": false,
    "nbgrader": {
     "cell_type": "code",
     "checksum": "60883acae78dc8d0f980fe3997db2843",
     "grade": true,
     "grade_id": "cell-7aab1c1204862938",
     "locked": true,
     "points": 6,
     "schema_version": 2,
     "solution": false
    }
   },
   "outputs": [],
   "source": [
    "# Nobody's home"
   ]
  },
  {
   "cell_type": "markdown",
   "metadata": {
    "deletable": false,
    "editable": false,
    "nbgrader": {
     "cell_type": "markdown",
     "checksum": "70e44981fb9af91f5427bc795cc7887d",
     "grade": false,
     "grade_id": "cell-95f6de65af5454f5",
     "locked": true,
     "schema_version": 2,
     "solution": false
    }
   },
   "source": [
    "### Worked examples\n",
    "\n",
    "Read this section carefully. It will probably take some time to digest, but it's a very valuable lesson in statistics that we'd like you to absorb.\n",
    "\n",
    "We'll look at the $T_{k, make}$ statistic to make sure we understand what it is, as well as what we might expect under the null vs. hot hands hypothesis.\n",
    "\n",
    "#### Example 1 \n",
    "\n",
    "Let's first consider a worked out example of computing $T_{3, make}$, the observed rate of success following a streak of 3 makes. \n",
    "We'll use `111110001110` in our example. \n",
    "Looking at the string carefully, we see that the condition `111` occurs 4 times. Of the 4 occurrences, 2 are followed by a make, and 2 are followed by a miss. Thus $T_{3, make}$ for `111110001110` is 0.5.\n",
    "Another way of putting this is that  `count_conditionally('111110001110', '111', '1')` returns the value 2 out of a possible maximum value of 4, and thus $T_{3, make}$ is 0.5.\n",
    "\n",
    "#### Example 2\n",
    "\n",
    "As another example, let's consider  $T_{3, make}$ for `111110001110111`. In this case, the condition `111` occurs 5 times.  However, we will not count the last `111` as a condition set, because there is no opportunity to flip again. We call this last occurrence of `111` an **unrealized conditioning set**. Of the remaining 4 occurrences, 2 are followed by a make, and 2 are followed by a miss. Thus $T_{3, make}$ for `111110001110111` is also 0.5.\n",
    "Another way of putting this is that  `count_conditionally('111110001110111', '111', '1')` returns the value 2 out of a possible maximum value of 4, and thus $T_{3, make}$ is 0.5.\n",
    "\n",
    "#### Check your understanding\n",
    "\n",
    "Compute $T_{4, make}$ for `00000111100001111111000111` assuming the probability the player makes a shot is 75%.\n",
    "<details>\n",
    "    <summary><font color=\"#0000FF\">Click here to show the answer</font></summary>\n",
    "Note that in `00000111100001111111000111`, there are 5 occurrences of `1111`, and the last one is not at the end, so is not an unrealized conditioning set and thus all 5 conditioning sets are under consideration. Of those 5 occurrences, the first is followed by a miss, the second by a make, the third by a make, the fourth is followed by a make, and the fifth is followed by a miss. Thus for this sequence, $T_{4, make}$ is 3/5 = 0.6.\n",
    "</details>\n",
    "\n",
    "Now that you know how to compute $T_{k, make}$, let's reiterate that it tells us the observed probability that we will make the next shot, given that we have made the previous k shots. That is for the sequence `00000111100001111111000111`,  the fact that $T_{4, make}$ is equal to 0.6 means that the **observed probability** of making a shot after 4 shots in a row is 60%.\n",
    "\n",
    "### Computing the Expectated Value of $T_{1, make}$ \n",
    "\n",
    "Consider $T_{1, make}$, i.e. the observed probability that you make a shot, given that your last shot was also a make. Before continuing, make sure you can compute that $T_{1, make}$ of `1110` is $\\frac{2}{3}$.\n",
    "\n",
    "We ultimately want to take player shot sequences and compute $T_{k, make}$, so it'd be a good idea if we know what to expect under the null hypothesis.\n",
    "\n",
    "#### Thought Exercise\n",
    "\n",
    "Suppose that a given player's probability of making a shot is 50%, and that they make exactly 4 shots. Under the null hypothesis (hot hands does not exist), give your guess for the expected value of $T_{1, make}$. Supply your answer by setting the variable `ev_tk1_make`.\n",
    "\n",
    "In other words, if you pick `ev_tk1_make = 0.8`, you're saying that for a shot sequence of four shots for a player with 50% accuracy, under the null hypothesis (hot hands doesn't exist) you expect that you will observe the player making 80% of their shots that follow a make."
   ]
  },
  {
   "cell_type": "code",
   "execution_count": null,
   "metadata": {
    "deletable": false,
    "nbgrader": {
     "cell_type": "code",
     "checksum": "79dcc133e5b1c33f056d71d180c5a557",
     "grade": true,
     "grade_id": "cell-233d0a9c84597802",
     "locked": false,
     "points": 0,
     "schema_version": 2,
     "solution": true
    }
   },
   "outputs": [],
   "source": [
    "# Doesn't matter what you write.  This is just to keep you honest about\n",
    "# your intuition\n",
    "ev_tk1_make = 0.6\n",
    "\n",
    "# YOUR CODE HERE\n",
    "# raise NotImplementedError()"
   ]
  },
  {
   "cell_type": "code",
   "execution_count": null,
   "metadata": {
    "deletable": false,
    "editable": false,
    "nbgrader": {
     "cell_type": "code",
     "checksum": "0422a842fed11d33a17893f4886e9d90",
     "grade": false,
     "grade_id": "cell-4471ff8bcac616ec",
     "locked": true,
     "schema_version": 2,
     "solution": false
    }
   },
   "outputs": [],
   "source": [
    "assert 0 <= ev_tk1_make <= 1"
   ]
  },
  {
   "cell_type": "markdown",
   "metadata": {
    "deletable": false,
    "editable": false,
    "nbgrader": {
     "cell_type": "markdown",
     "checksum": "8ea27fc96602c0a9d38936e62748ae5d",
     "grade": false,
     "grade_id": "cell-28f9536694432174",
     "locked": true,
     "schema_version": 2,
     "solution": false
    }
   },
   "source": [
    "We're guessing that you picked `ev_tk1_make = 0.5`, which is a great guess! It seems clear that if shots are made independently, the chance of making a basket is 50%. While the OVERALL probability is 50%, the CONDITIONAL probability will not be 50%. In other words the expected value of $T_{1, make}$ will not be 0.5 under the null hypothesis if we're considering a shot sequence of 4 shots with 50% probability.\n",
    "\n",
    "How can this be? We will show it to be true by enumerating all the possibilities. Run the cell below to list the four different possibilities for our shot sequences, with the value of $T_{1, make}$ for each sequence in the rightmost column. `n11` is how many times our conditioning set is realized and followed by a 1, and `n10` is how many times our conditioning set is realized and followed by a 0."
   ]
  },
  {
   "cell_type": "code",
   "execution_count": null,
   "metadata": {
    "deletable": false,
    "editable": false,
    "nbgrader": {
     "cell_type": "code",
     "checksum": "980c0e36a7387e816f3141bc5f7fe5d2",
     "grade": false,
     "grade_id": "cell-704647c53463971c",
     "locked": true,
     "schema_version": 2,
     "solution": false
    }
   },
   "outputs": [],
   "source": [
    "def iterable_to_string(iterable):\n",
    "    return ''.join(map(str, iterable))\n",
    "\n",
    "example = pd.DataFrame({\n",
    " 'sequence': [iterable_to_string(s) for s in itertools.product('10', repeat=4)]   \n",
    "})\n",
    "example['n11'] = count_conditionally(example['sequence'], '1', '1')\n",
    "example['n10'] = count_conditionally(example['sequence'], '1', '0')\n",
    "example['tk1'] = (example['n11'] / (example['n11'] + example['n10'])).round(2)\n",
    "\n",
    "example"
   ]
  },
  {
   "cell_type": "markdown",
   "metadata": {
    "deletable": false,
    "editable": false,
    "nbgrader": {
     "cell_type": "markdown",
     "checksum": "a3306068626b895b44e003edbe0aca75",
     "grade": false,
     "grade_id": "cell-b0504e85e135f629",
     "locked": true,
     "schema_version": 2,
     "solution": false
    }
   },
   "source": [
    "Since each sequence is equally likely (you should prove this to yourself!), each of the possible observations for $T_{1, make}$ have the same probability, and we can just take the arithmetic average of `tk1`, dropping any undefined proportions, to get the expected value."
   ]
  },
  {
   "cell_type": "code",
   "execution_count": null,
   "metadata": {
    "deletable": false,
    "editable": false,
    "nbgrader": {
     "cell_type": "code",
     "checksum": "195311ec7642a1dfdda7b4d63d842619",
     "grade": false,
     "grade_id": "cell-5c57d47c92070e84",
     "locked": true,
     "schema_version": 2,
     "solution": false
    }
   },
   "outputs": [],
   "source": [
    "ev_tk1_actual = example['tk1'].dropna().mean().round(2)\n",
    "print(f'The expected value of the conditional proportion is {ev_tk1_actual}')"
   ]
  },
  {
   "cell_type": "markdown",
   "metadata": {
    "deletable": false,
    "editable": false,
    "nbgrader": {
     "cell_type": "markdown",
     "checksum": "a077ac0c1ca0679d179a8c59a359ea63",
     "grade": false,
     "grade_id": "cell-9968c17294b3980f",
     "locked": true,
     "schema_version": 2,
     "solution": false
    }
   },
   "source": [
    "Surprised?  We certainly were!  You can do a similar analysis of $T_{k, miss}$ to find that it is greater than 0.5, meaning the expected proportion of streak reversals (a 1 after a sequence of consecutive 0s) is higher than 0.5, the overall probability of getting a 1!\n",
    "\n",
    "Differently put, if we label the sequence as $s_1, s_2, s_3, s_4$, we can write the proportion as:\n",
    "\n",
    "$$\\begin{align}\n",
    "T_{1, make}\n",
    "&= \\hat{\\mathbb{P}} (\\text{Get a 1 given that previous result was 1}) \\\\\n",
    "&= \\hat{\\mathbb{P}}(s_i = 1\\ \\vert\\ s_{i-1}=1) \\\\\n",
    "&= \\dfrac{n_{11}}{n_{10}+n_{11}}\n",
    "\\end{align}$$\n",
    "\n",
    "It may seem like $\\mathbb{E}\\left\\lbrack T_{1, make} \\right\\rbrack$ should really be 0.5 if the chance of making a shot is 50%, but the table above shows that this is NOT the case. The observed chance of getting a make given that you just got a make is actually 40% when you have a sequence of 4 shots.\n",
    "\n",
    "Notice that the table above is also enough to fully describe the sampling distribution of $T_{1, make}$ for a player with an accuracy of 50%.  Below is a plot of the probability distribution.  There are only 4 possible values for $T_{1, make}$: $0, \\frac{1}{2}, \\frac{2}{3}, \\text{and } 1$."
   ]
  },
  {
   "cell_type": "code",
   "execution_count": null,
   "metadata": {
    "deletable": false,
    "editable": false,
    "nbgrader": {
     "cell_type": "code",
     "checksum": "d5271bf41945122ceec6622e5017f5a6",
     "grade": false,
     "grade_id": "cell-01f29cc649ccbf04",
     "locked": true,
     "schema_version": 2,
     "solution": false
    }
   },
   "outputs": [],
   "source": [
    "sns.distplot(example['tk1'].dropna(),\n",
    "             kde=False, bins=np.arange(-0.005, 1.015, .01), norm_hist=True)\n",
    "plt.xticks(np.arange(0, 1.1, 0.1))\n",
    "plt.title('Sampling Distribution of $T_{1, make}$\\n k=1, 4 shots, 50% Accuracy')\n",
    "plt.xlabel('$T_{1,make}$')\n",
    "plt.ylabel('Probability (Approx %)');"
   ]
  },
  {
   "cell_type": "markdown",
   "metadata": {
    "deletable": false,
    "editable": false,
    "nbgrader": {
     "cell_type": "markdown",
     "checksum": "06e78339ceca23df8c2c9e14b8dfc3f7",
     "grade": false,
     "grade_id": "cell-6420c7d13d7c4d4d",
     "locked": true,
     "schema_version": 2,
     "solution": false
    }
   },
   "source": [
    "#### Problem 11 \\[5pts\\]\n",
    "Recall that in the example above, we were conditioning on runs of length 1 and a player that shoots 4 times with an accuracy of 50%.  Calculate the expected proportion of makes conditioned on runs of length 2 (i.e.  $T_{2, make}$) when the player shoots 16 times with an accuracy of 50%."
   ]
  },
  {
   "cell_type": "code",
   "execution_count": null,
   "metadata": {
    "deletable": false,
    "nbgrader": {
     "cell_type": "code",
     "checksum": "572ae9f7c8673b1b8bf4dbb5cb695cae",
     "grade": false,
     "grade_id": "cell-9e4fa2044fecb32f",
     "locked": false,
     "schema_version": 2,
     "solution": true
    }
   },
   "outputs": [],
   "source": [
    "def iterable_to_string(iterable):\n",
    "    return ''.join(map(str, iterable))\n",
    "\n",
    "df = pd.DataFrame({\n",
    " 'sequence': [iterable_to_string(s) for s in itertools.product('10', repeat=16)]   \n",
    "})\n",
    "df['n111'] = count_conditionally(df['sequence'], '11', '1')\n",
    "df['n110'] = count_conditionally(df['sequence'], '11', '0')\n",
    "df['tk1'] = (df['n111'] / (df['n111'] + df['n110'])).round(2)\n",
    "\n",
    "expected_proportion = round(df['tk1'].dropna().mean(), 2)\n",
    "# YOUR CODE HERE\n",
    "# raise NotImplementedError()"
   ]
  },
  {
   "cell_type": "code",
   "execution_count": null,
   "metadata": {
    "deletable": false,
    "editable": false,
    "nbgrader": {
     "cell_type": "code",
     "checksum": "b09623fc59f493a026f0dfcc72a5b0c0",
     "grade": true,
     "grade_id": "cell-eafd8c2b440e2da0",
     "locked": true,
     "points": 5,
     "schema_version": 2,
     "solution": false
    }
   },
   "outputs": [],
   "source": [
    "assert 0 <= expected_proportion <= 1, \\\n",
    "'The expected proportion should be between 0 and 1.'"
   ]
  },
  {
   "cell_type": "markdown",
   "metadata": {
    "deletable": false,
    "editable": false,
    "nbgrader": {
     "cell_type": "markdown",
     "checksum": "6f3f62dc0de5bb16ad7f3df25d57d60d",
     "grade": false,
     "grade_id": "cell-0e2a111587214153",
     "locked": true,
     "schema_version": 2,
     "solution": false
    }
   },
   "source": [
    "#### Problem 12 \\[5pts\\]\n",
    "Plot the sampling distribution of $T_{2, make}$ of a player who shoots 16 times with an accuracy of 50%.  You should be able to reuse your work from the last problem."
   ]
  },
  {
   "cell_type": "code",
   "execution_count": null,
   "metadata": {
    "deletable": false,
    "nbgrader": {
     "cell_type": "code",
     "checksum": "3ad4d4115efee4a13377ebad41cb654a",
     "grade": true,
     "grade_id": "cell-80d716e9c7c244b4",
     "locked": false,
     "points": 5,
     "schema_version": 2,
     "solution": true
    }
   },
   "outputs": [],
   "source": [
    "# YOUR CODE HERE\n",
    "# raise NotImplementedError()\n",
    "sns.distplot(df['tk1'].dropna(),\n",
    "             kde=False, bins=np.arange(-0.005, 1.015, .01), norm_hist=True)\n",
    "plt.xticks(np.arange(0, 1.1, 0.1))\n",
    "plt.title('Sampling Distribution of $T_{2, make}$\\n k=2, 16 shots, 50% Accuracy')\n",
    "plt.xlabel('$T_{2,make}$')\n",
    "plt.ylabel('Probability (Approx %)');\n",
    "plt.show()"
   ]
  },
  {
   "cell_type": "markdown",
   "metadata": {
    "deletable": false,
    "editable": false,
    "nbgrader": {
     "cell_type": "markdown",
     "checksum": "ffa838aea2f8422666d5f927eaf109ff",
     "grade": false,
     "grade_id": "cell-e2430999c78984f6",
     "locked": true,
     "schema_version": 2,
     "solution": false
    }
   },
   "source": [
    "It turns out that the logic for calculating the exact sampling distribution for $T_{k, make}$ when a player has an accuracy other than 50% is a little more complicated than we're immediately equipped to deal with in this class.  This might seem like our analysis is going to be doomed. If we can't compute $T_{k, make}$ to expect under the null hypothesis for a given player, how will be able to recognize a $T_{k, make}$ value that indicates that the hot hands hypothesis is true?\n",
    "\n",
    "Luckily, we don't have to, because we have a tool that will allow us to approximate the sampling distribution under the null hypothesis: the bootstrap.  The key observation is that the bootstrap procedure naturally preserves the player's overall shot accuracy in a given game. We'll use the bootstrap in a little while at the very end of this homework.\n",
    "\n",
    "In short, all that hard work we just did to compute the exact sampling distribution of $T_{k, make}$ isn't going to play a role in our analysis. Nonetheless, we felt it was important to really dig in and gain intuition on this test statistic.\n",
    "\n",
    "## The \"Tversky Statistic\" for Hot Hand Detection\n",
    "\n",
    "It turns out that simply measuring $T_k = T_{k, make}$ isn't as useful as the \"Tversky statistic\" for hot-hand detection, defined as \n",
    "\n",
    "$$T_k = T_{k, make} - T_{k, miss}$$\n",
    "\n",
    "The original inspiration for this statistic was to measure hot-handedness by comparing the proportion of times a player continued a success streak against their propensity to reverse a string of misses. As we saw above, computing the expected value of $T_{k, make}$ is hard and the results are counterintuitive. We're not going to formally explore the expected value of $T_k$, but you are free and encouraged to do so.\n",
    "\n",
    "We will, however, mention that for reasons similar to our analysis in the previous sections, despite most people's initial intuition that the expected value of $T_k$ should be zero, this statistic has its sampling distribution centered around a value less than 0.\n",
    "\n",
    "#### Problem 13 \\[5pts\\]\n",
    "\n",
    "The Tversky statistic is sometimes undefined (has no valid value).  In our analysis, we will be discarding sequences where $T_k$ is undefined.  The reason is that it doesn't make sense to count cases where the conditioning set isn't present.  Specifically describe the two cases where $T_k$ is undefined."
   ]
  },
  {
   "cell_type": "markdown",
   "metadata": {
    "deletable": false,
    "nbgrader": {
     "cell_type": "markdown",
     "checksum": "cc88ec35e81ca631ed93cd56980a9d69",
     "grade": true,
     "grade_id": "cell-d677cb0773ce50e6",
     "locked": false,
     "points": 5,
     "schema_version": 2,
     "solution": true
    }
   },
   "source": [
    "1. If the shot sequences consist of all 0s and 1s, then $T_{k, make}$ or $T_{k, miss}$ would be NaN thus $T_k$ is undefined.\n",
    "2. If $k$ is too large, then $T_{k, make}$ and $T_{k, miss}$ will be NaN."
   ]
  },
  {
   "cell_type": "markdown",
   "metadata": {
    "deletable": false,
    "editable": false,
    "nbgrader": {
     "cell_type": "markdown",
     "checksum": "82764672066a137b26b3deeb0dea3ff5",
     "grade": false,
     "grade_id": "cell-54e125090356f3e9",
     "locked": true,
     "schema_version": 2,
     "solution": false
    }
   },
   "source": [
    "#### Problem  14 \\[5pts\\]\n",
    "Write a function `calc_tk_stat` that can take a `pd.Series` of shot strings and return their Tversky statistics.  If the statistic is undefined, return `NaN`."
   ]
  },
  {
   "cell_type": "code",
   "execution_count": null,
   "metadata": {
    "deletable": false,
    "nbgrader": {
     "cell_type": "code",
     "checksum": "a74d4b73b2d30dc19797f632dfcb2d92",
     "grade": false,
     "grade_id": "cell-4dfbe30c183deae0",
     "locked": false,
     "schema_version": 2,
     "solution": true
    }
   },
   "outputs": [],
   "source": [
    "def calc_tk_stat(games, k):\n",
    "    \"\"\"\n",
    "    Computes the tversky statistic for hot hands\n",
    "        \n",
    "    games: pd.Series (string) shot data for a set of games\n",
    "    k: int, conditioning set length; number of misses/hits to condition on\n",
    "    \"\"\"\n",
    "\n",
    "# YOUR CODE HERE\n",
    "# raise NotImplementedError()\n",
    "    make_make = count_conditionally(games, \"1\" * k, \"1\")\n",
    "    make_fail = count_conditionally(games, \"1\" * k, \"0\")\n",
    "    make = make_make / (make_make + make_fail)\n",
    "    fail_make = count_conditionally(games, \"0\" * k, \"1\")\n",
    "    fail_fail = count_conditionally(games, \"0\" * k, \"0\")\n",
    "    fail = fail_make / (fail_make + fail_fail)\n",
    "    return make - fail        "
   ]
  },
  {
   "cell_type": "code",
   "execution_count": null,
   "metadata": {
    "deletable": false,
    "editable": false,
    "nbgrader": {
     "cell_type": "code",
     "checksum": "56eb2308d95662ebed95cdc64acb9965",
     "grade": true,
     "grade_id": "cell-ac00a6cd32948664",
     "locked": true,
     "points": 5,
     "schema_version": 2,
     "solution": false
    }
   },
   "outputs": [],
   "source": [
    "assert np.isclose(calc_tk_stat(pd.Series(['1110100110000011']), 2), pd.Series([-1/15])), \\\n",
    "'T_2 for 1110100110000011 is -1/15'"
   ]
  },
  {
   "cell_type": "markdown",
   "metadata": {
    "deletable": false,
    "editable": false,
    "nbgrader": {
     "cell_type": "markdown",
     "checksum": "2605379e6755f9987722a5c922f076d0",
     "grade": false,
     "grade_id": "cell-eb25e4511233f406",
     "locked": true,
     "schema_version": 2,
     "solution": false
    }
   },
   "source": [
    "### Statistically Testing the Null Hypothesis\n",
    "\n",
    "Now we return to the question of whether or not Thompson has hot hands. Under the hypothesis that he does have hot hands, Klay Thompson has a higher chance of making shots when he has recently made shots. Under the null hypothesis, his chance of making a shot is independent of recent successes.\n",
    "\n",
    "Run the cell below, which we'll use to load all of Klay Thompson's data.\n",
    "\n",
    "Assuming you've correctly read in `shot_data`, `klay_data` is a `pd.Series` containing Klay Thompson's shot records for the 2016-2017 season for all games (not just the game where he got 60 points)."
   ]
  },
  {
   "cell_type": "code",
   "execution_count": null,
   "metadata": {
    "deletable": false,
    "editable": false,
    "nbgrader": {
     "cell_type": "code",
     "checksum": "52609d6337267bf0a698a566699c8b8a",
     "grade": false,
     "grade_id": "cell-2a5a099038fd607f",
     "locked": true,
     "schema_version": 2,
     "solution": false
    }
   },
   "outputs": [],
   "source": [
    "klay_data = shot_data.loc[pd.IndexSlice[:, 'K. Thompson'], 'shots']\n",
    "klay_data.head(5)"
   ]
  },
  {
   "cell_type": "code",
   "execution_count": null,
   "metadata": {
    "deletable": false,
    "editable": false,
    "nbgrader": {
     "cell_type": "code",
     "checksum": "68f9c5441461ef91334e8c20f2995cd4",
     "grade": false,
     "grade_id": "cell-9af7882979400467",
     "locked": true,
     "schema_version": 2,
     "solution": false
    }
   },
   "outputs": [],
   "source": [
    "assert isinstance(klay_data, pd.Series), \\\n",
    "'klay_data should be a pd.Series'\n",
    "assert klay_data.shape[0] == 95, \\\n",
    "'You have too few observations (should be 95)'\n",
    "assert '0000010110101' in klay_data.values, \\\n",
    "'000001011010 is missing from your data'\n",
    "assert klay_data.apply(lambda x: sum([int(n) for n in x])).sum() == 950, \\\n",
    "'You failed the checksum'"
   ]
  },
  {
   "cell_type": "markdown",
   "metadata": {
    "deletable": false,
    "editable": false,
    "nbgrader": {
     "cell_type": "markdown",
     "checksum": "2ffae4cc0f13a7a29e1f97ea22b173ab",
     "grade": false,
     "grade_id": "cell-ca6e7a0775b2d627",
     "locked": true,
     "schema_version": 2,
     "solution": false
    }
   },
   "source": [
    "#### Problem 15 \\[10pts\\]\n",
    "\n",
    "To help carry out the analysis at scale, write a function `calc_p_values` that can take a `pd.Series` of test statistics (one for each game) and compare it to a `pd.DataFrame` of simulated statistics.  In the `pd.DataFrame`, each row corresponds to the a game, so the shape will be (number of games, number of bootstrap replications).  You may assume `observed_statistics` does not contain any `NaNs`; however, `simulated_statistics` may have some.\n",
    "\n",
    "**Example Behavior**\n",
    "\n",
    "If our observed statistics are `pd.Series([0.5, 0.35, 0.4])` and our simulated statistics are a Dataframe with the values:\n",
    "\n",
    "```\n",
    "0.1, 0.3, 0.4, 0.6, 0.4, 0.6, 0.8, 0.9\n",
    "0.3, NaN, 0.7, 0.1, 0.3, 0.1, 0.8, 0.6\n",
    "0.3, 0.7, 0.1, 0.6, 0.7, NaN, NaN, 0.2\n",
    "```\n",
    "\n",
    "Then your function should return `pd.Series([4/8, 3/7, 3/6])`, e.g. the number of simulated statistics that matched or exceeded the observed statistic were 4 out of a possible 8."
   ]
  },
  {
   "cell_type": "code",
   "execution_count": null,
   "metadata": {
    "deletable": false,
    "nbgrader": {
     "cell_type": "code",
     "checksum": "6e0b00c2792c67aaacd160139b0e32ff",
     "grade": false,
     "grade_id": "cell-c8857a4680bfc540",
     "locked": false,
     "schema_version": 2,
     "solution": true
    }
   },
   "outputs": [],
   "source": [
    "def calc_p_values(observed_statistics, simulated_statistics):\n",
    "    \"\"\"\n",
    "    observed_statistics: pd.Series (float), test statistics for each game \n",
    "    simulated_statistics: pd.DataFrame, rows represent games, columns contain \n",
    "        test statistics simulated under the null hypothesis \n",
    "    \n",
    "    return: pd.Series (float), p-values for every game between 0 and 1\n",
    "    \"\"\"\n",
    "    # YOUR CODE HERE\n",
    "#     raise NotImplementedError()\n",
    "    ans = []\n",
    "    for i in range(len(observed_statistics)):\n",
    "        ans.append(sum(simulated_statistics.iloc[i].dropna() >= observed_statistics[i]) / len(simulated_statistics.iloc[i].dropna()))\n",
    "    return pd.Series(ans)"
   ]
  },
  {
   "cell_type": "code",
   "execution_count": null,
   "metadata": {
    "deletable": false,
    "editable": false,
    "nbgrader": {
     "cell_type": "code",
     "checksum": "b6a165e35fe3d3a24df47c32658b7c9f",
     "grade": true,
     "grade_id": "cell-8ac113e49b1a66b5",
     "locked": true,
     "points": 2,
     "schema_version": 2,
     "solution": false
    }
   },
   "outputs": [],
   "source": [
    "pv_obstat = pd.Series([0.5, 0.35, 0.4])\n",
    "pv_simstat = pd.DataFrame(columns=list(range(100)), index=list(range(3)))\n",
    "pv_simstat.loc[0] = pd.Series([0.1, 0.3, 0.4, 0.6, 0.4, 0.6, 0.8, 0.9])\n",
    "pv_simstat.loc[1] = pd.Series([0.3, np.nan, 0.7, 0.1, 0.3, 0.1, 0.8, 0.6])\n",
    "pv_simstat.loc[2] = pd.Series([0.3, 0.7, 0.1, 0.6, 0.7, np.nan, np.nan, 0.2])\n",
    "\n",
    "assert isinstance(calc_p_values(pv_obstat, pv_simstat), pd.Series)\n",
    "assert calc_p_values(pv_obstat, pv_simstat).equals(pd.Series([4/8, 3/7, 3/6]))"
   ]
  },
  {
   "cell_type": "code",
   "execution_count": null,
   "metadata": {
    "deletable": false,
    "editable": false,
    "nbgrader": {
     "cell_type": "code",
     "checksum": "ae06e05aae35c749ff8ba8d0f5cb17df",
     "grade": true,
     "grade_id": "cell-f0a5ca78a5b8260d",
     "locked": true,
     "points": 8,
     "schema_version": 2,
     "solution": false
    }
   },
   "outputs": [],
   "source": [
    "# No admittance except on party business"
   ]
  },
  {
   "cell_type": "markdown",
   "metadata": {
    "deletable": false,
    "editable": false,
    "nbgrader": {
     "cell_type": "markdown",
     "checksum": "d37b192a38e29ffc714706c932675768",
     "grade": false,
     "grade_id": "cell-c2b711116ffc8c5c",
     "locked": true,
     "schema_version": 2,
     "solution": false
    }
   },
   "source": [
    "#### Problem 16 \\[Graded in the Synthesis Portion\\]\n",
    "\n",
    "Carry out bootstrap hypothesis tests for all 95 records in `klay_data` for conditioning sets of length $k=1,2,3$.  Use 10000 bootstrap replicates to approximate the sampling distribution in each test.  You will report your results in the following section.  Technically, we should be worried about [multiple testing issues](https://en.wikipedia.org/wiki/Multiple_comparisons_problem), but you can ignore them in your analysis.\n",
    "\n",
    "For the cell below, there is no specific structure to the output that you must produce. However, your code should compute at least:\n",
    "* The observed Tversky statistic for each of the 95 games. For example, for $k = 1$, for game `'201610250GSW'`, the observed Tversky statistic is exactly `-0.250000`. \n",
    "* The number of observations that had to be discarded due to an undefined Tversky statistic. For example, the game `'201610250GSW'` with shot sequence `'0000010110101'` has an undefined Tversky statistic for $k = 3$.\n",
    "* The p-values for each of the 95 games. For eaxmple, for $k=1$, for game `'201610250GSW'`, the p-value should be approximately 0.75.\n",
    "* The number of games whose p-values were significant at the 5% level. For example, you might find that for $k=1$, 90 out of 95 games have a p-value of less than 0.05, which would be strong evidence of the hot hands effect.\n",
    "\n",
    "You'll compile the results of your findings in the next and final section of this homework."
   ]
  },
  {
   "cell_type": "code",
   "execution_count": null,
   "metadata": {
    "deletable": false,
    "nbgrader": {
     "cell_type": "code",
     "checksum": "24af5e75a1183b22086dd3e886362dfe",
     "grade": true,
     "grade_id": "cell-863ddd45a33699c2",
     "locked": false,
     "points": 0,
     "schema_version": 2,
     "solution": true
    }
   },
   "outputs": [],
   "source": [
    "# YOUR CODE HERE\n",
    "# raise NotImplementedError()\n",
    "klay_series = klay_data.copy()\n",
    "klay_series.index = klay_data.index.droplevel(1)\n",
    "klay_tk_values = [calc_tk_stat(klay_series, k + 1) for k in range(3)]\n",
    "klay_tk_stat = pd.DataFrame({str(k + 1): klay_tk_values[k] for k in range(3)})\n",
    "\n",
    "\n",
    "def bootstrap_run(game, num_iter):\n",
    "    game_split = list(game)\n",
    "    df = []\n",
    "    for i in range(num_iter):\n",
    "        df.append(''.join(np.random.choice(game_split, size=len(game))))\n",
    "    return pd.Series(df)\n",
    "\n",
    "test_pv = calc_p_values(calc_tk_stat(klay_series['201610250GSW'], 1), calc_tk_stat(bootstrap_run(klay_series['201610250GSW'], 10000), 1).to_frame().T)\n",
    "\n",
    "klay_sim = []\n",
    "for game in klay_series:\n",
    "    klay_sim.append(bootstrap_run(game, 10000))\n",
    "klay_sim = pd.DataFrame(klay_sim)\n",
    "klay_sim.index = klay_series.index\n",
    "\n",
    "\n",
    "klay_p_values = [calc_p_values(calc_tk_stat(klay_series, k + 1), klay_sim.apply(lambda x : calc_tk_stat(x, k + 1))) for k in range(3)]\n",
    "klay_p_stat = pd.concat(klay_p_values, axis=1)\n",
    "klay_p_stat.columns = ['1', '2', '3']\n",
    "klay_p_stat.head()"
   ]
  },
  {
   "cell_type": "markdown",
   "metadata": {
    "deletable": false,
    "editable": false,
    "nbgrader": {
     "cell_type": "markdown",
     "checksum": "75332375a35fdc40f51606f26df37319",
     "grade": false,
     "grade_id": "cell-ca98ab8b4b8b877c",
     "locked": true,
     "schema_version": 2,
     "solution": false
    }
   },
   "source": [
    "## Synthesis\n",
    "\n",
    "Running the numerical computations in hypothesis testing is only part of the battle.  Convincing others of the validity of the analysis is just as if not more important.  Compile everything you have done/learned into a miniature report.  Describe how you used the Tversky statistic to test whether or not Klay Thompson has hot hands.  Your answer should follow the structure given below.  While we can provide you with an idea of items you should definitely include in such a report, you will need to supply the wording to concisely and convincingly tell the story.  \n",
    "\n",
    "**Note:** DO NOT copy this cell using command mode.  This will cause the autograder to fail on your notebook.  You may, however, double click on the cell and copy its text.\n",
    "\n",
    "**Data Generation Model**\n",
    "\n",
    "We modeled Klay Thompson's shot record for each game as sequences of `INSERT description of random variable` with the following assumptions\n",
    "\n",
    "* `INSERT Assumption 1`\n",
    "* ...\n",
    "\n",
    "We realize that this ignores the following real-life issues\n",
    "\n",
    "* `INSERT Issue 1`\n",
    "* ...\n",
    "\n",
    "However, this analysis can be used as a baseline that we can compare more complicated models to.\n",
    "\n",
    "**Null Hypothesis**\n",
    "\n",
    "Our null hypothesis is `INSERT null hypothesis in plain English`.  In terms of our model, this means that `INSERT mathematical implication of null hypothesis`.\n",
    "\n",
    "**Test Statistic**\n",
    "\n",
    "To test our hypothesis, we used the Tversky statistic, which can be interpreted as `INSERT plain English description in words`.  This can be written mathematically as:\n",
    "\n",
    "$$\\text{INSERT LaTeX statistic = function of data}$$\n",
    "\n",
    "**Results**\n",
    "\n",
    "Looking Klay's December 5th game against the Pacers, we calculated a p-value of `INSERT p-value` for $k=1$, which `CHOOSE ONE: is  or is not` significant at the 5% level.  This can be verified visually in the following plot.\n",
    "\n",
    "$$\\text{Insert plot of sampling distribution and observed statistic}$$\n",
    "\n",
    "We go on to analyze all of Thompson's games and find that `CHOOSE ONE: few or many` of the observations are significant at the 5% level for conditioning sets of length $k=1,2,3$.  The table below shows the number of observations that we discarded due to the statistic being undefined and the number that are significant at each conditioning length.\n",
    "\n",
    "Player | Number of Games | k | Number of Games Discarded | Number of Games Significant\n",
    "---      | --- | --- | ---                 | ---\n",
    "Thompson | 95  | 1   | `INSERT # Dropped for k=1` | `INSERT # Significant for k=1` \n",
    "         |  -  | 2   | `INSERT # Dropped for k=2` | `INSERT # Significant for k=2`\n",
    "         |  -  | 3   | `INSERT # Dropped for k=3` | `INSERT # Significant for k=3`\n"
   ]
  },
  {
   "cell_type": "markdown",
   "metadata": {
    "deletable": false,
    "editable": false,
    "nbgrader": {
     "cell_type": "markdown",
     "checksum": "7776c470058e3a7a4d7aecd6e8378c0d",
     "grade": false,
     "grade_id": "cell-e4dee906625481f9",
     "locked": true,
     "schema_version": 2,
     "solution": false
    }
   },
   "source": [
    "#### Data Generation Model \\[8pts\\]"
   ]
  },
  {
   "cell_type": "markdown",
   "metadata": {
    "deletable": false,
    "nbgrader": {
     "cell_type": "markdown",
     "checksum": "c456144ba0b8884108b7ab871c468959",
     "grade": true,
     "grade_id": "cell-03b91c921cd52478",
     "locked": false,
     "points": 8,
     "schema_version": 2,
     "solution": true
    }
   },
   "source": [
    "YOUR ANSWER HERE\n",
    "\n",
    "We modeled Klay Thompson's shot record for each game as sequences of `string consists of 0 and 1 where 0 to represent a missed  and 1 to represent a made` with the following assumptions\n",
    "\n",
    "* `Opposing teams don't affect shot`\n",
    "* `Distance doesn't affect shot`\n",
    "* `Shot types are the same in difficulty (3-pointers, 2-points, free-throws)`\n",
    "\n",
    "We realize that this ignores the following real-life issues\n",
    "\n",
    "* `Opposing teams affect shot`\n",
    "* `Distance affects shot`\n",
    "* `Shot types vary in difficulty (3-pointers, 2-points, free-throws)`"
   ]
  },
  {
   "cell_type": "markdown",
   "metadata": {
    "deletable": false,
    "editable": false,
    "nbgrader": {
     "cell_type": "markdown",
     "checksum": "90f9b8fad4ad2b117454effdf3111d1e",
     "grade": false,
     "grade_id": "cell-122ac4a95e91b9df",
     "locked": true,
     "schema_version": 2,
     "solution": false
    }
   },
   "source": [
    "#### Null Hypothesis \\[5pts\\]"
   ]
  },
  {
   "cell_type": "markdown",
   "metadata": {
    "deletable": false,
    "nbgrader": {
     "cell_type": "markdown",
     "checksum": "7afd96351abcc1770b97ca223372f7f1",
     "grade": true,
     "grade_id": "cell-9a9e40d64c9fc393",
     "locked": false,
     "points": 5,
     "schema_version": 2,
     "solution": true
    }
   },
   "source": [
    "YOUR ANSWER HERE\n",
    "\n",
    "Our null hypothesis is `there is no hot hands effect`.  In terms of our model, this means that `any kind of permutation of a given shot sequence is equally likely no matter the conditions behind`."
   ]
  },
  {
   "cell_type": "markdown",
   "metadata": {
    "deletable": false,
    "editable": false,
    "nbgrader": {
     "cell_type": "markdown",
     "checksum": "e2d689c0a0082ace1e3388c5b6fb7ffa",
     "grade": false,
     "grade_id": "cell-b7078b2962a34f02",
     "locked": true,
     "schema_version": 2,
     "solution": false
    }
   },
   "source": [
    "#### Test Statistic \\[2pts\\]"
   ]
  },
  {
   "cell_type": "markdown",
   "metadata": {
    "deletable": false,
    "nbgrader": {
     "cell_type": "markdown",
     "checksum": "18418b35013dc765a3fdd7f97f14e123",
     "grade": true,
     "grade_id": "cell-2a3d24937ac712d1",
     "locked": false,
     "points": 2,
     "schema_version": 2,
     "solution": true
    }
   },
   "source": [
    "YOUR ANSWER HERE\n",
    "\n",
    "\n",
    "To test our hypothesis, we used the Tversky statistic, which can be interpreted as `difference between the proportion of times a player continued a success streak against their propensity to reverse a string of misses`.  This can be written mathematically as:\n",
    "\n",
    "$$T_k = T_{k, make} - T_{k, miss} = P(\\text{make a shot}\\mid\\text{have made last k shots}) - P(\\text{make a shot}\\mid\\text{have lost last k shots})$$"
   ]
  },
  {
   "cell_type": "markdown",
   "metadata": {
    "deletable": false,
    "editable": false,
    "nbgrader": {
     "cell_type": "markdown",
     "checksum": "66a391d57b23a7a9e02bddc597963c6b",
     "grade": false,
     "grade_id": "cell-d4abca2fe9df77d2",
     "locked": true,
     "schema_version": 2,
     "solution": false
    }
   },
   "source": [
    "#### Results \\[20pts\\]"
   ]
  },
  {
   "cell_type": "markdown",
   "metadata": {
    "deletable": false,
    "nbgrader": {
     "cell_type": "markdown",
     "checksum": "eded2c8958600911438de848d7bd7075",
     "grade": true,
     "grade_id": "cell-8b1a609ca9864001",
     "locked": false,
     "points": 3,
     "schema_version": 2,
     "solution": true
    }
   },
   "source": [
    "YOUR ANSWER HERE\n",
    "\n",
    "Looking Klay's December 5th game against the Pacers, we calculated a p-value of `0.90` for $k=1$, which `is not` significant at the 5% level.  This can be verified visually in the following plot.\n"
   ]
  },
  {
   "cell_type": "code",
   "execution_count": null,
   "metadata": {
    "deletable": false,
    "nbgrader": {
     "cell_type": "code",
     "checksum": "ef2f31cabeabdcf2d9ccea2f8b186e6b",
     "grade": true,
     "grade_id": "cell-367db71b8f8a552c",
     "locked": false,
     "points": 5,
     "schema_version": 2,
     "solution": true
    }
   },
   "outputs": [],
   "source": [
    "game_id = '201612050GSW'\n",
    "\n",
    "klay_tk_obs = calc_tk_stat(klay_series[game_id], 1)[0]\n",
    "sns.distplot(klay_tk_stat['1'])\n",
    "plt.axvline(x=klay_tk_obs, color='r', dashes=(2,2))\n",
    "plt.title('Sampling Distribution and Observed Statistic') \n",
    "plt.xlabel('Tversky Statistic')\n",
    "plt.ylabel('Count')\n",
    "plt.show()\n",
    "\n",
    "# YOUR CODE HERE\n",
    "# raise NotImplementedError()"
   ]
  },
  {
   "cell_type": "markdown",
   "metadata": {
    "deletable": false,
    "nbgrader": {
     "cell_type": "markdown",
     "checksum": "b8118897047c7f45b7f42033cfce0970",
     "grade": true,
     "grade_id": "cell-607df58ae57d4b8f",
     "locked": false,
     "points": 0,
     "schema_version": 2,
     "solution": true
    }
   },
   "source": [
    "YOUR ANSWER HERE\n",
    "\n",
    "\n",
    "\n",
    "$$\\text{Insert plot of sampling distribution and observed statistic}$$\n",
    "\n",
    "We go on to analyze all of Thompson's games and find that `few` of the observations are significant at the 5% level for conditioning sets of length $k=1,2,3$.  The table below shows the number of observations that we discarded due to the statistic being undefined and the number that are significant at each conditioning length.\n",
    "\n",
    "\n",
    "\n",
    "Player | Number of Games | k | Number of Games Discarded | Number of Games Significant\n",
    "---      | --- | --- | ---                 | ---\n",
    "Thompson | 95  | 1   | `0` | `5` \n",
    "         |  -  | 2   | `3` | `4`\n",
    "         |  -  | 3   | `42` | `2`\n",
    "\n"
   ]
  },
  {
   "cell_type": "markdown",
   "metadata": {
    "deletable": false,
    "editable": false,
    "nbgrader": {
     "cell_type": "markdown",
     "checksum": "0ea6e348cb5e2e20dbedf1a4d32ed9a7",
     "grade": false,
     "grade_id": "cell-816bf2b33d39650b",
     "locked": true,
     "schema_version": 2,
     "solution": false
    }
   },
   "source": [
    "In order to quickly grade your table, we ask that you include the values of the table in the cell below.  `n_discarded_k*` is the number of discarded observations due to undefined statistics, and `n_sig_k*` is the number of significant observations where `*` is the length of the conditioning set."
   ]
  },
  {
   "cell_type": "code",
   "execution_count": null,
   "metadata": {
    "deletable": false,
    "nbgrader": {
     "cell_type": "code",
     "checksum": "b884bcaa1c842a9dfdb8ba8b211ee4c2",
     "grade": false,
     "grade_id": "cell-07aa7625ca78e559",
     "locked": false,
     "schema_version": 2,
     "solution": true
    }
   },
   "outputs": [],
   "source": [
    "n_discarded_k1 = 0\n",
    "n_discarded_k2 = 3\n",
    "n_discarded_k3 = 42\n",
    "n_sig_k1 = 5\n",
    "n_sig_k2 = 4\n",
    "n_sig_k3 = 2\n",
    "\n",
    "# YOUR CODE HERE\n",
    "# raise NotImplementedError()"
   ]
  },
  {
   "cell_type": "code",
   "execution_count": null,
   "metadata": {
    "deletable": false,
    "editable": false,
    "nbgrader": {
     "cell_type": "code",
     "checksum": "71a46d0f54bd67f09443deb6d364c070",
     "grade": true,
     "grade_id": "cell-ca0c846921cea94f",
     "locked": true,
     "points": 5,
     "schema_version": 2,
     "solution": false
    }
   },
   "outputs": [],
   "source": [
    "# No moleste"
   ]
  },
  {
   "cell_type": "code",
   "execution_count": null,
   "metadata": {
    "deletable": false,
    "editable": false,
    "nbgrader": {
     "cell_type": "code",
     "checksum": "1c8b23b3744621f13764372737ae2715",
     "grade": true,
     "grade_id": "cell-f0aed40c45906045",
     "locked": true,
     "points": 7,
     "schema_version": 2,
     "solution": false
    }
   },
   "outputs": [],
   "source": [
    "# Yeah I'm empty.  Wanna fight?"
   ]
  },
  {
   "cell_type": "markdown",
   "metadata": {
    "deletable": false,
    "editable": false,
    "nbgrader": {
     "cell_type": "markdown",
     "checksum": "d523336008442a20bdf7cd571a4d1155",
     "grade": false,
     "grade_id": "cell-747bfdab54e92179",
     "locked": true,
     "schema_version": 2,
     "solution": false
    }
   },
   "source": [
    "## Further Reading\n",
    "\n",
    "__ESPN reports on this type of analysis__  \n",
    "_Haberstroh (2017)_.  \"He's heating up, he's on fire! Klay Thompson and the truth about the hot hand\".  http://www.espn.com/nba/story/_/page/presents-19573519/heating-fire-klay-thompson-truth-hot-hand-nba\n",
    "\n",
    "__PDFs included in this homework folder__  \n",
    "_Daks, Desai, Goldberg (2018)_. \"Do the GSW Have Hot Hands?\"  \n",
    "_Miller, Sanjurjo (2015)_. \"Surprised by the Gambler's and Hot Hand Fallacies? A Truth in the Law of Small Numbers\"\n",
    "\n",
    "We thank Alon Daks, Nishant Desai, Lisa Goldberg, and Alex Papanicolaou for their contributions and suggestions in making this homework."
   ]
  },
  {
   "cell_type": "markdown",
   "metadata": {},
   "source": [
    "## Submission\n",
    "\n",
    "You're almost done!\n",
    "\n",
    "Before submitting this assignment, ensure that you have:\n",
    "\n",
    "1. Restarted the Kernel (in the menubar, select Kernel$\\rightarrow$Restart & Run All)\n",
    "2. Validated the notebook by clicking the \"Validate\" button.\n",
    "\n",
    "Then,\n",
    "\n",
    "1. **Submit** the assignment via the Assignments tab in **Datahub** \n",
    "1. **Upload and tag** the manually reviewed portions of the assignment on **Gradescope**"
   ]
  }
 ],
 "metadata": {
  "kernelspec": {
   "display_name": "Python 3",
   "language": "python",
   "name": "python3"
  },
  "language_info": {
   "codemirror_mode": {
    "name": "ipython",
    "version": 3
   },
   "file_extension": ".py",
   "mimetype": "text/x-python",
   "name": "python",
   "nbconvert_exporter": "python",
   "pygments_lexer": "ipython3"
  },
  "toc": {
   "nav_menu": {},
   "number_sections": false,
   "sideBar": true,
   "skip_h1_title": false,
   "title_cell": "Table of Contents",
   "title_sidebar": "Contents",
   "toc_cell": true,
   "toc_position": {
    "height": "calc(100% - 180px)",
    "left": "10px",
    "top": "150px",
    "width": "229px"
   },
   "toc_section_display": true,
   "toc_window_display": true
  }
 },
 "nbformat": 4,
 "nbformat_minor": 2
}
