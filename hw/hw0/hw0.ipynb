{
 "cells": [
  {
   "cell_type": "markdown",
   "metadata": {},
   "source": [
    "Before you turn this problem in, make sure everything runs as expected. First, **restart the kernel** (in the menubar, select Kernel$\\rightarrow$Restart) and then **run all cells** (in the menubar, select Cell$\\rightarrow$Run All).\n",
    "\n",
    "Make sure you fill in any place that says `YOUR CODE HERE` or \"YOUR ANSWER HERE\", as well as your name and collaborators below:"
   ]
  },
  {
   "cell_type": "code",
   "execution_count": null,
   "metadata": {},
   "outputs": [],
   "source": [
    "NAME = \"Tianxiao Hu\"\n",
    "COLLABORATORS = \"Sheng Shen\""
   ]
  },
  {
   "cell_type": "markdown",
   "metadata": {},
   "source": [
    "---"
   ]
  },
  {
   "cell_type": "markdown",
   "metadata": {
    "deletable": false,
    "editable": false,
    "nbgrader": {
     "cell_type": "markdown",
     "checksum": "d1374de3165611075a18d83ae18d13af",
     "grade": false,
     "grade_id": "title",
     "locked": true,
     "schema_version": 2,
     "solution": false
    }
   },
   "source": [
    "# HW0: Introductions\n",
    "## Setup, Prerequisites, and Classification\n",
    "## Due Date: Monday 9/3, 11:59PM\n",
    "## Course Policies\n",
    "\n",
    "Here are some important course policies. These are also located at\n",
    "http://www.ds100.org/fa18/.\n",
    "\n",
    "**Collaboration Policy**\n",
    "\n",
    "Data science is a collaborative activity. While you may talk with others about\n",
    "the homework, we ask that you **write your solutions individually**. If you do\n",
    "discuss the assignments with others please **include their names** at the top\n",
    "of your notebook.\n",
    "\n",
    "## This Assignment\n",
    "\n",
    "Welcome to DS100! Before we work our way through the data science lifecycle, we need to ground ourselves in some of the foundations of data science. This assignment will cover your working environment, test prerequisite understanding and help you create your (first?) classification model.\n",
    "\n",
    "One of the purposes of this homework is to help you diagnose your preparedness for the course. You should ask yourself if the math questions are too challenging, or if the coding is confusing. The rest of this course will rely heavily on these foundations and this homework should not be too difficult to complete. If it is, consider reviewing supplementary material such as the DS100 textbook.\n",
    "\n",
    "As you work through this assignment, you will learn:\n",
    "\n",
    "* Python basics, like defining functions.\n",
    "* How to use the `numpy` library to compute with arrays of numbers.\n",
    "* Debugging in python and notebook using pdb\n",
    "* Linear algebra, calculus, probability\n",
    "* Basics of classification using KNN\n",
    "\n",
    "## Score breakdown\n",
    "Question | Points\n",
    "--- | ---\n",
    "1a | 1\n",
    "1b | 1\n",
    "1c | 1\n",
    "1d | 1\n",
    "2a | 0.33\n",
    "2b | 0.33\n",
    "2c | 0.33\n",
    "2d | 1\n",
    "3a | 1\n",
    "3b | 1\n",
    "3c | 2\n",
    "4a | 4\n",
    "4b | 1\n",
    "4c | 2\n",
    "4d | 6\n",
    "4e | 4\n",
    "4f | 2\n",
    "4g | 1\n",
    "4h | 2\n",
    "5 | 6\n",
    "Total | 38"
   ]
  },
  {
   "cell_type": "markdown",
   "metadata": {
    "deletable": false,
    "editable": false,
    "nbgrader": {
     "cell_type": "markdown",
     "checksum": "9ed466789fa6fb3c7e64573f1e554e89",
     "grade": false,
     "grade_id": "running-a-cell",
     "locked": true,
     "schema_version": 2,
     "solution": false
    }
   },
   "source": [
    "### Running a Cell\n",
    "\n",
    "Try running the following cell.  If you are unfamiliar with Jupyter Notebooks consider skimming [this tutorial](http://nbviewer.jupyter.org/github/jupyter/notebook/blob/master/docs/source/examples/Notebook/Notebook%20Basics.ipynb) or selecting **Help -> User Interface Tour** in the menu above. "
   ]
  },
  {
   "cell_type": "code",
   "execution_count": null,
   "metadata": {
    "deletable": false,
    "editable": false,
    "nbgrader": {
     "cell_type": "code",
     "checksum": "4d8dfa808b05395c81a3bf43dbed0f6b",
     "grade": false,
     "grade_id": "print-helloworld",
     "locked": true,
     "schema_version": 2,
     "solution": false
    }
   },
   "outputs": [],
   "source": [
    "print(\"Hello World!\")"
   ]
  },
  {
   "cell_type": "markdown",
   "metadata": {
    "deletable": false,
    "editable": false,
    "nbgrader": {
     "cell_type": "markdown",
     "checksum": "38c507c3623f913c43af1b722e45862e",
     "grade": false,
     "grade_id": "jupyter-shortcuts",
     "locked": true,
     "schema_version": 2,
     "solution": false
    }
   },
   "source": [
    "Even if you are familiar with Jupyter, we strongly encourage you to become proficient with keyboard shortcuts (this will save you time in the future).  To learn about keyboard shortcuts go to **Help -> Keyboard Shortcuts** in the menu above. \n",
    "\n",
    "Here are a few we like:\n",
    "1. `ctrl`+`return` : *Evaluate the current cell*\n",
    "1. `shift`+`return`: *Evaluate the current cell and move to the next*\n",
    "1. `esc` : *command mode* (may need to press before using any of the commands below)\n",
    "1. `a` : *create a cell above*\n",
    "1. `b` : *create a cell below*\n",
    "1. `dd` : *delete a cell*\n",
    "1. `m` : *convert a cell to markdown*\n",
    "1. `y` : *convert a cell to code*"
   ]
  },
  {
   "cell_type": "markdown",
   "metadata": {
    "deletable": false,
    "editable": false,
    "nbgrader": {
     "cell_type": "markdown",
     "checksum": "91ff40b083f9a401418054df96e78b60",
     "grade": false,
     "grade_id": "testing-your-setup",
     "locked": true,
     "schema_version": 2,
     "solution": false
    }
   },
   "source": [
    "### Testing your Setup\n",
    "\n",
    "This cell should run without problems:"
   ]
  },
  {
   "cell_type": "code",
   "execution_count": null,
   "metadata": {
    "deletable": false,
    "editable": false,
    "nbgrader": {
     "cell_type": "code",
     "checksum": "996a8f6425097050e05ac9cfbe898e48",
     "grade": false,
     "grade_id": "all-the-imports",
     "locked": true,
     "schema_version": 2,
     "solution": false
    }
   },
   "outputs": [],
   "source": [
    "import math\n",
    "import numpy as np\n",
    "import matplotlib\n",
    "%matplotlib inline\n",
    "import matplotlib.pyplot as plt\n",
    "plt.style.use('fivethirtyeight')\n",
    "import pandas as pd\n",
    "import skimage\n",
    "import skimage.io\n",
    "import skimage.filters"
   ]
  },
  {
   "cell_type": "markdown",
   "metadata": {
    "deletable": false,
    "editable": false,
    "nbgrader": {
     "cell_type": "markdown",
     "checksum": "7e5c46bc1b0dac8ea834fa95f12a4fba",
     "grade": false,
     "grade_id": "prerequisites",
     "locked": true,
     "schema_version": 2,
     "solution": false
    }
   },
   "source": [
    "---\n",
    "## 1: Prerequisites"
   ]
  },
  {
   "cell_type": "markdown",
   "metadata": {
    "deletable": false,
    "editable": false,
    "nbgrader": {
     "cell_type": "markdown",
     "checksum": "7197ebceec2e3bebc18e11ae7e83424a",
     "grade": false,
     "grade_id": "python-tutorial-links",
     "locked": true,
     "schema_version": 2,
     "solution": false
    }
   },
   "source": [
    "### Python\n",
    "\n",
    "Python is the main programming language we'll use in the course. We expect that you've taken CS61A, CS8, or an equivalent class, so you should be able to explain the following cells. Run them and make sure you understand what is happening in each.\n",
    "\n",
    "If this seems difficult, please review one or more of the following materials.\n",
    "\n",
    "- **[Python Tutorial](https://docs.python.org/3.5/tutorial/)**: Introduction to Python from the creators of Python.\n",
    "- **[Composing Programs Chapter 1](http://composingprograms.com/pages/11-getting-started.html)**: This is more of a introduction to programming with Python.\n",
    "- **[Advanced Crash Course](http://cs231n.github.io/python-numpy-tutorial/)**: A fast crash course which assumes some programming background.\n"
   ]
  },
  {
   "cell_type": "markdown",
   "metadata": {
    "deletable": false,
    "editable": false,
    "nbgrader": {
     "cell_type": "markdown",
     "checksum": "da06b701475ab47674c70bd68c61868f",
     "grade": false,
     "grade_id": "mathematical-expressions",
     "locked": true,
     "schema_version": 2,
     "solution": false
    }
   },
   "source": [
    "<img src=\"launch.png\" width=\"40px\" align=\"left\" float=\"left\"/>\n",
    "\n",
    "#### Mathematical Expressions\n",
    "Note that the rocket icon indicates that you should just run the following cells."
   ]
  },
  {
   "cell_type": "code",
   "execution_count": null,
   "metadata": {
    "deletable": false,
    "editable": false,
    "nbgrader": {
     "cell_type": "code",
     "checksum": "373741ec83109a2bb362b522a6e97858",
     "grade": false,
     "grade_id": "math-sqrt",
     "locked": true,
     "schema_version": 2,
     "solution": false
    }
   },
   "outputs": [],
   "source": [
    "# This is a comment.\n",
    "# In Python, the ** operator performs exponentiation.\n",
    "math.sqrt(math.e ** (-math.pi + 1))"
   ]
  },
  {
   "cell_type": "markdown",
   "metadata": {
    "deletable": false,
    "editable": false,
    "nbgrader": {
     "cell_type": "markdown",
     "checksum": "4c815b031d3f2110bce06230d86b4e95",
     "grade": false,
     "grade_id": "output-and-printing",
     "locked": true,
     "schema_version": 2,
     "solution": false
    }
   },
   "source": [
    "<img src=\"launch.png\" width=\"40px\" align=\"left\" float=\"left\"/>\n",
    "\n",
    "#### Output and Printing"
   ]
  },
  {
   "cell_type": "code",
   "execution_count": null,
   "metadata": {
    "deletable": false,
    "editable": false,
    "nbgrader": {
     "cell_type": "code",
     "checksum": "9ab477866cebf6782c1e5adb03977369",
     "grade": false,
     "grade_id": "why-no-print",
     "locked": true,
     "schema_version": 2,
     "solution": false
    }
   },
   "outputs": [],
   "source": [
    "\"Why didn't this line print?\"\n",
    "\n",
    "print(\"Hello\" + \",\", \"world!\")\n",
    "\n",
    "\"Hello, cell\" + \" output!\""
   ]
  },
  {
   "cell_type": "markdown",
   "metadata": {
    "deletable": false,
    "editable": false,
    "nbgrader": {
     "cell_type": "markdown",
     "checksum": "9008f529ee060485102188d04dcf8821",
     "grade": false,
     "grade_id": "for-loops",
     "locked": true,
     "schema_version": 2,
     "solution": false
    }
   },
   "source": [
    "<img src=\"launch.png\" width=\"40px\" align=\"left\" float=\"left\"/>\n",
    "\n",
    "#### For Loops"
   ]
  },
  {
   "cell_type": "code",
   "execution_count": null,
   "metadata": {
    "deletable": false,
    "editable": false,
    "nbgrader": {
     "cell_type": "code",
     "checksum": "53b1f92b21db1701fb02bc3945fdb329",
     "grade": false,
     "grade_id": "for-loops-code",
     "locked": true,
     "schema_version": 2,
     "solution": false
    }
   },
   "outputs": [],
   "source": [
    "# A for loop repeats a block of code once for each\n",
    "# element in a given collection.\n",
    "for i in range(5):\n",
    "    if i % 2 == 0:\n",
    "        print(2**i)\n",
    "    else:\n",
    "        print(\"Odd power of 2\")"
   ]
  },
  {
   "cell_type": "markdown",
   "metadata": {
    "deletable": false,
    "editable": false,
    "nbgrader": {
     "cell_type": "markdown",
     "checksum": "2df8af36a804511318ad4387cdfb3dd9",
     "grade": false,
     "grade_id": "list-comprehension",
     "locked": true,
     "schema_version": 2,
     "solution": false
    }
   },
   "source": [
    "<img src=\"launch.png\" width=\"40px\" align=\"left\" float=\"left\"/>\n",
    "\n",
    "#### List Comprehension"
   ]
  },
  {
   "cell_type": "code",
   "execution_count": null,
   "metadata": {
    "deletable": false,
    "editable": false,
    "nbgrader": {
     "cell_type": "code",
     "checksum": "b73efbbf915254c428decbb42230921d",
     "grade": false,
     "grade_id": "list-comp-code",
     "locked": true,
     "schema_version": 2,
     "solution": false
    }
   },
   "outputs": [],
   "source": [
    "[str(i) + \" sheep.\" for i in range(1,5)] "
   ]
  },
  {
   "cell_type": "code",
   "execution_count": null,
   "metadata": {
    "deletable": false,
    "editable": false,
    "nbgrader": {
     "cell_type": "code",
     "checksum": "cf2b95d90c0fd3a6754cbeb83a1523c4",
     "grade": false,
     "grade_id": "more-list-comp-code",
     "locked": true,
     "schema_version": 2,
     "solution": false
    }
   },
   "outputs": [],
   "source": [
    "[i for i in range(10) if i % 2 == 0]"
   ]
  },
  {
   "cell_type": "markdown",
   "metadata": {
    "deletable": false,
    "editable": false,
    "nbgrader": {
     "cell_type": "markdown",
     "checksum": "6673b2ceb951cf50f8cc4ff048361bfc",
     "grade": false,
     "grade_id": "defining-functions",
     "locked": true,
     "schema_version": 2,
     "solution": false
    }
   },
   "source": [
    "<img src=\"launch.png\" width=\"40px\" align=\"left\" float=\"left\"/>\n",
    "\n",
    "#### Defining Functions"
   ]
  },
  {
   "cell_type": "code",
   "execution_count": null,
   "metadata": {
    "deletable": false,
    "editable": false,
    "nbgrader": {
     "cell_type": "code",
     "checksum": "661113989cc8f0b9d720538abe72442b",
     "grade": false,
     "grade_id": "add-2-function",
     "locked": true,
     "schema_version": 2,
     "solution": false
    }
   },
   "outputs": [],
   "source": [
    "def add2(x):\n",
    "    \"\"\"This docstring explains what this function does: it adds 2 to a number.\"\"\"\n",
    "    return x + 2"
   ]
  },
  {
   "cell_type": "markdown",
   "metadata": {
    "deletable": false,
    "editable": false,
    "nbgrader": {
     "cell_type": "markdown",
     "checksum": "4f2c8530dd7063447c9abea713112c75",
     "grade": false,
     "grade_id": "get-help",
     "locked": true,
     "schema_version": 2,
     "solution": false
    }
   },
   "source": [
    "<img src=\"launch.png\" width=\"40px\" align=\"left\" float=\"left\"/>\n",
    "\n",
    "#### Getting Help"
   ]
  },
  {
   "cell_type": "code",
   "execution_count": null,
   "metadata": {
    "deletable": false,
    "editable": false,
    "nbgrader": {
     "cell_type": "code",
     "checksum": "5ca8b464f0d81a22dbc80a5d3290933c",
     "grade": false,
     "grade_id": "help-add2",
     "locked": true,
     "schema_version": 2,
     "solution": false
    }
   },
   "outputs": [],
   "source": [
    "help(add2)"
   ]
  },
  {
   "cell_type": "markdown",
   "metadata": {
    "deletable": false,
    "editable": false,
    "nbgrader": {
     "cell_type": "markdown",
     "checksum": "c1077907806f8ef380a64cee76167f90",
     "grade": false,
     "grade_id": "passing-functions",
     "locked": true,
     "schema_version": 2,
     "solution": false
    }
   },
   "source": [
    "<img src=\"launch.png\" width=\"40px\" align=\"left\" float=\"left\"/>\n",
    "\n",
    "#### Passing Functions as Values"
   ]
  },
  {
   "cell_type": "code",
   "execution_count": null,
   "metadata": {
    "deletable": false,
    "editable": false,
    "nbgrader": {
     "cell_type": "code",
     "checksum": "7b21bff1e2ab7845e6e05dc3ba2c077b",
     "grade": false,
     "grade_id": "make-adder",
     "locked": true,
     "schema_version": 2,
     "solution": false
    }
   },
   "outputs": [],
   "source": [
    "def makeAdder(amount):\n",
    "    \"\"\"Make a function that adds the given amount to a number.\"\"\"\n",
    "    def addAmount(x):\n",
    "        return x + amount\n",
    "    return addAmount\n",
    "\n",
    "add3 = makeAdder(3)\n",
    "add3(4)"
   ]
  },
  {
   "cell_type": "code",
   "execution_count": null,
   "metadata": {
    "deletable": false,
    "editable": false,
    "nbgrader": {
     "cell_type": "code",
     "checksum": "fd40615aeeb0790416e16438edfe0009",
     "grade": false,
     "grade_id": "make-adder-curry",
     "locked": true,
     "schema_version": 2,
     "solution": false
    }
   },
   "outputs": [],
   "source": [
    "makeAdder(3)(4)"
   ]
  },
  {
   "cell_type": "markdown",
   "metadata": {
    "deletable": false,
    "editable": false,
    "nbgrader": {
     "cell_type": "markdown",
     "checksum": "b35f26145b8740b161d2b3586e375511",
     "grade": false,
     "grade_id": "anon-function",
     "locked": true,
     "schema_version": 2,
     "solution": false
    }
   },
   "source": [
    "<img src=\"launch.png\" width=\"40px\" align=\"left\" float=\"left\"/>\n",
    "\n",
    "#### Anonymous Functions and Lambdas"
   ]
  },
  {
   "cell_type": "code",
   "execution_count": null,
   "metadata": {
    "deletable": false,
    "editable": false,
    "nbgrader": {
     "cell_type": "code",
     "checksum": "db319326f7568ac22198aac2be52d31c",
     "grade": false,
     "grade_id": "add4-to-5",
     "locked": true,
     "schema_version": 2,
     "solution": false
    }
   },
   "outputs": [],
   "source": [
    "# add4 is very similar to add2, but it's been created using a lambda expression.\n",
    "add4 = lambda x: x + 4\n",
    "add4(5)"
   ]
  },
  {
   "cell_type": "markdown",
   "metadata": {
    "deletable": false,
    "editable": false,
    "nbgrader": {
     "cell_type": "markdown",
     "checksum": "5e01e54f672601cd3011b87219aa95e1",
     "grade": false,
     "grade_id": "recurrsion",
     "locked": true,
     "schema_version": 2,
     "solution": false
    }
   },
   "source": [
    "<img src=\"launch.png\" width=\"40px\" align=\"left\" float=\"left\"/>\n",
    "\n",
    "#### Recursion"
   ]
  },
  {
   "cell_type": "code",
   "execution_count": null,
   "metadata": {
    "deletable": false,
    "editable": false,
    "nbgrader": {
     "cell_type": "code",
     "checksum": "1375f02cbe0d34d7b176de7870af2da6",
     "grade": false,
     "grade_id": "total-fib",
     "locked": true,
     "schema_version": 2,
     "solution": false
    }
   },
   "outputs": [],
   "source": [
    "def fib(n):\n",
    "    if n <= 1:\n",
    "        return 1\n",
    "    else:\n",
    "        # Functions can call themselves recursively.\n",
    "        return fib(n-1) + fib(n-2)\n",
    "\n",
    "fib(6)"
   ]
  },
  {
   "cell_type": "markdown",
   "metadata": {
    "deletable": false,
    "editable": false,
    "nbgrader": {
     "cell_type": "markdown",
     "checksum": "e4e02b2fd7e9ac10583203b98e709df5",
     "grade": false,
     "grade_id": "begin-question1",
     "locked": true,
     "schema_version": 2,
     "solution": false
    }
   },
   "source": [
    "### Question 1\n",
    "\n",
    "#### Question 1a\n",
    "Write a function `nums_reversed` that takes in a positive integer `n` and returns a string\n",
    "containing the numbers 1 through `n` including `n` in reverse order, separated\n",
    "by spaces. For example:\n",
    "\n",
    "    >>> nums_reversed(5)\n",
    "    '5 4 3 2 1'\n",
    "\n",
    "***Note:*** The line `raise NotImplementedError()` indicates that the implementation still needs to be added. This is an exception derived from `RuntimeError`. Please comment out that line when you have implemented the function.\n",
    "\n",
    "<img src=\"code.png\" width=\"75px\" align=\"left\"/> \n",
    "<br/>\n",
    "The code icon indicates that you should complete the following block of code."
   ]
  },
  {
   "cell_type": "code",
   "execution_count": null,
   "metadata": {
    "deletable": false,
    "nbgrader": {
     "cell_type": "code",
     "checksum": "54cc8f567acf9aef5ba9614d0c5315ba",
     "grade": false,
     "grade_id": "num-reversed",
     "locked": false,
     "schema_version": 2,
     "solution": true
    }
   },
   "outputs": [],
   "source": [
    "def nums_reversed(n):\n",
    "    # YOUR CODE HERE\n",
    "    s = str(n)\n",
    "    n = n-1\n",
    "    while(n > 0):\n",
    "        s += \" \" + str(n)\n",
    "        n = n - 1\n",
    "    return s\n",
    "#     raise NotImplementedError()"
   ]
  },
  {
   "cell_type": "code",
   "execution_count": null,
   "metadata": {},
   "outputs": [],
   "source": [
    "nums_reversed(5)"
   ]
  },
  {
   "cell_type": "markdown",
   "metadata": {},
   "source": [
    "Test your code in the cell below."
   ]
  },
  {
   "cell_type": "code",
   "execution_count": null,
   "metadata": {
    "deletable": false,
    "editable": false,
    "nbgrader": {
     "cell_type": "code",
     "checksum": "f9d281b9c7b573e00f9b546494df29ca",
     "grade": true,
     "grade_id": "num-reversed-tests",
     "locked": true,
     "points": 1,
     "schema_version": 2,
     "solution": false
    }
   },
   "outputs": [],
   "source": [
    "assert nums_reversed(5) == '5 4 3 2 1'\n",
    "assert nums_reversed(1) == '1'\n",
    "assert nums_reversed(3) ==  '3 2 1'"
   ]
  },
  {
   "cell_type": "markdown",
   "metadata": {
    "deletable": false,
    "editable": false,
    "nbgrader": {
     "cell_type": "markdown",
     "checksum": "e10d3fdb45628f1b001607b511e70eeb",
     "grade": false,
     "grade_id": "question1b",
     "locked": true,
     "schema_version": 2,
     "solution": false
    }
   },
   "source": [
    "#### Question 1b\n",
    "\n",
    "Write a function `string_splosion` that takes in a non-empty string like\n",
    "`\"Code\"` and returns a long string containing every prefix of the input.\n",
    "For example:\n",
    "\n",
    "    >>> string_splosion('Code')\n",
    "    'CCoCodCode'\n",
    "    >>> string_splosion('data!')\n",
    "    'ddadatdatadata!'\n",
    "    >>> string_splosion('hi')\n",
    "    'hhi'\n",
    "\n",
    "**Hint:** Try to use recursion. Think about how you might answering the following two questions:\n",
    "1. **[Base Case]** What is the `string_splosion` of the empty string?\n",
    "1. **[Inductive Step]** If you had a `string_splosion` function for the first $n-1$ characters of your string how could you extend it to the $n^{th}$ character? For example, `string_splosion(\"Cod\") = \"CCoCod\"` becomes `string_splosion(\"Code\") = \"CCoCodCode\"`.\n",
    "\n",
    "<img src=\"code.png\" width=\"75px\" align=\"left\"/> "
   ]
  },
  {
   "cell_type": "code",
   "execution_count": null,
   "metadata": {
    "deletable": false,
    "nbgrader": {
     "cell_type": "code",
     "checksum": "0e914e56528eea142a988ed922a67fe4",
     "grade": false,
     "grade_id": "string-splosion",
     "locked": false,
     "schema_version": 2,
     "solution": true
    },
    "tags": [
     "solution"
    ]
   },
   "outputs": [],
   "source": [
    "def string_splosion(string):\n",
    "    # YOUR CODE HERE\n",
    "    if string == \"\":\n",
    "        return \"\"\n",
    "    else:\n",
    "        return string_splosion(string[:-1]) + string\n",
    "#     raise NotImplementedError()"
   ]
  },
  {
   "cell_type": "code",
   "execution_count": null,
   "metadata": {},
   "outputs": [],
   "source": [
    "string_splosion(\"Cod\")"
   ]
  },
  {
   "cell_type": "markdown",
   "metadata": {
    "deletable": false,
    "editable": false,
    "nbgrader": {
     "cell_type": "markdown",
     "checksum": "63becdc8c0c65183ddf374793bf012db",
     "grade": false,
     "grade_id": "cell-467154f0825324ae",
     "locked": true,
     "schema_version": 2,
     "solution": false
    }
   },
   "source": [
    "Test your code in the cell below."
   ]
  },
  {
   "cell_type": "code",
   "execution_count": null,
   "metadata": {
    "deletable": false,
    "editable": false,
    "nbgrader": {
     "cell_type": "code",
     "checksum": "d4e0cd50259075d6c13d18b8dd375134",
     "grade": true,
     "grade_id": "string-splosion-test",
     "locked": true,
     "points": 1,
     "schema_version": 2,
     "solution": false
    }
   },
   "outputs": [],
   "source": [
    "assert string_splosion('Code') == 'CCoCodCode'\n",
    "assert string_splosion('fade') == 'ffafadfade'\n",
    "assert string_splosion('Kitten') == 'KKiKitKittKitteKitten'\n",
    "assert string_splosion('data!') == 'ddadatdatadata!'"
   ]
  },
  {
   "cell_type": "markdown",
   "metadata": {
    "deletable": false,
    "editable": false,
    "nbgrader": {
     "cell_type": "markdown",
     "checksum": "9fbe2e0df123b097294f5337307600f1",
     "grade": false,
     "grade_id": "question-1c",
     "locked": true,
     "schema_version": 2,
     "solution": false
    }
   },
   "source": [
    "#### Question 1c\n",
    "\n",
    "Write a function `double100` that takes in a list of integers\n",
    "and returns `True` only if the list has two `100`s next to each other.\n",
    "\n",
    "    >>> double100([100, 2, 3, 100])\n",
    "    False\n",
    "    >>> double100([2, 3, 100, 100, 5])\n",
    "    True\n",
    "\n",
    "<img src=\"code.png\" width=\"75px\" align=\"left\"/> "
   ]
  },
  {
   "cell_type": "code",
   "execution_count": null,
   "metadata": {
    "deletable": false,
    "nbgrader": {
     "cell_type": "code",
     "checksum": "97b8e4a77b5a3f0cc184b6012307fc2c",
     "grade": false,
     "grade_id": "double100",
     "locked": false,
     "schema_version": 2,
     "solution": true
    },
    "tags": [
     "solution"
    ]
   },
   "outputs": [],
   "source": [
    "def double100(nums):\n",
    "    # YOUR CODE HERE\n",
    "    for i in range(len(nums) - 1):\n",
    "        if nums[i] == 100 and nums[i+1] == 100:\n",
    "            return True\n",
    "    return False\n",
    "#     raise NotImplementedError()"
   ]
  },
  {
   "cell_type": "code",
   "execution_count": null,
   "metadata": {},
   "outputs": [],
   "source": [
    "double100([100, 2, 3, 100])"
   ]
  },
  {
   "cell_type": "code",
   "execution_count": null,
   "metadata": {
    "deletable": false,
    "editable": false,
    "nbgrader": {
     "cell_type": "code",
     "checksum": "5ee0a41b904ebc6e94eb29fcff47c039",
     "grade": true,
     "grade_id": "double100-tests",
     "locked": true,
     "points": 1,
     "schema_version": 2,
     "solution": false
    }
   },
   "outputs": [],
   "source": [
    "assert double100([3, 3, 100, 100]) == True\n",
    "assert double100([5, 2, 5, 2]) == False\n",
    "assert double100([4, 2, 4, 100, 100, 5]) == True\n",
    "assert double100([4, 2, 4, 10, 10, 5]) == False"
   ]
  },
  {
   "cell_type": "markdown",
   "metadata": {
    "deletable": false,
    "editable": false,
    "nbgrader": {
     "cell_type": "markdown",
     "checksum": "8a5c561451d775b4a41a5e0f0c04a43a",
     "grade": false,
     "grade_id": "question-1d",
     "locked": true,
     "schema_version": 2,
     "solution": false
    }
   },
   "source": [
    "#### Question 1d\n",
    "Recall the formula for population variance below:\n",
    "\n",
    "$$\\sigma^2 = \\frac{\\sum_{i=1}^N (x_i - \\mu)^2}{N}$$\n",
    "\n",
    "In this question, we'll ask you to compute the population variance of a given list by completing the functions below. For this portion, do not use built in numpy functions; we will use numpy to verify our code."
   ]
  },
  {
   "cell_type": "code",
   "execution_count": null,
   "metadata": {
    "deletable": false,
    "nbgrader": {
     "cell_type": "code",
     "checksum": "fc8b5d83983211bbf198d79d609c616b",
     "grade": false,
     "grade_id": "mean-variance",
     "locked": false,
     "schema_version": 2,
     "solution": true
    }
   },
   "outputs": [],
   "source": [
    "def mean(population):\n",
    "    # Calculate the mean of a population\n",
    "    # YOUR CODE HERE\n",
    "    return sum(population) * 1.0 / len(population)\n",
    "#     raise NotImplementedError()\n",
    "\n",
    "def variance(population):\n",
    "    # Calculate the variance of a population\n",
    "    # YOUR CODE HERE\n",
    "    mean_population = mean(population)\n",
    "    return sum([((i - mean_population) ** 2) for i in population]) * 1.0 / len(population)\n",
    "#     raise NotImplementedError()"
   ]
  },
  {
   "cell_type": "code",
   "execution_count": null,
   "metadata": {
    "deletable": false,
    "editable": false,
    "nbgrader": {
     "cell_type": "code",
     "checksum": "946237af443e30bf022ae24f344c4110",
     "grade": true,
     "grade_id": "mean-variance-test",
     "locked": true,
     "points": 1,
     "schema_version": 2,
     "solution": false
    }
   },
   "outputs": [],
   "source": [
    "from math import isclose\n",
    "\n",
    "population_0 = np.random.randn(100)\n",
    "population_1 = 3 * np.random.randn(100) + 5\n",
    "\n",
    "assert isclose(mean(population_0), np.mean(population_0), abs_tol=1e-6)\n",
    "assert isclose(mean(population_1), np.mean(population_1), abs_tol=1e-6)\n",
    "assert isclose(variance(population_0), np.var(population_0), abs_tol=1e-6)\n",
    "assert isclose(variance(population_1), np.var(population_1), abs_tol=1e-6)"
   ]
  },
  {
   "cell_type": "markdown",
   "metadata": {
    "deletable": false,
    "editable": false,
    "nbgrader": {
     "cell_type": "markdown",
     "checksum": "a70134c46385740d1ae8b1cf128cb13f",
     "grade": false,
     "grade_id": "numpy-and-tables",
     "locked": true,
     "schema_version": 2,
     "solution": false
    }
   },
   "source": [
    "---\n",
    "## 2: NumPy\n",
    "\n",
    "The `NumPy` library lets us do fast, simple computing with numbers in Python. We assume you have already taken Data 8, so you should already be familiar with Numpy. We will not teach Numpy in the course.\n",
    "\n",
    "You should be able to understand the code in the following cells. If not, review the following:\n",
    "\n",
    "* [DS100 Numpy Review](http://ds100.org/fa17/assets/notebooks/numpy/Numpy_Review.html)\n",
    "* [Condensed Numpy Review](http://cs231n.github.io/python-numpy-tutorial/#numpy)\n",
    "* [The Official Numpy Tutorial](https://docs.scipy.org/doc/numpy/user/quickstart.html)\n",
    "* [The Data 8 Textbook Chapter on Numpy](https://www.inferentialthinking.com/chapters/05/1/Arrays)\n",
    "\n"
   ]
  },
  {
   "cell_type": "markdown",
   "metadata": {
    "deletable": false,
    "editable": false,
    "nbgrader": {
     "cell_type": "markdown",
     "checksum": "708e32bc7cfb7ebd772dc4e4b6e40d9c",
     "grade": false,
     "grade_id": "jupyter-pro-tip",
     "locked": true,
     "schema_version": 2,
     "solution": false
    }
   },
   "source": [
    "**Jupyter pro-tip**: Pull up the docs for any function in Jupyter by running a cell with\n",
    "the function name and a `?` at the end:\n",
    "\n",
    "<img src=\"launch.png\" width=\"40px\" align=\"left\" float=\"left\"/>"
   ]
  },
  {
   "cell_type": "code",
   "execution_count": null,
   "metadata": {
    "deletable": false,
    "editable": false,
    "nbgrader": {
     "cell_type": "code",
     "checksum": "b86d7aec77704a4bf2119edcec544f55",
     "grade": false,
     "grade_id": "np-arange-huh",
     "locked": true,
     "schema_version": 2,
     "solution": false
    }
   },
   "outputs": [],
   "source": [
    "np.arange?"
   ]
  },
  {
   "cell_type": "markdown",
   "metadata": {
    "deletable": false,
    "editable": false,
    "nbgrader": {
     "cell_type": "markdown",
     "checksum": "44d5d89f1b30f4a3ed1cf67a33536d0a",
     "grade": false,
     "grade_id": "cell-61d40faa50614fbc",
     "locked": true,
     "schema_version": 2,
     "solution": false
    }
   },
   "source": [
    "You can close the window at the bottom by pressing `esc` several times. "
   ]
  },
  {
   "cell_type": "markdown",
   "metadata": {
    "deletable": false,
    "editable": false,
    "nbgrader": {
     "cell_type": "markdown",
     "checksum": "c31627f3c03967e4deac797b672c0b45",
     "grade": false,
     "grade_id": "jupyter-pro-tip-two",
     "locked": true,
     "schema_version": 2,
     "solution": false
    }
   },
   "source": [
    "**Another Jupyter pro-tip**: Pull up the docs for any function in Jupyter by typing the function\n",
    "name, then `<Shift>-<Tab>` on your keyboard. Super convenient when you forget the order\n",
    "of the arguments to a function. You can press `<Tab>` multiple times to expand the docs.\n",
    "\n",
    "Try it on the function below:"
   ]
  },
  {
   "cell_type": "code",
   "execution_count": null,
   "metadata": {},
   "outputs": [],
   "source": [
    "np.linspace"
   ]
  },
  {
   "cell_type": "markdown",
   "metadata": {
    "deletable": false,
    "editable": false,
    "nbgrader": {
     "cell_type": "markdown",
     "checksum": "977f8cd5cae24b6c249b15afb976a85f",
     "grade": false,
     "grade_id": "instructions-decypher",
     "locked": true,
     "schema_version": 2,
     "solution": false
    }
   },
   "source": [
    "You can use the tips above to help you decipher the following code.\n",
    "\n",
    "<img src=\"launch.png\" width=\"40px\" align=\"left\" float=\"left\"/>"
   ]
  },
  {
   "cell_type": "code",
   "execution_count": null,
   "metadata": {
    "deletable": false,
    "editable": false,
    "nbgrader": {
     "cell_type": "code",
     "checksum": "e4ce1c9dc01fa4b30d2418b1c4e92b16",
     "grade": false,
     "grade_id": "weird-code",
     "locked": true,
     "schema_version": 2,
     "solution": false
    }
   },
   "outputs": [],
   "source": [
    "# Let's take a 20-sided die...\n",
    "NUM_FACES = 20\n",
    "\n",
    "# ...and roll it 4 times\n",
    "rolls = 4\n",
    "\n",
    "# What's the probability that all 4 rolls are different? It's:\n",
    "# 20/20 * 19/20 * 18/20 * 17/20\n",
    "prob_diff = np.prod((NUM_FACES - np.arange(rolls))\n",
    "                    / NUM_FACES)\n",
    "prob_diff"
   ]
  },
  {
   "cell_type": "code",
   "execution_count": null,
   "metadata": {
    "deletable": false,
    "editable": false,
    "nbgrader": {
     "cell_type": "code",
     "checksum": "60f27af129aeac5799ef3b4581171e96",
     "grade": false,
     "grade_id": "more-weird-code",
     "locked": true,
     "schema_version": 2,
     "solution": false
    }
   },
   "outputs": [],
   "source": [
    "# Let's compute that probability for 1 roll, 2 rolls, ..., 20 rolls.\n",
    "# The array ys will contain:\n",
    "# \n",
    "# 20/20\n",
    "# 20/20 * 19/20\n",
    "# 20/20 * 18/20\n",
    "# ...\n",
    "# 20/20 * 19/20 * ... * 1/20\n",
    "\n",
    "xs = np.arange(20)\n",
    "ys = np.cumprod((NUM_FACES - xs) / NUM_FACES)\n",
    "\n",
    "# Python slicing works on arrays too\n",
    "ys[:5]"
   ]
  },
  {
   "cell_type": "code",
   "execution_count": null,
   "metadata": {
    "deletable": false,
    "editable": false,
    "nbgrader": {
     "cell_type": "code",
     "checksum": "711881be7d953e4d944d54d99bb431ed",
     "grade": false,
     "grade_id": "plotting-code",
     "locked": true,
     "schema_version": 2,
     "solution": false
    }
   },
   "outputs": [],
   "source": [
    "# plt is a data plotting library that we will discuss in a later lecture.\n",
    "plt.plot(xs, ys, 'o-')\n",
    "plt.xlabel(\"Num Rolls\")\n",
    "plt.ylabel('P(all different)')"
   ]
  },
  {
   "cell_type": "code",
   "execution_count": null,
   "metadata": {
    "deletable": false,
    "editable": false,
    "nbgrader": {
     "cell_type": "code",
     "checksum": "2724184a772438b66203efc4c3f23fd4",
     "grade": false,
     "grade_id": "total-mystery",
     "locked": true,
     "schema_version": 2,
     "solution": false
    }
   },
   "outputs": [],
   "source": [
    "# Mysterious...\n",
    "mystery = np.exp(-xs ** 2 / (2 * NUM_FACES))\n",
    "mystery"
   ]
  },
  {
   "cell_type": "code",
   "execution_count": null,
   "metadata": {
    "deletable": false,
    "editable": false,
    "nbgrader": {
     "cell_type": "code",
     "checksum": "20f9066104897b311463c85d50739a96",
     "grade": false,
     "grade_id": "another-plot",
     "locked": true,
     "schema_version": 2,
     "solution": false
    }
   },
   "outputs": [],
   "source": [
    "# If you're curious, this is the exponential approximation for our probability:\n",
    "# https://textbook.prob140.org/notebooks-md/15_04_Exponential_Distribution.html\n",
    "plt.plot(xs, ys, 'o-', label=\"All Different\")\n",
    "plt.plot(xs, mystery, 'o-', label=\"Mystery\")\n",
    "plt.xlabel(\"Num Rolls\")\n",
    "plt.ylabel('P(all different)')\n",
    "plt.legend()"
   ]
  },
  {
   "cell_type": "markdown",
   "metadata": {
    "deletable": false,
    "editable": false,
    "nbgrader": {
     "cell_type": "markdown",
     "checksum": "88c632ee11318a4e04bbf84ecd1069b4",
     "grade": false,
     "grade_id": "question2",
     "locked": true,
     "schema_version": 2,
     "solution": false
    }
   },
   "source": [
    "### Question 2\n",
    "\n",
    "To test your understanding of Numpy we will work through some basic image exercises.  In the process we will explore  visual perception and color.\n",
    "\n",
    "Images are 2-dimensional grids of pixels. Each pixel contains 3 values between 0 and 1 that specify how much red, green, and blue go into each pixel.\n",
    "\n",
    "We can create images in NumPy:\n",
    "\n",
    "<img src=\"launch.png\" width=\"40px\" align=\"left\" float=\"left\"/>"
   ]
  },
  {
   "cell_type": "code",
   "execution_count": null,
   "metadata": {
    "deletable": false,
    "editable": false,
    "nbgrader": {
     "cell_type": "code",
     "checksum": "8c73e9d0fa94a1d6473a0e523afaf53f",
     "grade": false,
     "grade_id": "some-array-data",
     "locked": true,
     "schema_version": 2,
     "solution": false
    }
   },
   "outputs": [],
   "source": [
    "simple_image = np.array([\n",
    "    [[  0,   0, 0], [0.5, 0.5, 0.5], [1.0, 1.0, 1.0]], # Grayscale pixels\n",
    "    [[1.0,   0, 0], [  0, 1.0,   0], [  0,   0, 1.0]], # Pure RGB pixels\n",
    "    [[0.5, 0.5, 0], [0.5,   0, 0.5], [  0, 0.5, 0.5]], # Blend of 2 colors\n",
    "])\n",
    "simple_image"
   ]
  },
  {
   "cell_type": "markdown",
   "metadata": {
    "deletable": false,
    "editable": false,
    "nbgrader": {
     "cell_type": "markdown",
     "checksum": "e628e47c54d98dcbec12736a8b4e77b0",
     "grade": false,
     "grade_id": "sk-learn-image",
     "locked": true,
     "schema_version": 2,
     "solution": false
    }
   },
   "source": [
    "We can then use the [`scikit-image`](http://scikit-image.org/) library to display an image:\n",
    "\n",
    "<img src=\"launch.png\" width=\"40px\" align=\"left\" float=\"left\"/>"
   ]
  },
  {
   "cell_type": "code",
   "execution_count": null,
   "metadata": {
    "deletable": false,
    "editable": false,
    "nbgrader": {
     "cell_type": "code",
     "checksum": "75c47cfd39f9175ead15b799989de25a",
     "grade": false,
     "grade_id": "plotting-pixels",
     "locked": true,
     "schema_version": 2,
     "solution": false
    }
   },
   "outputs": [],
   "source": [
    "# Curious how this method works? Try using skimage.io.imshow? to find out.\n",
    "# Or, you can always look at the docs for the method.\n",
    "skimage.io.imshow(simple_image)\n",
    "plt.grid(False) # Disable matplotlib's grid lines"
   ]
  },
  {
   "cell_type": "markdown",
   "metadata": {
    "deletable": false,
    "editable": false,
    "nbgrader": {
     "cell_type": "markdown",
     "checksum": "f06308009f4bfc2e9028f8854dde43e7",
     "grade": false,
     "grade_id": "cell-c9b196813c7e3734",
     "locked": true,
     "schema_version": 2,
     "solution": false
    }
   },
   "source": [
    "We can read in image files using the `skimage.io.imread` method.  \n",
    "\n",
    "*Note that in many image formats (e.g., JPEG) image values are numbers between 0 and 255 corresponding to a byte.  Therefore we divide each pixel value by 255 to obtain numbers between 0 and 1.*  \n",
    "\n",
    "<img src=\"launch.png\" width=\"40px\" align=\"left\" float=\"left\"/>"
   ]
  },
  {
   "cell_type": "code",
   "execution_count": null,
   "metadata": {
    "deletable": false,
    "editable": false,
    "nbgrader": {
     "cell_type": "code",
     "checksum": "c864ac351dcd8ff1fe72f5194f7f81a0",
     "grade": false,
     "grade_id": "perez-has-bad-aim",
     "locked": true,
     "schema_version": 2,
     "solution": false
    }
   },
   "outputs": [],
   "source": [
    "plt.figure(figsize=(20,10))\n",
    "\n",
    "# Some image files (including .jpg files) have pixel values in between\n",
    "# 0 and 255 when read. We divide by 255 to scale the values between 0 and 1:\n",
    "pic = skimage.io.imread('target.jpg')/255\n",
    "\n",
    "\n",
    "skimage.io.imshow(pic)\n",
    "plt.grid(False) # Disable matplotlib's grid lines"
   ]
  },
  {
   "cell_type": "markdown",
   "metadata": {
    "deletable": false,
    "editable": false,
    "nbgrader": {
     "cell_type": "markdown",
     "checksum": "48f89569a4194257390a22e3f0a0dc7d",
     "grade": false,
     "grade_id": "question-2a",
     "locked": true,
     "schema_version": 2,
     "solution": false
    }
   },
   "source": [
    "#### Question 2a\n",
    "\n",
    "Complete the following block of code to plot the Red, Green, and Blue color channels separately.  The resulting images should appear in black and white.\n",
    "\n",
    "* **Hint:** `pic[:, :, 0]` will slice the image to extract the red color channel.  Plotting the resulting matrix will generate a black and white picture.*\n",
    "\n",
    "<img src=\"code.png\" width=\"75px\" align=\"left\"/> \n"
   ]
  },
  {
   "cell_type": "code",
   "execution_count": null,
   "metadata": {
    "deletable": false,
    "nbgrader": {
     "cell_type": "code",
     "checksum": "1aef1ec195d3ec063685002f0c3a0e5f",
     "grade": false,
     "grade_id": "imshowing-you-the-answer",
     "locked": false,
     "schema_version": 2,
     "solution": true
    },
    "tags": [
     "solution"
    ]
   },
   "outputs": [],
   "source": [
    "plt.figure(figsize=(20,10)) \n",
    "channel_names = [\"Red\", \"Green\", \"Blue\"]\n",
    "\n",
    "# Loop through index of each channel\n",
    "for channel in range(3):\n",
    "    # Make a subplot\n",
    "    plt.subplot(1,3,channel+1)\n",
    "    # FINISH THE CODE\n",
    "    # Hint: you should write one line of code that calls\n",
    "    # `skimage.io.imshow`\n",
    "    skimage.io.imshow(pic[:, :, channel])\n",
    "    \n",
    "    # YOUR CODE HERE\n",
    "#     raise NotImplementedError()\n",
    "    \n",
    "    plt.grid(False)\n",
    "    plt.title(channel_names[channel])\n",
    "    plt.suptitle(\"Separate channels of an image\")"
   ]
  },
  {
   "cell_type": "markdown",
   "metadata": {
    "deletable": false,
    "editable": false,
    "nbgrader": {
     "cell_type": "markdown",
     "checksum": "41845020dc0c1edb2ed5b69bef8b4420",
     "grade": false,
     "grade_id": "question2b-or-not-2b",
     "locked": true,
     "schema_version": 2,
     "solution": false
    }
   },
   "source": [
    "#### Question 2b\n",
    "\n",
    "Surprisingly the human eye doesn't see all colors equally.  To demonstrate this we will study how blurring color channels affects image appearance.  First, we will try to blur each color channel individually.  Complete the following block of code using the `skimage.filters.gaussian` blurring function (read the docs) to render a blurry black and white image for each of the color channels.  You should set the standard deviation of the Gaussian blurring kernel `sigma` to 10.\n",
    "\n",
    "<img src=\"code.png\" width=\"75px\" align=\"left\"/> "
   ]
  },
  {
   "cell_type": "code",
   "execution_count": null,
   "metadata": {
    "deletable": false,
    "nbgrader": {
     "cell_type": "code",
     "checksum": "fac3e6e522b4e9cb38be14e4251d0f1b",
     "grade": false,
     "grade_id": "imshow-blur",
     "locked": false,
     "schema_version": 2,
     "solution": true
    },
    "tags": [
     "solution"
    ]
   },
   "outputs": [],
   "source": [
    "plt.figure(figsize=(20,10))\n",
    "\n",
    "sigma = 10\n",
    "\n",
    "# Loop through index of each channel\n",
    "for channel in range(3):\n",
    "    # Make a subplot\n",
    "    plt.subplot(1,3,channel+1)\n",
    "    # FINISH THE CODE \n",
    "    skimage.io.imshow(skimage.filters.gaussian(pic[:, :, channel], sigma=sigma))\n",
    "    # YOUR CODE HERE\n",
    "    \n",
    "#     raise NotImplementedError()\n",
    "    \n",
    "    plt.grid(False)\n",
    "    plt.title(channel_names[channel])\n",
    "    plt.suptitle(\"Blurred channels of an image\")"
   ]
  },
  {
   "cell_type": "markdown",
   "metadata": {
    "deletable": false,
    "editable": false,
    "nbgrader": {
     "cell_type": "markdown",
     "checksum": "e5282370c65176fdc2ba923c80d39e5f",
     "grade": false,
     "grade_id": "question2c",
     "locked": true,
     "schema_version": 2,
     "solution": false
    }
   },
   "source": [
    "#### Question 2c\n",
    "\n",
    "Using the following block of code:\n",
    "\n",
    "```python\n",
    "pic_copy = pic.copy()\n",
    "pic_copy[:, :, channel] = ...\n",
    "skimage.io.imshow(pic_copy)\n",
    "```\n",
    "\n",
    "we can replace a color channel with a different black and white image.  Complete the following block of code to render three different versions of the full color image with just one of the channels blurred.\n",
    "\n",
    "<img src=\"code.png\" width=\"75px\" align=\"left\"/> "
   ]
  },
  {
   "cell_type": "code",
   "execution_count": null,
   "metadata": {
    "deletable": false,
    "nbgrader": {
     "cell_type": "code",
     "checksum": "6f4abc5319ac742387a4a77b9fd1c068",
     "grade": false,
     "grade_id": "blur-the-channel",
     "locked": false,
     "schema_version": 2,
     "solution": true
    },
    "tags": [
     "solution"
    ]
   },
   "outputs": [],
   "source": [
    "plt.figure(figsize=(20,10))\n",
    "\n",
    "sigma = 10\n",
    "\n",
    "# Loop through index of each channel\n",
    "for channel in range(3):\n",
    "    # Make a subplot\n",
    "    plt.subplot(1,3,channel+1)\n",
    "    # FINISH THE CODE\n",
    "    pic_copy = pic.copy()\n",
    "    pic_copy[:, :, channel] = skimage.filters.gaussian(pic[:, :, channel], sigma=sigma)\n",
    "    skimage.io.imshow(pic_copy)\n",
    "    # YOUR CODE HERE\n",
    "#     raise NotImplementedError()\n",
    "    \n",
    "    plt.grid(False)\n",
    "    plt.title(channel_names[channel])\n",
    "    plt.suptitle(\"Blurred channels of an image\")"
   ]
  },
  {
   "cell_type": "code",
   "execution_count": null,
   "metadata": {
    "deletable": false,
    "editable": false,
    "nbgrader": {
     "cell_type": "code",
     "checksum": "58010bd689c5eeb884649bc59b90e9da",
     "grade": true,
     "grade_id": "freepoints",
     "locked": true,
     "points": 1,
     "schema_version": 2,
     "solution": false
    }
   },
   "outputs": [],
   "source": [
    "assert True # We're giving you this free point for 2a, 2b, 2c, but please do the question"
   ]
  },
  {
   "cell_type": "markdown",
   "metadata": {
    "deletable": false,
    "editable": false,
    "nbgrader": {
     "cell_type": "markdown",
     "checksum": "fbdc6529541dfbdb5c5e3b3f9e59027b",
     "grade": false,
     "grade_id": "question2d",
     "locked": true,
     "schema_version": 2,
     "solution": false
    },
    "tags": [
     "written"
    ]
   },
   "source": [
    "#### Question 2d\n",
    "\n",
    "Each image should appear slightly different.  Which one is the blurriest and which is the sharpest?  Write a short description of what you see in the cell below.\n",
    "\n",
    "\n",
    "<img src=\"write.png\" width=\"120px\" align=\"left\" float=\"left\"/> *This icon means you will need to write in text response in the cell below using English.\n",
    "\n",
    "**Hint:** I observe ... .  On possible explanation for this is ... .\n"
   ]
  },
  {
   "cell_type": "markdown",
   "metadata": {
    "deletable": false,
    "nbgrader": {
     "cell_type": "markdown",
     "checksum": "9ec133ce41e685203e5145cbe41d7c59",
     "grade": true,
     "grade_id": "question2d-answer",
     "locked": false,
     "points": 1,
     "schema_version": 2,
     "solution": true
    },
    "tags": [
     "written",
     "solution"
    ]
   },
   "source": [
    "I find the second picture blurriest and the first sharpest. One possible explanation for this is people's eyes are most sensitive to green light and least to red light. Thus, when green channel of a picture is blurred, people will easily tell the difference between blurred picture and the original one."
   ]
  },
  {
   "cell_type": "markdown",
   "metadata": {
    "deletable": false,
    "editable": false,
    "nbgrader": {
     "cell_type": "markdown",
     "checksum": "5ec5990a8e2e9abd8afee4f50471b2af",
     "grade": false,
     "grade_id": "debugging-testing",
     "locked": true,
     "schema_version": 2,
     "solution": false
    }
   },
   "source": [
    "## 3: Debugging and Testing\n",
    "\n",
    "In this course, you will write a significant amount of code and inevitably encounter some bugs in the process. You should feel comfortable reading stack traces, debugging erroneous code, and testing the code you write.\n",
    "\n",
    "Regarding debugging methods, we will be using `pdb` (Python Debugger), linked here: https://docs.python.org/3/library/pdb.html. `pdb` provides an interactive debugger for python programs and works within a notebook. It has a lot of useful features such as setting conditional breakpoints and single stepping at the source line level. \n",
    "\n",
    "We will only be enforcing `pdb` on this first assignment. You can still use print statements or other methods of your choice on other assignments, although when the code becomes increasingly complex you may find it harder to debug without `pdb`. \n",
    "\n",
    "Please walk through the `debugging.ipynb` before proceeding."
   ]
  },
  {
   "cell_type": "markdown",
   "metadata": {
    "deletable": false,
    "editable": false,
    "nbgrader": {
     "cell_type": "markdown",
     "checksum": "9589197ba46758ce5172ee8024ff58da",
     "grade": false,
     "grade_id": "question-3",
     "locked": true,
     "schema_version": 2,
     "solution": false
    }
   },
   "source": [
    "### Question 3\n",
    "The following blocks of code contains some errors. Find the bug and fix it in the same block so that the function does what it is expected to do. Feel free to create new cells to debug and test your code. Once you are confident that your code works, change the _debug to _fixed to run our tests.\n",
    "\n",
    "* **Hint:** Try to use array operations to simplify your code."
   ]
  },
  {
   "cell_type": "markdown",
   "metadata": {
    "deletable": false,
    "editable": false,
    "nbgrader": {
     "cell_type": "markdown",
     "checksum": "57a44dd7e335e0471d25eb5af2564a99",
     "grade": false,
     "grade_id": "question-3a",
     "locked": true,
     "schema_version": 2,
     "solution": false
    }
   },
   "source": [
    "#### Question 3a\n",
    "<img src=\"code.png\" width=\"75px\" align=\"left\"/> "
   ]
  },
  {
   "cell_type": "code",
   "execution_count": null,
   "metadata": {
    "deletable": false,
    "editable": false,
    "nbgrader": {
     "cell_type": "code",
     "checksum": "f68f852e47d5cce525177c02d1d08817",
     "grade": false,
     "grade_id": "multiply-list-debug",
     "locked": true,
     "schema_version": 2,
     "solution": false
    }
   },
   "outputs": [],
   "source": [
    "def multiply_list_debug(some_list, multiplier):\n",
    "    \"\"\"\n",
    "    Given a list and a multiplier, return a list containing each element in the list multiplied by \n",
    "    the multiplier. \n",
    "    You may assume that the lists are well formed and not nested more than once, \n",
    "    ie: \n",
    "        [[1,2,3],[4,5,6]] is valid since it is nested once and each nested list \n",
    "            is of the same type and length,\n",
    "        [[1,2,3,[4,5,6]] is not valid  since it is nested more than once and \n",
    "            each nested list is not of same type\n",
    "    Args:\n",
    "        some_list: a list of integers that may or may not be nested\n",
    "    Returns:\n",
    "        A list (or hint: array) containing each element in the list multipled by the multiplier\n",
    "    e.g.\n",
    "    [1,2,3], 5 should return [5,10,15]\n",
    "    [[1,2,3], [4,5,6], [7,8,9]], 0.5 should return [[0.5,1,1.5],[2,2.5,3],[3.5,4,4.5]]\n",
    "    \"\"\"\n",
    "    some_list_multiplied = some_list * multiplier\n",
    "    return some_list_multiplied"
   ]
  },
  {
   "cell_type": "code",
   "execution_count": null,
   "metadata": {
    "deletable": false,
    "nbgrader": {
     "cell_type": "code",
     "checksum": "d1ddf3c0263664a10c2d552505bbd557",
     "grade": false,
     "grade_id": "multiply-list-fixed",
     "locked": false,
     "schema_version": 2,
     "solution": true
    }
   },
   "outputs": [],
   "source": [
    "def multiply_list_fixed(some_list, multiplier):\n",
    "    # YOUR CODE HERE\n",
    "    some_list_multiplied = np.array(some_list) * multiplier\n",
    "    return some_list_multiplied\n",
    "#     raise NotImplementedError()"
   ]
  },
  {
   "cell_type": "code",
   "execution_count": null,
   "metadata": {
    "deletable": false,
    "editable": false,
    "nbgrader": {
     "cell_type": "code",
     "checksum": "752d6cadb1c1fa04292488d8686787e6",
     "grade": true,
     "grade_id": "multiply-list-test",
     "locked": true,
     "points": 1,
     "schema_version": 2,
     "solution": false
    }
   },
   "outputs": [],
   "source": [
    "assert np.array_equal(multiply_list_fixed([1,2,3],5), [5,10,15])\n",
    "assert np.array_equal(multiply_list_fixed([[1,2,3], [4,5,6], [7,8,9]], 0.5), [[0.5,1,1.5],[2,2.5,3],[3.5,4,4.5]])"
   ]
  },
  {
   "cell_type": "markdown",
   "metadata": {
    "deletable": false,
    "editable": false,
    "nbgrader": {
     "cell_type": "markdown",
     "checksum": "6e93237215606db07998c862105a6d80",
     "grade": false,
     "grade_id": "question-3b",
     "locked": true,
     "schema_version": 2,
     "solution": false
    }
   },
   "source": [
    "#### Question 3b\n",
    "<img src=\"code.png\" width=\"75px\" align=\"left\"/> "
   ]
  },
  {
   "cell_type": "code",
   "execution_count": null,
   "metadata": {
    "deletable": false,
    "editable": false,
    "nbgrader": {
     "cell_type": "code",
     "checksum": "f210e97ee08a64bdf77422e8433f301e",
     "grade": false,
     "grade_id": "under-10-debug",
     "locked": true,
     "schema_version": 2,
     "solution": false
    }
   },
   "outputs": [],
   "source": [
    "def find_all_under_10_debug(some_list):\n",
    "    \"\"\"\n",
    "    Given a list, return a list containing all elements that are strictly less than 10.\n",
    "    You may assume that the lists are well formed and not nested more than once, \n",
    "    ie: \n",
    "        [[1,2,3],[4,5,6]] is valid since it is nested once and each nested list \n",
    "            is of the same type, \n",
    "        [[1,2,3,[4,5,6]] is not valid  since it is nested more than once and \n",
    "            each nested list is not of same type\n",
    "    Args:\n",
    "        some_list: a list of integers that may or may not be nested\n",
    "    Returns:\n",
    "        A list (or array) of all elements that are less than 10\n",
    "    e.g.\n",
    "    [1,2,...,20] should return [1,2,...,9]\n",
    "    [[1,2,3], [4,5,6], [20,21,22]] should return [1,2,3,4,5,6]\n",
    "    \"\"\"\n",
    "    all_under_10 = np.array([])\n",
    "    for item in some_list:\n",
    "        if item < 10:\n",
    "            np.append(all_under_10,item)\n",
    "    return all_under_10"
   ]
  },
  {
   "cell_type": "code",
   "execution_count": null,
   "metadata": {
    "deletable": false,
    "nbgrader": {
     "cell_type": "code",
     "checksum": "6d6d902dfcea57a29c18ccf3f379a244",
     "grade": false,
     "grade_id": "under-10-fixed",
     "locked": false,
     "schema_version": 2,
     "solution": true
    }
   },
   "outputs": [],
   "source": [
    "def find_all_under_10_fixed(some_list):\n",
    "    # YOUR CODE HERE\n",
    "    all_under_10 = np.array([])\n",
    "    for item in np.array(some_list).flatten():\n",
    "        if item < 10:\n",
    "            all_under_10 = np.append(all_under_10, item)\n",
    "    return all_under_10\n",
    "#     raise NotImplementedError()"
   ]
  },
  {
   "cell_type": "code",
   "execution_count": null,
   "metadata": {
    "deletable": false,
    "editable": false,
    "nbgrader": {
     "cell_type": "code",
     "checksum": "ce673434415fe1d8bac4ed76ae4bc3a7",
     "grade": true,
     "grade_id": "under-10-test",
     "locked": true,
     "points": 1,
     "schema_version": 2,
     "solution": false
    }
   },
   "outputs": [],
   "source": [
    "assert np.array_equal(find_all_under_10_fixed(np.arange(20)), np.arange(10))\n",
    "assert np.array_equal(find_all_under_10_fixed([[1,2,3], [4,5,6], [20,21,22]]),[1,2,3,4,5,6])"
   ]
  },
  {
   "cell_type": "markdown",
   "metadata": {
    "deletable": false,
    "editable": false,
    "nbgrader": {
     "cell_type": "markdown",
     "checksum": "da3f991deb87a2fc6769d3624065ab57",
     "grade": false,
     "grade_id": "question-3c",
     "locked": true,
     "schema_version": 2,
     "solution": false
    }
   },
   "source": [
    "#### Question 3c\n",
    "<img src=\"code.png\" width=\"75px\" align=\"left\"/> "
   ]
  },
  {
   "cell_type": "code",
   "execution_count": null,
   "metadata": {
    "deletable": false,
    "editable": false,
    "nbgrader": {
     "cell_type": "code",
     "checksum": "2c08d8c7c6042cb4df09d622678ba5b1",
     "grade": false,
     "grade_id": "cat-debug",
     "locked": true,
     "schema_version": 2,
     "solution": false
    }
   },
   "outputs": [],
   "source": [
    "def cat_debug(cat_data):\n",
    "    \"\"\"\n",
    "    Given a 2d array containing cat names and weights, find the cats that weigh less than 10 lbs \n",
    "    and return a 2d array of those cats after adding 3 lbs to their weights.\n",
    "    Args:\n",
    "        cat_data: a 2d array containing cat names and their corresponding weights\n",
    "    Returns:\n",
    "        A 2d list (or array) of cats less than 10 lbs and their weights + 3 lbs\n",
    "    e.g.\n",
    "    [['Jordan',8],['Michael',11],['Peter', 7]] should return [['Jordan',11],['Peter', 10]]\n",
    "    \n",
    "    Hint: What happens when a list or array contains data of multiple types?\n",
    "    Hint: checkout arr.astype for type casting\n",
    "    \"\"\"\n",
    "    list_of_cats = []\n",
    "    for cat in cat_data:\n",
    "        if cat[1] < 10:\n",
    "            list_of_cats.append(cat)\n",
    "    for cat in list_of_cats:\n",
    "        cat = cat + 3\n",
    "    return list_of_cats"
   ]
  },
  {
   "cell_type": "code",
   "execution_count": null,
   "metadata": {
    "deletable": false,
    "nbgrader": {
     "cell_type": "code",
     "checksum": "db33e89ac36606b43d3d9fcb0e9a4db6",
     "grade": false,
     "grade_id": "cat-fixed",
     "locked": false,
     "schema_version": 2,
     "solution": true
    }
   },
   "outputs": [],
   "source": [
    "def cat_fixed(cat_data):\n",
    "    # YOUR CODE HERE\n",
    "    list_of_cats = []\n",
    "    for cat in cat_data:\n",
    "        if int(cat[1]) < 10:\n",
    "            list_of_cats.append(cat)\n",
    "    for cat in list_of_cats:\n",
    "        cat[1] = int(cat[1]) + 3\n",
    "    return list_of_cats\n",
    "#     raise NotImplementedError()"
   ]
  },
  {
   "cell_type": "code",
   "execution_count": null,
   "metadata": {
    "deletable": false,
    "editable": false,
    "nbgrader": {
     "cell_type": "code",
     "checksum": "5299074b3bade74aa2229f66309585b9",
     "grade": true,
     "grade_id": "cat-test",
     "locked": true,
     "points": 2,
     "schema_version": 2,
     "solution": false
    }
   },
   "outputs": [],
   "source": [
    "cat_data = np.array([['Jordan',8],['Michael',11],['Peter', 7]])\n",
    "assert np.array_equal(cat_fixed(cat_data), [['Jordan',11],['Peter', 10]])"
   ]
  },
  {
   "cell_type": "markdown",
   "metadata": {
    "deletable": false,
    "editable": false,
    "nbgrader": {
     "cell_type": "markdown",
     "checksum": "200857ef89e9bb3d6b140c3f994f580a",
     "grade": false,
     "grade_id": "mv-calc",
     "locked": true,
     "schema_version": 2,
     "solution": false
    }
   },
   "source": [
    "---\n",
    "## 4: Multivariable Calculus, Linear Algebra, and Probability\n",
    "\n",
    "The following questions ask you to recall your knowledge of multivariable calculus, linear algebra, and probability. We will use some of the most fundamental concepts from each discipline in this class, so the following problems should at least seem familiar to you.\n",
    "\n",
    "For the following problems, you should use LaTeX to format your answer. If you aren't familiar with LaTeX, not to worry. It's not hard to use in a Jupyter notebook. Just place your math in between dollar signs:\n",
    "\n",
    "\\\\$ f(x) = 2x \\\\$ becomes $ f(x) = 2x $.\n",
    "\n",
    "If you have a longer equation, use double dollar signs:\n",
    "\n",
    "\\\\$\\\\$ \\sum_{i=0}^n i^2 \\\\$\\\\$ becomes:\n",
    "\n",
    "$$ \\sum_{i=0}^n i^2 $$.\n",
    "\n",
    "Here are some handy notation:\n",
    "\n",
    "| Output | Latex   |\n",
    "|:--|:--|\n",
    "| $$x^{a + b}$$  | `x^{a + b}` |\n",
    "| $$x_{a + b}$$ | `x_{a + b}` |\n",
    "| $$\\frac{a}{b}$$ | `\\frac{a}{b}` |\n",
    "| $$\\sqrt{a + b}$$ | `\\sqrt{a + b}` |\n",
    "| $$\\{ \\alpha, \\beta, \\gamma, \\pi, \\mu, \\sigma^2  \\}$$ | `\\{ \\alpha, \\beta, \\gamma, \\pi, \\mu, \\sigma^2  \\}` |\n",
    "| $$\\sum_{x=1}^{100}$$ | `\\sum_{x=1}^{100}` |\n",
    "| $$\\frac{\\partial}{\\partial x} $$ | `\\frac{\\partial}{\\partial x} ` |\n",
    "| $$\\begin{bmatrix} 2x + 4y \\\\ 4x + 6y^2 \\\\ \\end{bmatrix}$$ | `\\begin{bmatrix} 2x + 4y \\\\ 4x + 6y^2 \\\\ \\end{bmatrix}`|\n",
    "\n",
    "\n",
    "\n",
    "[For more about basic LaTeX formatting, you can read this article.](https://www.sharelatex.com/learn/Mathematical_expressions)\n",
    "\n",
    "If you have trouble with these topics, we suggest reviewing:\n",
    "\n",
    "- [Khan Academy's Multivariable Calculus](https://www.khanacademy.org/math/multivariable-calculus)\n",
    "- [Khan Academy's Linear Algebra](https://www.khanacademy.org/math/linear-algebra)\n",
    "- [Khan Academy's Statistics and Probability](https://www.khanacademy.org/math/statistics-probability)"
   ]
  },
  {
   "cell_type": "markdown",
   "metadata": {
    "deletable": false,
    "editable": false,
    "nbgrader": {
     "cell_type": "markdown",
     "checksum": "fa2e76b9e7d031debb2b0293bc7f11ca",
     "grade": false,
     "grade_id": "question-4a",
     "locked": true,
     "schema_version": 2,
     "solution": false
    }
   },
   "source": [
    "### Question 4\n",
    "\n",
    "#### Question 4a\n",
    "\n",
    "Recall that summation (or sigma notation) is a way of expressing a long sum in a concise way.  Let $a_1, a_2, ..., a_n \\in \\mathbb{R}$ and $x_1, x_2, ..., x_n \\in \\mathbb{R}$ be collections of real numbers.  When you see $x_i$, you can think of the $i$ as an index for the $i^{th}$ $x$.  For example $x_2$ is the second $x$ value in the list $x_1, x_2, ..., x_n$.  We define sigma notation as follows:\n",
    "\n",
    "$$ \\sum_{i=1}^n a_i x_i = a_1 x_1 + a_2 x_2 + ... + a_n x_n $$\n",
    "\t\n",
    "We commonly use sigma notation to compactly write the definition of the arithmetic mean (commonly known as the ``average``):\n",
    "\t\n",
    "$$ \\bar{x} = \\dfrac{1}{n} \\left(x_1 + x_2 + ... + x_n \\right) = \\dfrac{1}{n} \\sum_{i=1}^{n} x_i $$\n",
    "\t\n",
    "**For each of the statements below, either prove that it is true by using definitions or show that it is false by providing a counterexample.**\n",
    "\n",
    "**Note:** <img src=\"write.png\" width=\"120px\" align=\"left\" float=\"left\"/> *This icon means you will need to write in text response in the cell below using English + $\\LaTeX$."
   ]
  },
  {
   "cell_type": "markdown",
   "metadata": {
    "deletable": false,
    "editable": false,
    "nbgrader": {
     "cell_type": "markdown",
     "checksum": "d577b369d690d67fce4ed0f90b1e54cb",
     "grade": false,
     "grade_id": "4a-statement-I",
     "locked": true,
     "schema_version": 2,
     "solution": false
    }
   },
   "source": [
    "#### Statement I\n",
    "$\\dfrac{\\sum_{i=1}^{n} a_i x_i}{\\sum_{i=1}^{n} a_i} = \\sum_{i=1}^n x_i$ \n",
    "\n",
    "<img src=\"write.png\" width=\"75px\" align=\"left\" float=\"left\"/>"
   ]
  },
  {
   "cell_type": "markdown",
   "metadata": {
    "deletable": false,
    "nbgrader": {
     "cell_type": "markdown",
     "checksum": "ca29cbe855f5193c1ce0c2a06c16c620",
     "grade": true,
     "grade_id": "4a-statement-I-answer",
     "locked": false,
     "points": 1,
     "schema_version": 2,
     "solution": true
    }
   },
   "source": [
    "**Counterexample**: assume $n=2, a_1=1, a_2=2, x_1=3, x_2=4$, thus, $\\dfrac{\\sum_{i=1}^{n} a_i x_i}{\\sum_{i=1}^{n} a_i} = \\dfrac{a_1x_1+a_2x_2}{a_1+a_2} = \\dfrac{3 + 8}{1 + 2} = \\dfrac{11}{3}\\neq \\sum_{i=1}^n x_i = 3 + 4 = 7$"
   ]
  },
  {
   "cell_type": "markdown",
   "metadata": {
    "deletable": false,
    "editable": false,
    "nbgrader": {
     "cell_type": "markdown",
     "checksum": "775a96902136130a847aff230825bcd0",
     "grade": false,
     "grade_id": "4a-statement-II",
     "locked": true,
     "schema_version": 2,
     "solution": false
    }
   },
   "source": [
    "#### Statement II\n",
    "$\\sum_{i=1}^{n} x_1 = nx_1$\n",
    "\n",
    "<img src=\"write.png\" width=\"75px\" align=\"left\" float=\"left\"/>"
   ]
  },
  {
   "cell_type": "markdown",
   "metadata": {
    "deletable": false,
    "nbgrader": {
     "cell_type": "markdown",
     "checksum": "c832e4470da5bfc3f5307f4510d6a6f7",
     "grade": true,
     "grade_id": "cell-4a-statement-II-answer",
     "locked": false,
     "points": 1,
     "schema_version": 2,
     "solution": true
    }
   },
   "source": [
    "**Proof**: $\\sum_{i=1}^{n} x_1 = x_1 + x_1 + \\dots + x_1 = nx_1$"
   ]
  },
  {
   "cell_type": "markdown",
   "metadata": {
    "deletable": false,
    "editable": false,
    "nbgrader": {
     "cell_type": "markdown",
     "checksum": "c3234a5de9005b1e94d6a3fe2eb3d024",
     "grade": false,
     "grade_id": "4a-statement-III",
     "locked": true,
     "schema_version": 2,
     "solution": false
    }
   },
   "source": [
    "#### Statement III\n",
    "$\\sum_{i=1}^{n} a_3 x_i = n a_3 \\bar{x} $\n",
    "\n",
    "<img src=\"write.png\" width=\"75px\" align=\"left\" float=\"left\"/>"
   ]
  },
  {
   "cell_type": "markdown",
   "metadata": {
    "deletable": false,
    "nbgrader": {
     "cell_type": "markdown",
     "checksum": "2987f0e32212847be2660394b42d9045",
     "grade": true,
     "grade_id": "4a-statement-III-answer",
     "locked": false,
     "points": 1,
     "schema_version": 2,
     "solution": true
    }
   },
   "source": [
    "**Proof**:  $\\sum_{i=1}^{n} a_3 x_i = a_3 \\sum_{i=1}^{n} x_i = a_3 \\cdot n \\cdot \\dfrac{1}{n} \\left(x_1 + x_2 + ... + x_n \\right) = a_3 \\cdot n \\cdot \\bar{x} = na_3\\bar{x}$\n",
    "\n"
   ]
  },
  {
   "cell_type": "markdown",
   "metadata": {
    "deletable": false,
    "editable": false,
    "nbgrader": {
     "cell_type": "markdown",
     "checksum": "049fb3ab5a10e78d224c201eca2261c2",
     "grade": false,
     "grade_id": "4a-statement-IV",
     "locked": true,
     "schema_version": 2,
     "solution": false
    }
   },
   "source": [
    "#### Statement IV\n",
    "$\\sum_{i=1}^{n} a_i x_i = n \\bar{a} \\bar{x} $\n",
    "\n",
    "<img src=\"write.png\" width=\"75px\" align=\"left\" float=\"left\"/>"
   ]
  },
  {
   "cell_type": "markdown",
   "metadata": {
    "deletable": false,
    "nbgrader": {
     "cell_type": "markdown",
     "checksum": "2e8a69617f465e4fc24f136057eda891",
     "grade": true,
     "grade_id": "4a-statement-IV-answer",
     "locked": false,
     "points": 1,
     "schema_version": 2,
     "solution": true
    }
   },
   "source": [
    "**Counterexample**: assume $n=2, a_1=1, a_2=2, x_1=1, x_2=2$, thus, $\\sum_{i=1}^{n} a_i x_i = 1 + 4 \\neq n \\bar{a} \\bar{x} = 2 \\cdot \\dfrac{3}{2} \\cdot \\dfrac{3}{2} = \\dfrac{9}{2}$"
   ]
  },
  {
   "cell_type": "markdown",
   "metadata": {
    "deletable": false,
    "editable": false,
    "nbgrader": {
     "cell_type": "markdown",
     "checksum": "c5a31918a37704c8e797a56c9b140a0c",
     "grade": false,
     "grade_id": "matrix-note",
     "locked": true,
     "schema_version": 2,
     "solution": false
    }
   },
   "source": [
    "**Note:**\n",
    "\n",
    "We can also generalize the summation concepts above to multiple indices: consider an array of values $x_{ij}$\n",
    "\t\n",
    "$$ \\begin{bmatrix} x_{1,1} & x_{1, 2} & ... & x_{1, n} \\\\ \n",
    "x_{2,1} & x_{2, 2} & ... & x_{2, n} \\\\ \n",
    "\\vdots  & \\vdots   & \\ddots & \\vdots   \\\\ \n",
    "x_{n,1} & x_{n, 2} & ... & x_{n, n} \\\\ \n",
    "\\end{bmatrix} $$\n",
    "\t\n",
    "By convention, the first index refers to the row and the second index references the column.  e.g. $x_{2, 4}$ is the value in the second row and the fourth column.  For multi-indexed arrays like this, we can write down the sum of all the values by evoking sigma notation multiple times:\n",
    "\n",
    "\\begin{align*} \n",
    "\t\\sum_{i=1}^{n} \\sum_{j=1}^{n} x_{i,j}\n",
    "\t&= \\sum_{i=1}^{n} \\left(\\sum_{j=1}^{n} x_{i,j} \\right) \\\\\n",
    "\t&= \\sum_{i=1}^{n} \\left(x_{i,1} + x_{i,2} + ... + x_{i,n}\\right) \\\\\n",
    "\t&= \\sum_{i=1}^{n} x_{i,1} + \\sum_{i=1}^{n} x_{i,2} + ... + \\sum_{i=1}^{n} x_{i,n} \\\\\n",
    "\t&= \\left(x_{1,1} + x_{1,2} + ... + x_{1,n}\\right) + \\left(x_{2,1} + x_{2,2} + ... + x_{2,n}\\right) + ... +  \\left(x_{n,1} + x_{n,2} + ... + x_{n,n}\\right) \\\\\n",
    "\t&= x_{1,1} + x_{1,2} + ... + x_{1,n} + x_{2,1} + x_{2,2} + ... + x_{2,n} + ... + ... + x_{n,1} + x_{n,2} + ... + x_{n,n}\n",
    "\\end{align*}\n",
    "\t"
   ]
  },
  {
   "cell_type": "markdown",
   "metadata": {
    "deletable": false,
    "editable": false,
    "nbgrader": {
     "cell_type": "markdown",
     "checksum": "65e6982410a22075a9cb4a270ca00f29",
     "grade": false,
     "grade_id": "question-4b",
     "locked": true,
     "schema_version": 2,
     "solution": false
    }
   },
   "source": [
    "#### Question 4b\n",
    "Manipulate the following expression to show that it can be written as a sum of powers of $x$ (e.g. $3x + 5x^2 + 8x^3$):\n",
    "\n",
    "$$\n",
    "\t\\ln \\left( 3 e^{2  x} e^{\\frac{1}{x^2}} \\right)\n",
    "$$\n",
    "\n",
    "<img src=\"write.png\" width=\"120px\" align=\"left\" float=\"left\"/> "
   ]
  },
  {
   "cell_type": "markdown",
   "metadata": {
    "deletable": false,
    "nbgrader": {
     "cell_type": "markdown",
     "checksum": "5a55ff949a86153f7e1304526a71c4ea",
     "grade": true,
     "grade_id": "question-4b-answer",
     "locked": false,
     "points": 1,
     "schema_version": 2,
     "solution": true
    }
   },
   "source": [
    "$\\ln \\left( 3 e^{2  x} e^{\\frac{1}{x^2}} \\right) = \\ln 3 + \\ln \\left( e^{2x} \\right) + \\ln \\left( e^{\\frac{1}{x^2}} \\right) = \\ln3 + 2x + \\dfrac{1}{x^2}$"
   ]
  },
  {
   "cell_type": "markdown",
   "metadata": {
    "deletable": false,
    "editable": false,
    "nbgrader": {
     "cell_type": "markdown",
     "checksum": "299b755a4a2eeaa710d828684e1f8ca6",
     "grade": false,
     "grade_id": "question-4c-x",
     "locked": true,
     "schema_version": 2,
     "solution": false
    },
    "tags": [
     "written"
    ]
   },
   "source": [
    "#### Question 4c\n",
    "\n",
    "\n",
    "Suppose we have the following scalar-valued function on $x$ and $y$:\n",
    "\n",
    "$$ f(x, y) = x^2 + 4xy + 2y^3 + e^{-3y} + \\ln(2y) $$\n",
    "\n",
    "Compute the partial derivative with respect to $x$.\n",
    "\n",
    "<img src=\"write.png\" width=\"120px\" align=\"left\" float=\"left\"/> "
   ]
  },
  {
   "cell_type": "markdown",
   "metadata": {
    "deletable": false,
    "nbgrader": {
     "cell_type": "markdown",
     "checksum": "f7d8c745dff26a0406448e6371cac54e",
     "grade": true,
     "grade_id": "question4c-x-answer",
     "locked": false,
     "points": 1,
     "schema_version": 2,
     "solution": true
    },
    "tags": [
     "solution"
    ]
   },
   "source": [
    "$\\dfrac{\\partial f(x, y)}{\\partial x} = 2x + 4y$"
   ]
  },
  {
   "cell_type": "markdown",
   "metadata": {
    "deletable": false,
    "editable": false,
    "nbgrader": {
     "cell_type": "markdown",
     "checksum": "94370c5de1880d0c48756c50d451a49a",
     "grade": false,
     "grade_id": "question4c-y",
     "locked": true,
     "schema_version": 2,
     "solution": false
    },
    "tags": [
     "written"
    ]
   },
   "source": [
    "Now compute the partial derivative of $f(x,y)$ with respect to $y$:\n",
    "\n",
    "<img src=\"write.png\" width=\"75px\" align=\"left\" float=\"left\"/>"
   ]
  },
  {
   "cell_type": "markdown",
   "metadata": {
    "deletable": false,
    "nbgrader": {
     "cell_type": "markdown",
     "checksum": "bd45f90c2c73d02f529a1980d09423f4",
     "grade": true,
     "grade_id": "question4c-y-answer",
     "locked": false,
     "points": 1,
     "schema_version": 2,
     "solution": true
    },
    "tags": [
     "solution"
    ]
   },
   "source": [
    "$\\dfrac{\\partial f(x, y)}{\\partial y} = 4x + 6y^2 - 3e^{-3y} + \\dfrac{1}{y}$"
   ]
  },
  {
   "cell_type": "markdown",
   "metadata": {
    "deletable": false,
    "editable": false,
    "nbgrader": {
     "cell_type": "markdown",
     "checksum": "1f67e8ab814b6dcbcf09165b46f501e6",
     "grade": false,
     "grade_id": "question-4d",
     "locked": true,
     "schema_version": 2,
     "solution": false
    }
   },
   "source": [
    "#### Question 4d\n",
    "\n",
    "Find the value(s) of $x$ which minimize the expressions below. Justify why it is the minimum."
   ]
  },
  {
   "cell_type": "markdown",
   "metadata": {
    "deletable": false,
    "editable": false,
    "nbgrader": {
     "cell_type": "markdown",
     "checksum": "6152208cade08749d5a2f7c31b3351bd",
     "grade": false,
     "grade_id": "question-4d-a",
     "locked": true,
     "schema_version": 2,
     "solution": false
    }
   },
   "source": [
    "#### Part A\n",
    "$\\sum_{i=1}^{10} (i - x)^2$\n",
    "\n",
    "<img src=\"write.png\" width=\"75px\" align=\"left\" float=\"left\"/>\n",
    "\t"
   ]
  },
  {
   "cell_type": "markdown",
   "metadata": {
    "deletable": false,
    "nbgrader": {
     "cell_type": "markdown",
     "checksum": "14dad1df4922bf699615f882deca16d3",
     "grade": true,
     "grade_id": "question-4d-a-answer",
     "locked": false,
     "points": 2,
     "schema_version": 2,
     "solution": true
    }
   },
   "source": [
    "$x = 5.5$ minimize the expression\n",
    "\n",
    "**Proof**: $\\sum_{i=1}^{10} (i - x)^2 = \\sum_{i=1}^{10} \\left( i^2 - 2ix + x^2\\right) = \\sum_{i=1}^{10} i^2 - 2 \\sum_{i=1}^{10} ix + \\sum_{i=1}^{10} x^2 = 10 x^2 - 2x \\cdot \\sum_{i=1}^{10} i + \\sum_{i=1}^{10} i^2 = 10 x^2 - 220xi + \\sum_{i=1}^{10} i^2$\n",
    "\n",
    "Thus, $\\dfrac{d f(x)}{d x} = 20x - 110, x = \\dfrac{110}{20} = 5.5$ minimize the expression."
   ]
  },
  {
   "cell_type": "markdown",
   "metadata": {
    "deletable": false,
    "editable": false,
    "nbgrader": {
     "cell_type": "markdown",
     "checksum": "6f077dd4afaddb41df13978a202072cb",
     "grade": false,
     "grade_id": "question-4d-b",
     "locked": true,
     "schema_version": 2,
     "solution": false
    }
   },
   "source": [
    "#### Part B\n",
    "\n",
    "$\\sin\\left(\\frac{x}{2}\\right)\\cos\\left(\\frac{x}{2}\\right)$\n",
    "\n",
    "<img src=\"write.png\" width=\"75px\" align=\"left\" float=\"left\"/>"
   ]
  },
  {
   "cell_type": "markdown",
   "metadata": {
    "deletable": false,
    "nbgrader": {
     "cell_type": "markdown",
     "checksum": "0f8423fd5592ed05b8fbcc07a0112ec4",
     "grade": true,
     "grade_id": "question-4d-b-answer",
     "locked": false,
     "points": 2,
     "schema_version": 2,
     "solution": true
    }
   },
   "source": [
    "$\\sin\\left(\\frac{x}{2}\\right)\\cos\\left(\\frac{x}{2}\\right) = \\dfrac{1}{2} sinx$\n",
    "\n",
    "Thus, $x = 2k\\pi - \\dfrac{\\pi}{2} (k \\in Z)$ minimize the expression."
   ]
  },
  {
   "cell_type": "markdown",
   "metadata": {
    "deletable": false,
    "editable": false,
    "nbgrader": {
     "cell_type": "markdown",
     "checksum": "d0b4906790c3711eb31c553cf7406b25",
     "grade": false,
     "grade_id": "question-4d-c",
     "locked": true,
     "schema_version": 2,
     "solution": false
    }
   },
   "source": [
    "#### Part C\n",
    "$ \\vert 5 - x \\vert + \\vert 3 - x \\vert + \\vert 1 - x \\vert $\n",
    "\n",
    "<img src=\"write.png\" width=\"75px\" align=\"left\" float=\"left\"/>"
   ]
  },
  {
   "cell_type": "markdown",
   "metadata": {
    "deletable": false,
    "nbgrader": {
     "cell_type": "markdown",
     "checksum": "237736b4e4beaefa4d7ecff81d75d25e",
     "grade": true,
     "grade_id": "question-4d-c-answer",
     "locked": false,
     "points": 2,
     "schema_version": 2,
     "solution": true
    }
   },
   "source": [
    "When $x \\le 1$, $ \\vert 5 - x \\vert + \\vert 3 - x \\vert + \\vert 1 - x \\vert = (5-x) + (3-x) + (1-x) = 9 - 3x$,\n",
    "\n",
    "thus, $x = 1$ minimize the experssion, the minimum value is 6.\n",
    "\n",
    "When $1 \\le x \\le 3$, $ \\vert 5 - x \\vert + \\vert 3 - x \\vert + \\vert 1 - x \\vert = (5-x) + (3-x) + (x-1) = 7 - x$,\n",
    "\n",
    "thus, $x = 3$ minimize the experssion, the minimum value is 4.\n",
    "\n",
    "When $3 \\le x \\le 5$, $ \\vert 5 - x \\vert + \\vert 3 - x \\vert + \\vert 1 - x \\vert = (5-x) + (x-3) + (x-1) = x + 1$,\n",
    "\n",
    "thus, $x = 3$ minimize the experssion, the minimum value is 4.\n",
    "\n",
    "When $x \\gt 5$, $ \\vert 5 - x \\vert + \\vert 3 - x \\vert + \\vert 1 - x \\vert = (x-5) + (x-3) + (x-1) = 3x - 9$,\n",
    "\n",
    "thus, $x = 5$ minimize the experssion, the minimum value is 6.\n",
    "\n",
    "Overall, the minimum value of $ \\vert 5 - x \\vert + \\vert 3 - x \\vert + \\vert 1 - x \\vert$ is 4 when $x = 3$."
   ]
  },
  {
   "cell_type": "markdown",
   "metadata": {
    "deletable": false,
    "editable": false,
    "nbgrader": {
     "cell_type": "markdown",
     "checksum": "d16cdfd178e99cb52214fdc38f3be56f",
     "grade": false,
     "grade_id": "question-4e",
     "locked": true,
     "schema_version": 2,
     "solution": false
    }
   },
   "source": [
    "#### Question 4e\n",
    "Let $ \\sigma(x) = \\dfrac{1}{1+e^{-x}} $"
   ]
  },
  {
   "cell_type": "markdown",
   "metadata": {
    "deletable": false,
    "editable": false,
    "nbgrader": {
     "cell_type": "markdown",
     "checksum": "bdbac19ba13c9d3a8edc9ee696c6a6ac",
     "grade": false,
     "grade_id": "question-4e-a",
     "locked": true,
     "schema_version": 2,
     "solution": false
    }
   },
   "source": [
    "#### Part A\n",
    "Show that $\\sigma(-x) = 1 - \\sigma(x)$ where $\\sigma(x) = \\frac{1}{1+e^{-x}}$.\n",
    "\n",
    "\n",
    "<img src=\"write.png\" width=\"75px\" align=\"left\" float=\"left\"/>"
   ]
  },
  {
   "cell_type": "markdown",
   "metadata": {
    "deletable": false,
    "nbgrader": {
     "cell_type": "markdown",
     "checksum": "76ecf9b887b38a30962e0dd624aa5b09",
     "grade": true,
     "grade_id": "question-4e-a-answer",
     "locked": false,
     "points": 2,
     "schema_version": 2,
     "solution": true
    }
   },
   "source": [
    "**Proof**: $\\sigma(-x) = \\dfrac{1}{1+e^{x}} = \\dfrac{1 \\cdot e^{-x}}{(1+e^{x}) \\cdot e^{-x}} = \\dfrac{e^{-x}}{e^{-x} + 1} = \\dfrac{e^{-x} + 1 - 1}{e^{-x} + 1} = 1 - \\dfrac{1}{e^{-x} +1} = 1 - \\sigma(x)​$"
   ]
  },
  {
   "cell_type": "markdown",
   "metadata": {
    "deletable": false,
    "editable": false,
    "nbgrader": {
     "cell_type": "markdown",
     "checksum": "3509f3f4120c824db200017d36cb9757",
     "grade": false,
     "grade_id": "question-4e-b",
     "locked": true,
     "schema_version": 2,
     "solution": false
    }
   },
   "source": [
    "#### Part B\n",
    "Show that the derivative can be written as:\n",
    "\t\t\n",
    "$$\\frac{d}{dx}\\sigma(x) = \\sigma(x)(1 - \\sigma(x)) $$\n",
    "\n",
    "\n",
    "<img src=\"write.png\" width=\"75px\" align=\"left\" float=\"left\"/>"
   ]
  },
  {
   "cell_type": "markdown",
   "metadata": {
    "deletable": false,
    "nbgrader": {
     "cell_type": "markdown",
     "checksum": "2453afd3f9cf693ed19535489216fca0",
     "grade": true,
     "grade_id": "question-4e-b-answer",
     "locked": false,
     "points": 2,
     "schema_version": 2,
     "solution": true
    }
   },
   "source": [
    "**Proof**: $\\dfrac{d}{dx}\\sigma(x) = - \\dfrac{- e^{-x}}{(1 + e^{-x}) ^ 2} = \\dfrac{e^{-x}}{(1 + e^{-x}) ^ 2} = \\dfrac{e^{-x} \\cdot e^x}{(1 + e^{-x}) \\cdot e^x} \\cdot \\dfrac{1}{1 + e^{-x}} = \\dfrac{1}{(1 + e^{-x})\\cdot(1 + e^{x})} = \\dfrac{1}{(1 + e^{-x})} \\cdot \\dfrac{1}{(1 + e^{x})}$\n",
    "\n",
    "According to Question 4e Part A, $1 - \\sigma(x) = \\sigma(-x) = \\dfrac{1}{1 + e^{-x}}$, thus, $\\dfrac{1}{(1 + e^{-x})} \\cdot \\dfrac{1}{(1 + e^{x})} = \\sigma(x)(1 - \\sigma(x)) $"
   ]
  },
  {
   "cell_type": "markdown",
   "metadata": {
    "deletable": false,
    "editable": false,
    "nbgrader": {
     "cell_type": "markdown",
     "checksum": "6dc92d8709f216bc0fe3631160fe3df0",
     "grade": false,
     "grade_id": "question-4f",
     "locked": true,
     "schema_version": 2,
     "solution": false
    }
   },
   "source": [
    "#### Question 4f\n",
    "Write code to plot the function $f(x) = x^2$ and the derivative of $f$ evaluated at $x=8$ and $x=0$. \n",
    "\n",
    "Set the range of the x-axis to (-15, 15) and the range of the y axis to (-100, 300) and the figure size to (8,8).\n",
    "\n",
    "Your resulting plot should look like this:\n",
    "\n",
    "<img src=\"derivative.png\" width=\"500px\" align=\"center\"/>\n",
    "\n",
    "You should use the `plt.plot` function to plot lines. You may find the following functions useful:\n",
    "\n",
    "- [`plt.plot`](https://matplotlib.org/api/_as_gen/matplotlib.pyplot.plot.html)\n",
    "- [`plt.figure(figsize=..)`](https://stackoverflow.com/questions/332289/how-do-you-change-the-size-of-figures-drawn-with-matplotlib)\n",
    "- [`plt.ylim(..)`](https://matplotlib.org/api/_as_gen/matplotlib.pyplot.ylim.html)\n",
    "- [`plt.axhline(..)`](https://matplotlib.org/api/_as_gen/matplotlib.pyplot.hlines.html)"
   ]
  },
  {
   "cell_type": "markdown",
   "metadata": {
    "deletable": false,
    "editable": false,
    "nbgrader": {
     "cell_type": "markdown",
     "checksum": "e835a2fa56b636673f40750201e25fc3",
     "grade": false,
     "grade_id": "cell-b9242427aeffd330",
     "locked": true,
     "schema_version": 2,
     "solution": false
    }
   },
   "source": [
    "<img src=\"code.png\" width=\"75px\" align=\"left\"/>  "
   ]
  },
  {
   "cell_type": "code",
   "execution_count": null,
   "metadata": {
    "deletable": false,
    "nbgrader": {
     "cell_type": "code",
     "checksum": "e70c82b9780be5fb29d89aeab0eac038",
     "grade": true,
     "grade_id": "question-4f-code",
     "locked": false,
     "points": 2,
     "schema_version": 2,
     "solution": true
    }
   },
   "outputs": [],
   "source": [
    "def f(x):\n",
    "    # YOUR CODE HERE\n",
    "    return x ** 2\n",
    "#     raise NotImplementedError()\n",
    "    \n",
    "def df(x):\n",
    "    # YOUR CODE HERE\n",
    "    return 2 * x\n",
    "#     raise NotImplementedError()\n",
    "\n",
    "def plot(f, df):\n",
    "    # YOUR CODE HERE\n",
    "    plt.figure(figsize=(8, 8))\n",
    "    x = np.arange(-15, 16, 1)\n",
    "    plt.xlim(-15, 15)\n",
    "    plt.ylim(-100, 300)\n",
    "    plt.plot(x, f(x))\n",
    "    plt.plot(x, df(0) * x + 0)\n",
    "    plt.plot(x, df(8) * x - 64)\n",
    "#     raise NotImplementedError()\n",
    "\n",
    "plot(f, df)"
   ]
  },
  {
   "cell_type": "markdown",
   "metadata": {
    "deletable": false,
    "editable": false,
    "nbgrader": {
     "cell_type": "markdown",
     "checksum": "161bc0609ad22b5bff165627f32d86dc",
     "grade": false,
     "grade_id": "question-4g",
     "locked": true,
     "schema_version": 2,
     "solution": false
    }
   },
   "source": [
    "#### Question 4g\n",
    "How can we interpret what the derivative of a function is using this plot?\n",
    "\n",
    "<img src=\"write.png\" width=\"75px\" align=\"left\"/> \n"
   ]
  },
  {
   "cell_type": "markdown",
   "metadata": {
    "deletable": false,
    "nbgrader": {
     "cell_type": "markdown",
     "checksum": "ee2619c840c7195d7b81c866147b678b",
     "grade": true,
     "grade_id": "question-4g-answer",
     "locked": false,
     "points": 1,
     "schema_version": 2,
     "solution": true
    }
   },
   "source": [
    "The derivative of a function is the slope of the tangent line to the graph of the function at that point."
   ]
  },
  {
   "cell_type": "markdown",
   "metadata": {
    "deletable": false,
    "editable": false,
    "nbgrader": {
     "cell_type": "markdown",
     "checksum": "a61db43b821227037cfff5a75870b3be",
     "grade": false,
     "grade_id": "question-4h",
     "locked": true,
     "schema_version": 2,
     "solution": false
    }
   },
   "source": [
    "#### Question 4h\n",
    "\n",
    "Consider the following scenario:\n",
    "\n",
    "Only $1\\%$ of 40-year-old women who participate in a routine mammography test have breast cancer. $80\\%$ of women who have breast cancer will test positive, but $9.6\\%$ of women who don’t have breast cancer will also get positive tests. \n",
    "\n",
    "Suppose we know that a woman of this age tested positive in a routine screening. What is the probability that she actually has breast cancer?\n",
    "\n",
    "**Hint:** Try to use Bayes' rule.\n",
    "\n",
    "<img src=\"write.png\" width=\"75px\" align=\"left\" float=\"left\"/>"
   ]
  },
  {
   "cell_type": "markdown",
   "metadata": {
    "deletable": false,
    "nbgrader": {
     "cell_type": "markdown",
     "checksum": "83eb4ea6544390a7717ae2cfb0f163ba",
     "grade": true,
     "grade_id": "question-4h-answer",
     "locked": false,
     "points": 2,
     "schema_version": 2,
     "solution": true
    }
   },
   "source": [
    "$A$ = has breast cancer, $B$ = tested positive.\n",
    "\n",
    "$P(A | B) = \\dfrac{P(A) \\cdot P(B | A)}{P(B)} = \\dfrac{P(A) \\cdot P(B | A)}{P(A) \\cdot P(B | A) + P(\\bar{A}) \\cdot P(B | \\bar{A})} = \\dfrac{0.01 \\cdot 0.8}{0.01 \\cdot 0.8 + 0.99 \\cdot 0.096} = 7.76\\%$"
   ]
  },
  {
   "cell_type": "markdown",
   "metadata": {
    "deletable": false,
    "editable": false,
    "nbgrader": {
     "cell_type": "markdown",
     "checksum": "9f4b3a7b640555bb34704818d8fea533",
     "grade": false,
     "grade_id": "classification",
     "locked": true,
     "schema_version": 2,
     "solution": false
    }
   },
   "source": [
    "---\n",
    "## 5: Basic Classification\n",
    "\n",
    "Suppose we have a dataset containing two different classes, class A and class B, visualized below as purple dots and yellow dots. Let's implement basic K nearest neighbors classifier that classifies a point of interest by finding the K nearest neighbors. Recall the K-NN algorithm:\n",
    "\n",
    "Given an example point to classify and the population we are querying from,\n",
    "\n",
    "1. Find the distance between the example point and each\n",
    "    point in the data set\n",
    "    \n",
    "2. Augment the data table with a column\n",
    "    containing all the distances to the example point\n",
    "    \n",
    "3. Sort the augmented table in increasing order of the\n",
    "    distances to the example point\n",
    "\n",
    "4. Take the top k rows of the sorted table to get the K nearest neighbors"
   ]
  },
  {
   "cell_type": "markdown",
   "metadata": {
    "deletable": false,
    "editable": false,
    "nbgrader": {
     "cell_type": "markdown",
     "checksum": "b7e12230a08cb350e4ef7316ac49b5cf",
     "grade": false,
     "grade_id": "cell-a4f190afe92a9cea",
     "locked": true,
     "schema_version": 2,
     "solution": false
    }
   },
   "source": [
    "<img src=\"launch.png\" width=\"40px\" align=\"left\" float=\"left\"/>"
   ]
  },
  {
   "cell_type": "code",
   "execution_count": null,
   "metadata": {
    "deletable": false,
    "editable": false,
    "nbgrader": {
     "cell_type": "code",
     "checksum": "9a7dd2d2f92e3982841c7917e1da17be",
     "grade": false,
     "grade_id": "dataset-code",
     "locked": true,
     "schema_version": 2,
     "solution": false
    }
   },
   "outputs": [],
   "source": [
    "# Code to visualize the dataset\n",
    "class_A = 0.5 * np.random.randn(100, 2)\n",
    "class_B = 0.5 * np.random.randn(100, 2) + (2, 2)\n",
    "class_A = np.append(class_A, np.zeros((100, 1)), axis=1)\n",
    "class_B = np.append(class_B, np.ones((100,1)), axis=1)\n",
    "population = np.append(class_A, class_B, axis=0)\n",
    "plt.figure(figsize=(10,10))\n",
    "plt.axis('equal')\n",
    "plt.scatter(population[:,0], population[:,1], c=population[:,2])\n",
    "plt.title('Two Class Dataset')"
   ]
  },
  {
   "cell_type": "markdown",
   "metadata": {
    "deletable": false,
    "editable": false,
    "nbgrader": {
     "cell_type": "markdown",
     "checksum": "3bbab10e26487f3a542c1d2503a3de4e",
     "grade": false,
     "grade_id": "question-5",
     "locked": true,
     "schema_version": 2,
     "solution": false
    }
   },
   "source": [
    "### Question 5\n",
    "\n",
    "Fill in the functions `distance` and `getNeighbors` below, and test your code against the sklearn KNN classifier (write tests to see that your `getNeighbors` finds the same neighbors as the sklearn version). You must write at least 2 test cases with one example for each class.\n",
    "\n",
    "Sklearn KNN: http://scikit-learn.org/stable/modules/generated/sklearn.neighbors.KNeighborsClassifier.html\n",
    "\n",
    "<img src=\"code.png\" width=\"75px\" align=\"left\"/>  "
   ]
  },
  {
   "cell_type": "code",
   "execution_count": null,
   "metadata": {
    "deletable": false,
    "nbgrader": {
     "cell_type": "code",
     "checksum": "0f1dea9263dcbc01ab9ecfba2d5aa908",
     "grade": true,
     "grade_id": "question-5-code",
     "locked": false,
     "points": 6,
     "schema_version": 2,
     "solution": true
    }
   },
   "outputs": [],
   "source": [
    "import operator\n",
    "from sklearn.neighbors import KNeighborsClassifier\n",
    "from typing import Union\n",
    "\n",
    "def distance(p1: np.ndarray, p2: np.ndarray) -> Union[float, int]:\n",
    "    \"\"\"\n",
    "    Return the euclidean distance between two points p1 and p2.\n",
    "    \n",
    "    Shape:\n",
    "        - p1 and p2 are expected to have shape (1,2)\n",
    "    \n",
    "    >>> p1 = np.array([1.2, 2])\n",
    "    >>> p2 = np.array([2, 2])\n",
    "    >>> distance(p1, p2)\n",
    "    0.8\n",
    "    >>> distance(p1, p1)\n",
    "    0 \n",
    "    \"\"\"\n",
    "    # YOUR CODE HERE\n",
    "    return np.sqrt((p1[0] - p2[0]) ** 2 + (p1[1] - p2[1]) ** 2)\n",
    "#     raise NotImplementedError()\n",
    "\n",
    "def get_neighbors(example: np.ndarray, population: np.ndarray, k: int=5):\n",
    "    \"\"\"\n",
    "    For a given example, return the k nearest neighbors in the given population as a np.array.\n",
    "    Each element of the population array should have the x-coordinate, the y-coordinate, and the class.\n",
    "    \n",
    "    Shape:\n",
    "        - example is a point, with shape (1,1,2)\n",
    "        - population is a 2d array with shape (N, 3). N is the total number of points.\n",
    "          The first two column represent the x and y coordinates of the points. \n",
    "          The third column represent the class of each point. \n",
    "    \n",
    "    >>> example = np.array([[1, 1]])\n",
    "    >>> population = np.array([\n",
    "            [0, 0, 0], # point at coordinate (0, 0) belongs to class 0 \n",
    "            [100, 100, 1] # point at coordinate (100, 100) belongs to class 1\n",
    "        ])\n",
    "    >>> get_neighbors(example, population, k=1)\n",
    "    np.array([\n",
    "        [0, 0, 0] # point at coordinate (0, 0) is closet to example at (1, 1)\n",
    "    ])\n",
    "    \"\"\"\n",
    "    # YOUR CODE HERE\n",
    "    point = example[0]\n",
    "    dis = [distance(point, i[:2]) for i in population]\n",
    "    index = np.argsort(dis)[:k]\n",
    "    return np.array([population[i] for i in index])\n",
    "#     raise NotImplementedError()\n",
    "\n",
    "def test(example, population, k):\n",
    "    \"\"\"\n",
    "    Compare your results against the sklearn KNN classifier.\n",
    "    \n",
    "    This function should create a sklearn KNeighborsClassifier and verify\n",
    "    that get_neighbors method returns the same result as the KNeighborsClassifier.\n",
    "    \n",
    "    >>> example = np.array([[1, 1]])\n",
    "    >>> population = np.array([\n",
    "            [0, 0, 0], # point at coordinate (0, 0) belongs to class 0 \n",
    "            [100, 100, 1] # point at coordinate (100, 100) belongs to class 1\n",
    "        ])\n",
    "    >>> # Provided get_neighbors implemented correctly\n",
    "    >>> test(example, population, k=1)\n",
    "    True\n",
    "    \"\"\"\n",
    "    # YOUR CODE HERE\n",
    "    clf = KNeighborsClassifier(n_neighbors=k)\n",
    "    clf.fit(population[:, :2], population[:, 2])\n",
    "    clf_res = clf.predict(example)\n",
    "    \n",
    "    my_neighbors = get_neighbors(example, population, k)\n",
    "    vote_0 = len(np.array(my_neighbors[:2]) == 0)\n",
    "    vote_1 = len(np.array(my_neighbors[:2]) == 1)\n",
    "    my_res = [0.] if vote_0 > vote_1 else [1.]\n",
    "    # clf_res and my_res are nd.array type\n",
    "    return clf_res[0] == my_res[0]\n",
    "    \n",
    "#     raise NotImplementedError()\n",
    "\n",
    "# YOUR TESTS HERE\n",
    "\n",
    "test([[0, 0]], population, 5)\n",
    "test([[2, 2]], population, 5)"
   ]
  },
  {
   "cell_type": "markdown",
   "metadata": {
    "deletable": false,
    "editable": false,
    "nbgrader": {
     "cell_type": "markdown",
     "checksum": "0976f8b94b8ced80cb7e02db87124311",
     "grade": false,
     "grade_id": "cell-7c04df4e51ed2770",
     "locked": true,
     "schema_version": 2,
     "solution": false
    }
   },
   "source": [
    "If your code is written properly, the two plots below should plot the point of interest, example_A and example_B, (red) and the K nearest neighbors (green). It should look SIMILAR to the two plots below.\n",
    "\n",
    "<img src=\"class_A.png\" width=\"400px\" align=\"left\"/>\n",
    "<img src=\"class_B.png\" width=\"400px\" align=\"right\"/>"
   ]
  },
  {
   "cell_type": "markdown",
   "metadata": {},
   "source": [
    "<img src=\"launch.png\" width=\"40px\" align=\"left\"/>"
   ]
  },
  {
   "cell_type": "code",
   "execution_count": null,
   "metadata": {
    "deletable": false,
    "editable": false,
    "nbgrader": {
     "cell_type": "code",
     "checksum": "f61403b4ac5e117edd5558f042cf724e",
     "grade": false,
     "grade_id": "question-5-plot",
     "locked": true,
     "schema_version": 2,
     "solution": false
    }
   },
   "outputs": [],
   "source": [
    "example_A = [[0, 0]]\n",
    "example_B = [[2, 2]]\n",
    "\n",
    "neighbors_A = get_neighbors(example_A, population, k=10)\n",
    "plt.figure(figsize=(10,10))\n",
    "plt.axis('equal')\n",
    "plt.scatter(population[:,0], population[:,1], c=population[:,2])\n",
    "plt.scatter(neighbors_A[:,0], neighbors_A[:,1], c='g')\n",
    "plt.scatter(0,0,c='r')\n",
    "plt.title('Class A Example')\n",
    "plt.show()\n",
    "\n",
    "neighbors_B = get_neighbors(example_B, population, k=10)\n",
    "plt.figure(figsize=(10,10))\n",
    "plt.axis('equal')\n",
    "plt.scatter(population[:,0], population[:,1], c=population[:,2])\n",
    "plt.scatter(neighbors_B[:,0], neighbors_B[:,1], c='g')\n",
    "plt.scatter(2,2,c='r')\n",
    "plt.title('Class B Example')\n",
    "plt.show()"
   ]
  },
  {
   "cell_type": "markdown",
   "metadata": {},
   "source": [
    "## Submission\n",
    "\n",
    "You're done!\n",
    "\n",
    "Before submitting this assignment, ensure to:\n",
    "\n",
    "1. Restart the Kernel (in the menubar, select Kernel->Restart & Run All)\n",
    "2. Validate the notebook by clicking the \"Validate\" button\n",
    "\n",
    "Finally, make sure to **submit** the assignment via the Assignments tab in Datahub"
   ]
  }
 ],
 "metadata": {
  "kernelspec": {
   "display_name": "Python 3",
   "language": "python",
   "name": "python3"
  },
  "language_info": {
   "codemirror_mode": {
    "name": "ipython",
    "version": 3
   },
   "file_extension": ".py",
   "mimetype": "text/x-python",
   "name": "python",
   "nbconvert_exporter": "python",
   "pygments_lexer": "ipython3"
  },
  "toc": {
   "colors": {
    "hover_highlight": "#DAA520",
    "running_highlight": "#FF0000",
    "selected_highlight": "#FFD700"
   },
   "moveMenuLeft": true,
   "nav_menu": {
    "height": "512px",
    "width": "252px"
   },
   "navigate_menu": true,
   "number_sections": true,
   "sideBar": true,
   "threshold": 4,
   "toc_cell": true,
   "toc_section_display": "none",
   "toc_window_display": true
  }
 },
 "nbformat": 4,
 "nbformat_minor": 2
}
